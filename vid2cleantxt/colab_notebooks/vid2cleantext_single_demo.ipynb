{
  "cells": [
    {
      "cell_type": "markdown",
      "metadata": {
        "id": "view-in-github",
        "colab_type": "text"
      },
      "source": [
        "<a href=\"https://colab.research.google.com/github/pszemraj/vid2cleantxt/blob/master/vid2cleantxt/colab_notebooks/vid2cleantext_single_demo.ipynb\" target=\"_parent\"><img src=\"https://colab.research.google.com/assets/colab-badge.svg\" alt=\"Open In Colab\"/></a>"
      ]
    },
    {
      "cell_type": "markdown",
      "metadata": {
        "id": "oiurzXGg8DyC"
      },
      "source": [
        "# vid2cleantxt - Demo (single file)\n",
        "\n",
        "> PURPOSE: MVP demo of vid2cleantxt, transcribes a single media file that is downloaded from a URL\n",
        "\n",
        "- developed as part of the [vid2cleantxt](https://github.com/pszemraj/vid2cleantxt) repo\n",
        "- by [Peter Szemraj](https://github.com/pszemraj)\n",
        "\n",
        "---\n",
        "\n"
      ]
    },
    {
      "cell_type": "code",
      "execution_count": null,
      "metadata": {
        "cellView": "form",
        "id": "mIZn1aQe1rYk",
        "colab": {
          "base_uri": "https://localhost:8080/"
        },
        "outputId": "91f5c9b6-3f4e-45a0-ee7d-29b979af0bf8"
      },
      "outputs": [
        {
          "output_type": "stream",
          "name": "stdout",
          "text": [
            "Fri Jan 28 05:01:24 2022       \n",
            "+-----------------------------------------------------------------------------+\n",
            "| NVIDIA-SMI 495.46       Driver Version: 460.32.03    CUDA Version: 11.2     |\n",
            "|-------------------------------+----------------------+----------------------+\n",
            "| GPU  Name        Persistence-M| Bus-Id        Disp.A | Volatile Uncorr. ECC |\n",
            "| Fan  Temp  Perf  Pwr:Usage/Cap|         Memory-Usage | GPU-Util  Compute M. |\n",
            "|                               |                      |               MIG M. |\n",
            "|===============================+======================+======================|\n",
            "|   0  Tesla V100-SXM2...  Off  | 00000000:00:04.0 Off |                    0 |\n",
            "| N/A   32C    P0    24W / 300W |      0MiB / 16160MiB |      0%      Default |\n",
            "|                               |                      |                  N/A |\n",
            "+-------------------------------+----------------------+----------------------+\n",
            "                                                                               \n",
            "+-----------------------------------------------------------------------------+\n",
            "| Processes:                                                                  |\n",
            "|  GPU   GI   CI        PID   Type   Process name                  GPU Memory |\n",
            "|        ID   ID                                                   Usage      |\n",
            "|=============================================================================|\n",
            "|  No running processes found                                                 |\n",
            "+-----------------------------------------------------------------------------+\n"
          ]
        }
      ],
      "source": [
        "#@title print out GPU info\n",
        "#@markdown this is the Colab-allocated GPU. \n",
        "#@markdown - <font color=\"orange\"> If the output here says it fails, no\n",
        "#@markdown GPU is being used. go to runtime at the top of your colab to set runtime to GPU.\n",
        "#@markdown - To change runtime, go to Runtime->Change Runtime Type and set Hardware Acceleration to GPU </font>\n",
        "\n",
        "\n",
        "!nvidia-smi"
      ]
    },
    {
      "cell_type": "markdown",
      "metadata": {
        "id": "2sVrAUaTCCWx"
      },
      "source": [
        "# setup"
      ]
    },
    {
      "cell_type": "code",
      "execution_count": null,
      "metadata": {
        "cellView": "form",
        "id": "LrDWdEzv3LaX"
      },
      "outputs": [],
      "source": [
        "#@markdown add auto-Colab formatting with `IPython.display`\n",
        "from IPython.display import HTML, display\n",
        "# colab formatting\n",
        "def set_css():\n",
        "    display(\n",
        "        HTML(\n",
        "            \"\"\"\n",
        "  <style>\n",
        "    pre {\n",
        "        white-space: pre-wrap;\n",
        "    }\n",
        "  </style>\n",
        "  \"\"\"\n",
        "        )\n",
        "    )\n",
        "\n",
        "get_ipython().events.register(\"pre_run_cell\", set_css)"
      ]
    },
    {
      "cell_type": "code",
      "execution_count": null,
      "metadata": {
        "cellView": "form",
        "id": "edpWDhRuYSNr",
        "colab": {
          "base_uri": "https://localhost:8080/",
          "height": 103
        },
        "outputId": "18bdbc88-10d2-4079-a322-3a7ccbbb9edf"
      },
      "outputs": [
        {
          "output_type": "display_data",
          "data": {
            "text/html": [
              "\n",
              "  <style>\n",
              "    pre {\n",
              "        white-space: pre-wrap;\n",
              "    }\n",
              "  </style>\n",
              "  "
            ],
            "text/plain": [
              "<IPython.core.display.HTML object>"
            ]
          },
          "metadata": {}
        },
        {
          "output_type": "stream",
          "name": "stdout",
          "text": [
            "Will use the following as directory/file: \n",
            "/content/vid2cleantxt_demo\n",
            "Using the URL as the source for video files.\n",
            "Videos will be saved here: \n",
            "/content/downloaded_media\n"
          ]
        }
      ],
      "source": [
        "#@title setup inputs and outputs\n",
        "#@markdown - <font color=\"orange\"> **This is where you setup the input media.**</font>\n",
        "\n",
        "#@markdown - optionally, set `download_output_files` to `True` to download everything\n",
        "#@markdown as a zip file. \n",
        "import os\n",
        "from os.path import join\n",
        "from google.colab import files\n",
        "directory = \"/content/vid2cleantxt_demo\"  \n",
        "# set to false if you don't want it to download a zipped file of all the text\n",
        "download_output_files = True  # @param {type:\"boolean\"}\n",
        "use_url = True  \n",
        "URL_of_media = \"https://www.dropbox.com/s/q2gu4ik4h8zltpo/President%20Kennedy%27s%201962%20Speech%20on%20the%20US%20Space%20Program%20%20C-SPAN%20Classroom.mp4?dl=1\"  # @param {type:\"string\"}\n",
        "#@markdown for the sake of **this notebook** the URL is assumed to point to a **single media file**\n",
        "#@markdown i.e., if the link is pasted into your browser, it will immediately download a media file\n",
        "print(\"Will use the following as directory/file: \")\n",
        "print(directory)\n",
        "\n",
        "URL_save_folder = join(os.getcwd(), \"downloaded_media\")\n",
        "os.makedirs(URL_save_folder, exist_ok=True)\n",
        "\n",
        "print(\"Using the URL as the source for video files.\")\n",
        "print(\"Videos will be saved here: \\n{}\".format(URL_save_folder))\n",
        "from datetime import datetime\n",
        "\n",
        "run_start = datetime.now()\n",
        "tag_date = \"started_\" + run_start.strftime(\"%m/%d/%Y, %H-%M\")"
      ]
    },
    {
      "cell_type": "markdown",
      "metadata": {
        "id": "STyM3PrkCPzk"
      },
      "source": [
        "# Install, Import \n",
        "\n",
        "- imports and installs may take several minutes."
      ]
    },
    {
      "cell_type": "code",
      "execution_count": null,
      "metadata": {
        "cellView": "form",
        "id": "aU0vhImmKeOc",
        "colab": {
          "base_uri": "https://localhost:8080/",
          "height": 978,
          "referenced_widgets": [
            "d12a775b0094493eb26e7db683e5edaa",
            "4bb35e3876ad42aca22b22cd4de99259",
            "ecbcb176da814f3b9c9687566690d676",
            "1da4f24f467d4d12834659934382c181",
            "f319d3f9e60f43a199f368c8915e453f",
            "8a98c5ea532742eeaf708dbea1860198",
            "c86a29b897164d5b9f048e3c74c539c9",
            "17b587d5273c436f8ce8f50c239e6b72",
            "66da39bd0e9644ce95fb76ea0167c41d",
            "750a4f35e5c84582b19a55277e27a184",
            "b45f8325e6254b62a01ba839ac5ad5e7",
            "61f6384f8f374ac8a7e3077332f6f29b",
            "1ef75f04b8dc45788c6d3f8884b91229",
            "acf009e9a3df44258a7cbc308349811a",
            "91aced11a0b848209350b647ac255eb6",
            "ed2b1e5324094ca78eea6ff02c1bd73e",
            "f7ba0081f92a48d28edc6cc8443619b1",
            "13eab979d31141daa66a3610c6f49b9c",
            "6d88b1a34b2c422bbb11f19c71a1b3b2",
            "adc268329b6645b2afc4212d6bcdbcf2",
            "e6bd61f813d74b9d8bc62e80ecddbf62",
            "88ba5bd21c6c4c8c9530e947d3e269b3",
            "54a50b48651445428544395961409795",
            "e45c9fd655754453b75ca1f830881e4a",
            "91e01dfe438245ee8a9b78c5e7b5d899",
            "279dbd40a8874bfd9a7d971bdd372212",
            "ed4a249977ef433ab4246045f28c8753",
            "bf0be9b54a4245d2973a6aa23fc39bcb",
            "71a9a7c68b6743f1a270ce72c978a870",
            "5aa666bbf38a48b2989dee0d6a16391e",
            "57b50ea967354015836d5adb2f6fe164",
            "171a470032b546dfbe0eb6e15cee3fec",
            "a29cb526e77f40faade4beeb7ba57623",
            "84a6f992a8794c948432604b0650f032",
            "2883cec468cf45f59fcc76097905d5d7",
            "2126b46e3a3646e3aac4d7b74f83751f",
            "30dc619f83a24a969a3599f3f9eb37b9",
            "74dab640f4184d3eaa9dca7313c08545",
            "eb145678439449da9ae70b8cd221715c",
            "09dc532315504d3381485d8e6806a1b3",
            "0412fe0c0b3c46acaa75eba031aed682",
            "15a70b66f77544e3b328c361f96db340",
            "bff6c2d57fb5440aa161f825efad8ed2",
            "31ff9b902ba54d8fa30b37cc0d551f65"
          ]
        },
        "outputId": "da742ea1-ae03-4801-cebc-38f988a06b0b"
      },
      "outputs": [
        {
          "output_type": "display_data",
          "data": {
            "text/html": [
              "\n",
              "  <style>\n",
              "    pre {\n",
              "        white-space: pre-wrap;\n",
              "    }\n",
              "  </style>\n",
              "  "
            ],
            "text/plain": [
              "<IPython.core.display.HTML object>"
            ]
          },
          "metadata": {}
        },
        {
          "output_type": "stream",
          "name": "stdout",
          "text": [
            "\u001b[K     |████████████████████████████████| 71 kB 4.5 MB/s \n",
            "\u001b[K     |████████████████████████████████| 3.5 MB 14.7 MB/s \n",
            "\u001b[K     |████████████████████████████████| 6.8 MB 73.8 MB/s \n",
            "\u001b[K     |████████████████████████████████| 67 kB 6.2 MB/s \n",
            "\u001b[K     |████████████████████████████████| 895 kB 76.2 MB/s \n",
            "\u001b[K     |████████████████████████████████| 596 kB 58.9 MB/s \n",
            "\u001b[K     |████████████████████████████████| 541 kB 14.1 MB/s \n",
            "\u001b[?25h  Building wheel for wordninja (setup.py) ... \u001b[?25l\u001b[?25hdone\n",
            "\u001b[K     |████████████████████████████████| 60 kB 5.4 MB/s \n",
            "\u001b[K     |████████████████████████████████| 132 kB 28.6 MB/s \n",
            "\u001b[?25h  Building wheel for jellyfish (setup.py) ... \u001b[?25l\u001b[?25hdone\n",
            "\u001b[K     |████████████████████████████████| 2.6 MB 14.9 MB/s \n",
            "\u001b[K     |████████████████████████████████| 125 kB 80.8 MB/s \n",
            "\u001b[?25h  Building wheel for gputil (setup.py) ... \u001b[?25l\u001b[?25hdone\n",
            "\u001b[K     |████████████████████████████████| 400 kB 14.6 MB/s \n",
            "\u001b[K     |████████████████████████████████| 3.3 MB 69.1 MB/s \n",
            "\u001b[K     |████████████████████████████████| 26.9 MB 1.2 MB/s \n",
            "\u001b[K     |████████████████████████████████| 4.3 MB 74.0 MB/s \n",
            "\u001b[?25h  Building wheel for moviepy (setup.py) ... \u001b[?25l\u001b[?25hdone\n",
            "  Building wheel for proglog (setup.py) ... \u001b[?25l\u001b[?25hdone\n",
            "\u001b[31mERROR: pip's dependency resolver does not currently take into account all the packages that are installed. This behaviour is the source of the following dependency conflicts.\n",
            "albumentations 0.1.12 requires imgaug<0.2.7,>=0.2.5, but you have imgaug 0.2.9 which is incompatible.\u001b[0m\n",
            "Reading package lists... Done\n",
            "Building dependency tree       \n",
            "Reading state information... Done\n",
            "ffmpeg is already the newest version (7:3.4.8-0ubuntu0.2).\n",
            "0 upgraded, 0 newly installed, 0 to remove and 37 not upgraded.\n",
            "\u001b[K     |████████████████████████████████| 184 kB 14.3 MB/s \n",
            "\u001b[K     |████████████████████████████████| 1.2 MB 68.9 MB/s \n",
            "\u001b[K     |████████████████████████████████| 123 kB 90.8 MB/s \n",
            "\u001b[K     |████████████████████████████████| 131 kB 87.9 MB/s \n",
            "\u001b[K     |████████████████████████████████| 8.5 MB 55.9 MB/s \n",
            "\u001b[K     |████████████████████████████████| 79 kB 9.8 MB/s \n",
            "\u001b[K     |████████████████████████████████| 138 kB 103.8 MB/s \n",
            "\u001b[K     |████████████████████████████████| 127 kB 97.7 MB/s \n",
            "\u001b[31mERROR: pip's dependency resolver does not currently take into account all the packages that are installed. This behaviour is the source of the following dependency conflicts.\n",
            "datascience 0.10.6 requires folium==0.2.1, but you have folium 0.8.3 which is incompatible.\u001b[0m\n",
            "\u001b[K     |████████████████████████████████| 64 kB 3.0 MB/s \n",
            "\u001b[K     |████████████████████████████████| 174 kB 29.7 MB/s \n",
            "\u001b[?25h  Building wheel for ftfy (setup.py) ... \u001b[?25l\u001b[?25hdone\n",
            "  Building wheel for emoji (setup.py) ... \u001b[?25l\u001b[?25hdone\n",
            "data folder is set to `/usr/local/lib/python3.7/dist-packages/neuspell/../data` script\n"
          ]
        },
        {
          "output_type": "display_data",
          "data": {
            "application/vnd.jupyter.widget-view+json": {
              "model_id": "d12a775b0094493eb26e7db683e5edaa",
              "version_minor": 0,
              "version_major": 2
            },
            "text/plain": [
              "Downloading:   0%|          | 0.00/29.0 [00:00<?, ?B/s]"
            ]
          },
          "metadata": {}
        },
        {
          "output_type": "display_data",
          "data": {
            "application/vnd.jupyter.widget-view+json": {
              "model_id": "61f6384f8f374ac8a7e3077332f6f29b",
              "version_minor": 0,
              "version_major": 2
            },
            "text/plain": [
              "Downloading:   0%|          | 0.00/208k [00:00<?, ?B/s]"
            ]
          },
          "metadata": {}
        },
        {
          "output_type": "display_data",
          "data": {
            "application/vnd.jupyter.widget-view+json": {
              "model_id": "54a50b48651445428544395961409795",
              "version_minor": 0,
              "version_major": 2
            },
            "text/plain": [
              "Downloading:   0%|          | 0.00/426k [00:00<?, ?B/s]"
            ]
          },
          "metadata": {}
        },
        {
          "output_type": "display_data",
          "data": {
            "application/vnd.jupyter.widget-view+json": {
              "model_id": "84a6f992a8794c948432604b0650f032",
              "version_minor": 0,
              "version_major": 2
            },
            "text/plain": [
              "Downloading:   0%|          | 0.00/570 [00:00<?, ?B/s]"
            ]
          },
          "metadata": {}
        },
        {
          "output_type": "stream",
          "name": "stderr",
          "text": [
            "2022-01-28 05:02:38,029 WARNING:Since the GPL-licensed package `unidecode` is not installed, using Python's `unicodedata` package which yields worse results.\n"
          ]
        },
        {
          "output_type": "stream",
          "name": "stdout",
          "text": [
            "CPU times: user 3.79 s, sys: 1.47 s, total: 5.25 s\n",
            "Wall time: 1min 13s\n"
          ]
        }
      ],
      "source": [
        "%%time\n",
        "#@markdown import / install libraries as needed\n",
        "!pip install pysbd -q\n",
        "!pip install -U transformers -q\n",
        "!pip install wordninja -q\n",
        "!pip install yake -q\n",
        "!pip install symspellpy -q\n",
        "!pip install gputil -q\n",
        "!pip install humanize -q\n",
        "!pip install -U plotly -q\n",
        "!pip install moviepy --pre --upgrade -q\n",
        "!apt install ffmpeg\n",
        "!pip install -U tqdm -q\n",
        "!pip install -U neuspell -q\n",
        "!pip install clean-text -q\n",
        "\n",
        "# !apt-get install ffmpeg # if you get ffmpeg errors\n",
        "\n",
        "import math, re\n",
        "import os, shutil, time, gc\n",
        "import pprint as pp\n",
        "from datetime import datetime\n",
        "from os import listdir\n",
        "from os.path import isfile, join\n",
        "\n",
        "import librosa\n",
        "import moviepy.editor as mp\n",
        "import moviepy\n",
        "import pandas as pd\n",
        "import pkg_resources\n",
        "import pysbd\n",
        "import torch\n",
        "import wordninja\n",
        "import yake\n",
        "from natsort import natsorted\n",
        "from symspellpy import SymSpell\n",
        "import transformers\n",
        "from transformers import Wav2Vec2ForCTC, Wav2Vec2Tokenizer\n",
        "import psutil\n",
        "import humanize\n",
        "import GPUtil\n",
        "import GPUtil as GPU\n",
        "import neuspell\n",
        "from tqdm.auto import tqdm\n",
        "from cleantext import clean"
      ]
    },
    {
      "cell_type": "markdown",
      "metadata": {
        "id": "9gqce-JlruPm"
      },
      "source": [
        "# Function Definitions\n",
        "\n",
        "- there is **a lot** of code in here, which is sort of organized. \n",
        "- It should only need to be opened / adjusted for debugging any errors or implementing improvements, or if you love reading python code."
      ]
    },
    {
      "cell_type": "markdown",
      "metadata": {
        "id": "CqAOMIuzGtUx"
      },
      "source": [
        "## generic functions "
      ]
    },
    {
      "cell_type": "code",
      "execution_count": null,
      "metadata": {
        "id": "GgmDOcLH2Apm",
        "colab": {
          "base_uri": "https://localhost:8080/"
        },
        "outputId": "9eef0ce3-e990-464d-cd52-b20e98f00b9e"
      },
      "outputs": [
        {
          "output_type": "display_data",
          "data": {
            "text/html": [
              "\n",
              "  <style>\n",
              "    pre {\n",
              "        white-space: pre-wrap;\n",
              "    }\n",
              "  </style>\n",
              "  "
            ],
            "text/plain": [
              "<IPython.core.display.HTML object>"
            ]
          },
          "metadata": {}
        }
      ],
      "source": [
        "# define user functions\n",
        "\n",
        "\n",
        "def increase_font():\n",
        "    from IPython.display import Javascript\n",
        "\n",
        "    display(\n",
        "        Javascript(\n",
        "            \"\"\"\n",
        "  for (rule of document.styleSheets[0].cssRules){\n",
        "    if (rule.selectorText=='body') {\n",
        "      rule.style.fontSize = '24px'\n",
        "      break\n",
        "    }\n",
        "  }\n",
        "  \"\"\"\n",
        "        )\n",
        "    )\n",
        "\n",
        "\n",
        "def reset_font():\n",
        "    from IPython.display import Javascript\n",
        "\n",
        "    display(\n",
        "        Javascript(\n",
        "            \"\"\"\n",
        "  for (rule of document.styleSheets[0].cssRules){\n",
        "    if (rule.selectorText=='body') {\n",
        "      rule.style.fontSize = '14px'\n",
        "      break\n",
        "    }\n",
        "  }\n",
        "  \"\"\"\n",
        "        )\n",
        "    )\n",
        "\n",
        "\n",
        "def corr(s):\n",
        "    # adds space after period if there isn't one\n",
        "    # removes extra spaces\n",
        "    return re.sub(r\"\\.(?! )\", \". \", re.sub(r\" +\", \" \", s))\n",
        "\n",
        "\n",
        "def shorten_title(title_text, max_no=20):\n",
        "    if len(title_text) < max_no:\n",
        "        return title_text\n",
        "    else:\n",
        "        return title_text[:max_no] + \"...\"\n",
        "\n",
        "\n",
        "def digest_txt_directory(file_directory, identifer=\"\", verbose=False, make_folder=True):\n",
        "    run_date = datetime.now()\n",
        "    files_to_merge = natsorted(\n",
        "        [\n",
        "            f\n",
        "            for f in listdir(file_directory)\n",
        "            if isfile(join(file_directory, f)) & f.endswith(\".txt\")\n",
        "        ]\n",
        "    )\n",
        "    outfilename = (\n",
        "        \"Zealous_MERGED_words_\" + identifer + run_date.strftime(\"_%d%m%Y_%H\") + \".txt\"\n",
        "    )\n",
        "\n",
        "    og_wd = os.getcwd()\n",
        "    os.chdir(file_directory)\n",
        "\n",
        "    if make_folder:\n",
        "        folder_name = \"merged_txt_files\"\n",
        "        if not os.path.isdir(join(file_directory, folder_name)):\n",
        "            os.mkdir(\n",
        "                join(file_directory, folder_name)\n",
        "            )  # make a place to store outputs if one does not exist\n",
        "        output_loc = join(file_directory, folder_name)\n",
        "\n",
        "        outfilename = join(folder_name, outfilename)\n",
        "\n",
        "        if verbose:\n",
        "            print(\"created new folder. new full path is: \\n\", output_loc)\n",
        "\n",
        "    count = 0\n",
        "    with open(outfilename, \"w\") as outfile:\n",
        "\n",
        "        for names in files_to_merge:\n",
        "\n",
        "            with open(names) as infile:\n",
        "                count += 1\n",
        "                outfile.write(\"Start of: \" + names + \"\\n\")\n",
        "                outfile.writelines(infile.readlines())\n",
        "\n",
        "            outfile.write(\"\\n\")\n",
        "\n",
        "    print(\"Merged {} text files together.\".format(count))\n",
        "    if verbose:\n",
        "        print(\"the merged file is located at: \\n\", os.getcwd())\n",
        "    os.chdir(og_wd)\n",
        "\n",
        "\n",
        "def validate_output_directories(directory, verbose=False):\n",
        "\n",
        "    # checks and creates folders\n",
        "\n",
        "    t_folder_name = \"wav2vec2_sf_transcript\"\n",
        "    m_folder_name = \"wav2vec2_sf_metadata\"\n",
        "\n",
        "    # check if transcription folder exists. If not, create it'\n",
        "\n",
        "    t_path_full = join(directory, t_folder_name)\n",
        "    m_path_full = join(directory, m_folder_name)\n",
        "    create_folder(t_path_full)\n",
        "    create_folder(m_path_full)\n",
        "\n",
        "    output_locs = {\"t_out\": t_path_full, \"m_out\": m_path_full}\n",
        "\n",
        "    return output_locs\n",
        "\n",
        "\n",
        "def move2completed(from_dir, filename, new_folder=\"completed\", verbose=False):\n",
        "\n",
        "    # this is the better version\n",
        "    old_filepath = join(from_dir, filename)\n",
        "\n",
        "    new_filedirectory = join(from_dir, new_folder)\n",
        "    create_folder(new_filedirectory)\n",
        "\n",
        "    new_filepath = join(new_filedirectory, filename)\n",
        "\n",
        "    try:\n",
        "        shutil.move(old_filepath, new_filepath)\n",
        "        if verbose:\n",
        "            print(\"moved {} to */completed.\".format(filename))\n",
        "    except:\n",
        "        print(\n",
        "            \"Warning! unable to move file to \\n{}. Please investigate\".format(\n",
        "                new_filepath\n",
        "            )\n",
        "        )"
      ]
    },
    {
      "cell_type": "markdown",
      "metadata": {
        "id": "mFTrOyIk9Um7"
      },
      "source": [
        "### clean filenames"
      ]
    },
    {
      "cell_type": "code",
      "execution_count": null,
      "metadata": {
        "id": "HOKvRjls9S_D",
        "colab": {
          "base_uri": "https://localhost:8080/"
        },
        "outputId": "43f1a009-5416-4750-9b69-2c4b5280d77a"
      },
      "outputs": [
        {
          "output_type": "display_data",
          "data": {
            "text/html": [
              "\n",
              "  <style>\n",
              "    pre {\n",
              "        white-space: pre-wrap;\n",
              "    }\n",
              "  </style>\n",
              "  "
            ],
            "text/plain": [
              "<IPython.core.display.HTML object>"
            ]
          },
          "metadata": {}
        }
      ],
      "source": [
        "def cleantxt_wrap(ugly_text):\n",
        "    # a wrapper for clean text with options different than default\n",
        "\n",
        "    # https://pypi.org/project/clean-text/\n",
        "    cleaned_text = clean(\n",
        "        ugly_text,\n",
        "        fix_unicode=True,  # fix various unicode errors\n",
        "        to_ascii=True,  # transliterate to closest ASCII representation\n",
        "        lower=True,  # lowercase text\n",
        "        no_line_breaks=True,  # fully strip line breaks as opposed to only normalizing them\n",
        "        no_urls=True,  # replace all URLs with a special token\n",
        "        no_emails=True,  # replace all email addresses with a special token\n",
        "        no_phone_numbers=True,  # replace all phone numbers with a special token\n",
        "        no_numbers=False,  # replace all numbers with a special token\n",
        "        no_digits=False,  # replace all digits with a special token\n",
        "        no_currency_symbols=True,  # replace all currency symbols with a special token\n",
        "        no_punct=True,  # remove punctuations\n",
        "        replace_with_punct=\"\",  # instead of removing punctuations you may replace them\n",
        "        replace_with_url=\"<URL>\",\n",
        "        replace_with_email=\"<EMAIL>\",\n",
        "        replace_with_phone_number=\"<PHONE>\",\n",
        "        replace_with_number=\"<NUM>\",\n",
        "        replace_with_digit=\"0\",\n",
        "        replace_with_currency_symbol=\"<CUR>\",\n",
        "        lang=\"en\",  # set to 'de' for German special handling\n",
        "    )\n",
        "\n",
        "    return cleaned_text\n",
        "\n",
        "\n",
        "def beautify_filename(filename, num_words=20, start_reverse=False, word_separator=\"_\"):\n",
        "    # takes a filename stored as text, removes extension, separates into X words ...\n",
        "    # and returns a nice filename with the words separateed by\n",
        "    # useful for when you are reading files, doing things to them, and making new files\n",
        "\n",
        "    filename = str(filename)\n",
        "    index_file_Ext = filename.rfind(\".\")\n",
        "    current_name = str(filename)[:index_file_Ext]  # get rid of extension\n",
        "    if current_name[-1].isnumeric():\n",
        "        current_name = current_name + \"V2CT\"\n",
        "    clean_name = cleantxt_wrap(current_name)  # wrapper with custom defs\n",
        "    file_words = wordninja.split(clean_name)\n",
        "    # splits concatenated text into a list of words based on common word freq\n",
        "    if len(file_words) <= num_words:\n",
        "        num_words = len(file_words)\n",
        "\n",
        "    if start_reverse:\n",
        "        t_file_words = file_words[-num_words:]\n",
        "    else:\n",
        "        t_file_words = file_words[:num_words]\n",
        "\n",
        "    pretty_name = word_separator.join(t_file_words)  # see function argument\n",
        "\n",
        "    # NOTE IT DOES NOT RETURN THE EXTENSION\n",
        "    return pretty_name[\n",
        "        : (len(pretty_name) - 1)\n",
        "    ]  # there is a space always at the end, so -1"
      ]
    },
    {
      "cell_type": "code",
      "execution_count": null,
      "metadata": {
        "id": "-BQmJNeb-5in",
        "colab": {
          "base_uri": "https://localhost:8080/"
        },
        "outputId": "146418b8-d768-42f8-88b5-306319717f38"
      },
      "outputs": [
        {
          "output_type": "display_data",
          "data": {
            "text/html": [
              "\n",
              "  <style>\n",
              "    pre {\n",
              "        white-space: pre-wrap;\n",
              "    }\n",
              "  </style>\n",
              "  "
            ],
            "text/plain": [
              "<IPython.core.display.HTML object>"
            ]
          },
          "metadata": {}
        }
      ],
      "source": [
        "def fast_scandir(dirname):\n",
        "    # return all subfolders in a given filepath\n",
        "\n",
        "    subfolders = [f.path for f in os.scandir(dirname) if f.is_dir()]\n",
        "    for dirname in list(subfolders):\n",
        "        subfolders.extend(fast_scandir(dirname))\n",
        "    return subfolders  # list\n",
        "\n",
        "\n",
        "def create_folder(directory):\n",
        "    os.makedirs(directory, exist_ok=True)\n",
        "\n",
        "\n",
        "def chunks(lst, n):\n",
        "    \"\"\"Yield successive n-sized chunks from lst.\"\"\"\n",
        "    for i in range(0, len(lst), n):\n",
        "        yield lst[i : i + n]\n",
        "\n",
        "\n",
        "def chunky_pandas(my_df, num_chunks=4):\n",
        "    n = int(len(my_df) // num_chunks)\n",
        "    list_df = [my_df[i : i + n] for i in range(0, my_df.shape[0], n)]\n",
        "\n",
        "    return list_df"
      ]
    },
    {
      "cell_type": "code",
      "execution_count": null,
      "metadata": {
        "id": "oWQYAWyo_RFq",
        "colab": {
          "base_uri": "https://localhost:8080/"
        },
        "outputId": "59f56dad-2157-490f-a92e-65b5cb47adea"
      },
      "outputs": [
        {
          "output_type": "display_data",
          "data": {
            "text/html": [
              "\n",
              "  <style>\n",
              "    pre {\n",
              "        white-space: pre-wrap;\n",
              "    }\n",
              "  </style>\n",
              "  "
            ],
            "text/plain": [
              "<IPython.core.display.HTML object>"
            ]
          },
          "metadata": {}
        }
      ],
      "source": [
        "import os\n",
        "from os.path import basename\n",
        "from natsort import natsorted\n",
        "import pprint as pp\n",
        "\n",
        "\n",
        "def load_dir_files(directory, req_extension=\".txt\", return_type=\"list\", verbose=False):\n",
        "    appr_files = []\n",
        "    # r=root, d=directories, f = files\n",
        "    for r, d, f in os.walk(directory):\n",
        "        for prefile in f:\n",
        "            if prefile.endswith(req_extension):\n",
        "                fullpath = join(r, prefile)\n",
        "                appr_files.append(fullpath)\n",
        "\n",
        "    appr_files = natsorted(appr_files)\n",
        "\n",
        "    if verbose:\n",
        "        print(\"A list of files in the {} directory are: \\n\".format(directory))\n",
        "        if len(appr_files) < 10:\n",
        "            pp.pprint(appr_files)\n",
        "        else:\n",
        "            pp.pprint(appr_files[:10])\n",
        "            print(\"\\n and more. There are a total of {} files\".format(len(appr_files)))\n",
        "\n",
        "    if return_type.lower() == \"list\":\n",
        "        return appr_files\n",
        "    else:\n",
        "        if verbose:\n",
        "            print(\"returning dictionary\")\n",
        "\n",
        "        appr_file_dict = {}\n",
        "        for this_file in appr_files:\n",
        "            appr_file_dict[basename(this_file)] = this_file\n",
        "\n",
        "        return appr_file_dict"
      ]
    },
    {
      "cell_type": "markdown",
      "metadata": {
        "id": "glWI8J88XIt8"
      },
      "source": [
        "### time log"
      ]
    },
    {
      "cell_type": "code",
      "execution_count": null,
      "metadata": {
        "id": "3vC3p0g-8R3K",
        "colab": {
          "base_uri": "https://localhost:8080/"
        },
        "outputId": "131622dc-0caf-4366-d318-d35ca1e8a8df"
      },
      "outputs": [
        {
          "output_type": "display_data",
          "data": {
            "text/html": [
              "\n",
              "  <style>\n",
              "    pre {\n",
              "        white-space: pre-wrap;\n",
              "    }\n",
              "  </style>\n",
              "  "
            ],
            "text/plain": [
              "<IPython.core.display.HTML object>"
            ]
          },
          "metadata": {}
        }
      ],
      "source": [
        "def get_timestamp(exact=False):\n",
        "    \"\"\"\n",
        "    get_timestamp - return a timestamp in the format YYYY-MM-DD_HH-MM-SS (exact=False)\n",
        "        or YYYY-MM-DD_HH-MM-SS-MS (exact=True)\n",
        "    exact : bool, optional, by default False,  if True, return a timestamp with seconds\n",
        "    \"\"\"\n",
        "    ts = (\n",
        "        datetime.now().strftime(\"%b-%d-%Y_-%H-%M-%S\")\n",
        "        if exact\n",
        "        else datetime.now().strftime(\"%b-%d-%Y_-%H\")\n",
        "    )\n",
        "    return ts\n"
      ]
    },
    {
      "cell_type": "markdown",
      "metadata": {
        "id": "mqtG5izgiOng"
      },
      "source": [
        "### download functions"
      ]
    },
    {
      "cell_type": "code",
      "execution_count": null,
      "metadata": {
        "cellView": "form",
        "id": "l-obPW6BiRbb",
        "colab": {
          "base_uri": "https://localhost:8080/"
        },
        "outputId": "4cf8eff8-e17f-4b16-c3b0-03802b36246b"
      },
      "outputs": [
        {
          "output_type": "display_data",
          "data": {
            "text/html": [
              "\n",
              "  <style>\n",
              "    pre {\n",
              "        white-space: pre-wrap;\n",
              "    }\n",
              "  </style>\n",
              "  "
            ],
            "text/plain": [
              "<IPython.core.display.HTML object>"
            ]
          },
          "metadata": {}
        }
      ],
      "source": [
        "#@markdown define `download_single_file()` for downloading one media file of unknown type\n",
        "def download_single_file(file_url, verbose=False):\n",
        "    \"\"\"\n",
        "    download_single_file - Download a single file from a remote server. The file is saved in the current directory and the filename is the same as the remote file.\n",
        "\n",
        "    Parameters\n",
        "    ----------\n",
        "    file_url : str, required, default=None, the url of the file to download.\n",
        "    verbose : bool, optional, by default False\n",
        "\n",
        "    Returns\n",
        "    -------\n",
        "    str, the filename of the downloaded file.\n",
        "    \"\"\"\n",
        "\n",
        "\n",
        "    # get the file extension from the URL\n",
        "    _extension = file_url.split(\".\")[-1]\n",
        "    _extension = _extension.replace(\"?dl=1\", \"\")\n",
        "    print(f\"Found extension: {_extension}\")\n",
        "    # get the file name from the URL\n",
        "    file_name = file_url.split(\"/\")[-1]\n",
        "    file_name_ext = file_name.replace(\"?dl=1\", \"\") # remove the ?dl=1 parameter from the file name, relevant for dropbox links\n",
        "    # get the local file name\n",
        "    local_name = join(os.getcwd(), file_name_ext)\n",
        "    if os.path.exists(local_name):\n",
        "        if verbose:\n",
        "            print(f\"File {file_name_ext} already exists. Skipping download.\")\n",
        "        return local_name\n",
        "    if verbose:\n",
        "        print(\"Downloading file...\")\n",
        "    with open(local_name, \"wb\") as f:\n",
        "        f.write(requests.get(file_url).content)\n",
        "    if verbose:\n",
        "        print(\"Download complete.\")\n",
        "    return local_name"
      ]
    },
    {
      "cell_type": "code",
      "execution_count": null,
      "metadata": {
        "cellView": "form",
        "id": "z4KE8dcNVg5b",
        "colab": {
          "base_uri": "https://localhost:8080/"
        },
        "outputId": "660417c2-6c3f-4157-81eb-48fc454e7041"
      },
      "outputs": [
        {
          "output_type": "display_data",
          "data": {
            "text/html": [
              "\n",
              "  <style>\n",
              "    pre {\n",
              "        white-space: pre-wrap;\n",
              "    }\n",
              "  </style>\n",
              "  "
            ],
            "text/plain": [
              "<IPython.core.display.HTML object>"
            ]
          },
          "metadata": {}
        }
      ],
      "source": [
        "#@markdown colab download alias\n",
        "\n",
        "from google.colab import files\n",
        "\n",
        "download = files.download"
      ]
    },
    {
      "cell_type": "markdown",
      "metadata": {
        "id": "bjFiyKzZgM0j"
      },
      "source": [
        "## check hardware\n"
      ]
    },
    {
      "cell_type": "code",
      "execution_count": null,
      "metadata": {
        "id": "_2Km3l-G3ngO",
        "colab": {
          "base_uri": "https://localhost:8080/"
        },
        "outputId": "e40f9803-5767-46e2-84fb-d59df68ef23f"
      },
      "outputs": [
        {
          "output_type": "display_data",
          "data": {
            "text/html": [
              "\n",
              "  <style>\n",
              "    pre {\n",
              "        white-space: pre-wrap;\n",
              "    }\n",
              "  </style>\n",
              "  "
            ],
            "text/plain": [
              "<IPython.core.display.HTML object>"
            ]
          },
          "metadata": {}
        }
      ],
      "source": [
        "def gpu_mem_total():\n",
        "    # Returns the total memory of the first available GPU\n",
        "    try:\n",
        "        gpus = GPUtil.getGPUs()\n",
        "    except:\n",
        "        LOGGER.warning(\n",
        "            \"Unable to detect GPU model. Is your GPU configured? Is Colab Runtime set to GPU?\"\n",
        "        )\n",
        "        return np.nan\n",
        "    if len(gpus) == 0:\n",
        "        raise ValueError(\"No GPUs detected in the system\")\n",
        "    return gpus[0].memoryTotal"
      ]
    },
    {
      "cell_type": "markdown",
      "metadata": {
        "id": "lgxosi5s3ocK"
      },
      "source": [
        "checks and resets"
      ]
    },
    {
      "cell_type": "code",
      "execution_count": null,
      "metadata": {
        "id": "4xm8WRBxgK5t",
        "colab": {
          "base_uri": "https://localhost:8080/"
        },
        "outputId": "2620bf62-5fba-4abc-942c-533af75b15bf"
      },
      "outputs": [
        {
          "output_type": "display_data",
          "data": {
            "text/html": [
              "\n",
              "  <style>\n",
              "    pre {\n",
              "        white-space: pre-wrap;\n",
              "    }\n",
              "  </style>\n",
              "  "
            ],
            "text/plain": [
              "<IPython.core.display.HTML object>"
            ]
          },
          "metadata": {}
        },
        {
          "output_type": "stream",
          "name": "stdout",
          "text": [
            "loaded all hardware functions at:  2022-01-28 05:02:38.277645\n"
          ]
        }
      ],
      "source": [
        "def clear_GPU_cache(verbose=False):\n",
        "\n",
        "    GPUs = GPU.getGPUs()\n",
        "\n",
        "    if len(GPUs) > 0:\n",
        "        check_runhardware_torch()\n",
        "        torch.cuda.empty_cache()\n",
        "        print(\"\\nchecked and cleared cache\")\n",
        "    else:\n",
        "        print(\"\\nNo GPU being used :( time = \", datetime.now())\n",
        "    if verbose:\n",
        "        print(\"-----------End of Cache Clear----------------\")\n",
        "\n",
        "\n",
        "print(\"loaded all hardware functions at: \", datetime.now())\n",
        "\n",
        "\n",
        "def check_runhardware_torch(verbose=False):\n",
        "    # https://www.run.ai/guides/gpu-deep-learning/pytorch-gpu/\n",
        "\n",
        "    GPUs = GPU.getGPUs()\n",
        "\n",
        "    if len(GPUs) > 0:\n",
        "        if verbose:\n",
        "            print(\"\\n ------------------------------\")\n",
        "            print(\"Checking CUDA status for PyTorch\")\n",
        "\n",
        "        torch.cuda.init()\n",
        "\n",
        "        print(\"Cuda availability (PyTorch): \", torch.cuda.is_available())\n",
        "\n",
        "        # Get Id of default device\n",
        "        torch.cuda.current_device()\n",
        "        if verbose:\n",
        "            print(\n",
        "                \"Name of GPU: \", torch.cuda.get_device_name(device=0)\n",
        "            )  # '0' is the id of your GPU\n",
        "            print(\"------------------------------\\n\")\n",
        "        return True\n",
        "\n",
        "    else:\n",
        "        print(\"No GPU being used :(\")\n",
        "        return False\n",
        "\n",
        "\n",
        "def torch_validate_cuda(verbose=False):\n",
        "    GPUs = GPU.getGPUs()\n",
        "    num_gpus = len(GPUs)\n",
        "    try:\n",
        "        torch.cuda.init()\n",
        "        if not torch.cuda.is_available():\n",
        "            print(\n",
        "                \"WARNING - CUDA is not being used in processing - expect longer runtime\"\n",
        "            )\n",
        "            if verbose:\n",
        "                print(\"GPU util detects {} GPUs on your system\".format(num_gpus))\n",
        "    except:\n",
        "        print(\n",
        "            \"WARNING - unable to start CUDA. If you wanted to use a GPU, exit and check hardware.\"\n",
        "        )\n",
        "\n",
        "\n",
        "def check_runhardware(verbose=False):\n",
        "    # ML package agnostic hardware check\n",
        "    GPUs = GPU.getGPUs()\n",
        "\n",
        "    if verbose:\n",
        "        print(\"\\n ------------------------------\")\n",
        "        print(\"Checking hardware with psutil\")\n",
        "    try:\n",
        "        gpu = GPUs[0]\n",
        "    except:\n",
        "        if verbose:\n",
        "            print(\"GPU not available - \", datetime.now())\n",
        "        gpu = None\n",
        "    process = psutil.Process(os.getpid())\n",
        "\n",
        "    CPU_load = psutil.cpu_percent()\n",
        "    if CPU_load > 0:\n",
        "        cpu_load_string = \"loaded at {} % |\".format(CPU_load)\n",
        "    else:\n",
        "        # the first time process.cpu_percent() is called it returns 0 which can be confusing\n",
        "        cpu_load_string = \"|\"\n",
        "    print(\n",
        "        \"\\nGen RAM Free: \" + humanize.naturalsize(psutil.virtual_memory().available),\n",
        "        \" | Proc size: \" + humanize.naturalsize(process.memory_info().rss),\n",
        "        \" | {} CPUs \".format(psutil.cpu_count()),\n",
        "        cpu_load_string,\n",
        "    )\n",
        "\n",
        "    if len(GPUs) > 0 and GPUs is not None:\n",
        "        print(\n",
        "            \"GPU RAM Free: {0:.0f}MB | Used: {1:.0f}MB | Util {2:3.0f}% | Total {3:.0f}MB\\n\".format(\n",
        "                gpu.memoryFree, gpu.memoryUsed, gpu.memoryUtil * 100, gpu.memoryTotal\n",
        "            )\n",
        "        )\n",
        "    else:\n",
        "        print(\"No GPU being used :(\", \"\\n-----------------\\n\")\n",
        "\n",
        "\n",
        "def only_clear_GPU_cache(verbose=False):\n",
        "\n",
        "    GPUs = GPU.getGPUs()\n",
        "\n",
        "    if len(GPUs) > 0:\n",
        "        torch.cuda.empty_cache()\n",
        "        if verbose:\n",
        "            print(\"\\nchecked and cleared cache\")\n",
        "    else:\n",
        "        print(\"\\nClearCache - No GPU being used :( time = \", datetime.now())\n",
        "\n",
        "\n"
      ]
    },
    {
      "cell_type": "markdown",
      "metadata": {
        "id": "msVwVwC9aY1C"
      },
      "source": [
        "## spell correction"
      ]
    },
    {
      "cell_type": "markdown",
      "metadata": {
        "id": "jnenTXRW8fs-"
      },
      "source": [
        "symspell is defined for backup purposes. It is faster than neuspell and decently accurate. It does not do grammar though."
      ]
    },
    {
      "cell_type": "code",
      "execution_count": null,
      "metadata": {
        "id": "GYIg5oMlaau2",
        "colab": {
          "base_uri": "https://localhost:8080/"
        },
        "outputId": "f4e1f7b5-f89b-4af1-c062-a0b195af086c"
      },
      "outputs": [
        {
          "output_type": "display_data",
          "data": {
            "text/html": [
              "\n",
              "  <style>\n",
              "    pre {\n",
              "        white-space: pre-wrap;\n",
              "    }\n",
              "  </style>\n",
              "  "
            ],
            "text/plain": [
              "<IPython.core.display.HTML object>"
            ]
          },
          "metadata": {}
        }
      ],
      "source": [
        "%%capture\n",
        "\n",
        "def symspell_file(filepath, filename, dist=2, keep_numb_words=True, create_folder=True, save_metrics=False,\n",
        "                  verbose=False):\n",
        "    # given a text (has to be text) file, reads the file, autocorrects any words it deems misspelled, saves as new file\n",
        "    # it can store the new file in a sub-folder it creates as needed\n",
        "    # distance represents how far it searches for a better spelling. higher dist = higher RT.\n",
        "    # https://github.com/mammothb/symspellpy\n",
        "\n",
        "    script_start_time = time.time()\n",
        "    sym_spell = SymSpell(max_dictionary_edit_distance=dist, prefix_length=7)\n",
        "    print(\"\\nPySymSpell - Starting to correct the file: \", filename)\n",
        "    # ------------------------------------\n",
        "\n",
        "    dictionary_path = pkg_resources.resource_filename(\n",
        "        \"symspellpy\", \"frequency_dictionary_en_82_765.txt\")\n",
        "    bigram_path = pkg_resources.resource_filename(\n",
        "        \"symspellpy\", \"frequency_bigramdictionary_en_243_342.txt\")\n",
        "    # term_index is the column of the term and count_index is the\n",
        "    # column of the term frequency\n",
        "    sym_spell.load_dictionary(dictionary_path, term_index=0, count_index=1)\n",
        "    sym_spell.load_bigram_dictionary(bigram_path, term_index=0, count_index=2)\n",
        "\n",
        "    # ------------------------------------\n",
        "    file = open(join(filepath, filename), 'r', encoding=\"utf-8\", errors='ignore')\n",
        "    textlines = file.readlines()  # return a list\n",
        "    file.close()\n",
        "\n",
        "    if create_folder:\n",
        "        # create a folder\n",
        "        output_folder_name = \"auto-corrected\" \n",
        "        if not os.path.isdir(join(filepath, output_folder_name)):\n",
        "            os.mkdir(join(filepath, output_folder_name))  # make a place to store outputs if one does not exist\n",
        "        filepath = join(filepath, output_folder_name)\n",
        "\n",
        "    if verbose:\n",
        "        print(\"loaded text with {0:6d} lines \".format(len(textlines)))\n",
        "\n",
        "    corrected_list = []\n",
        "\n",
        "    # iterate through list of lines. Pass each line to be corrected. \n",
        "    #Append / sum results from each line till done\n",
        "    for line in textlines:\n",
        "        if line == \"\":\n",
        "            # blank line, skip to next run\n",
        "            continue\n",
        "\n",
        "        # correct the line of text using spellcorrect_line() which returns a dictionary\n",
        "        suggestions = sym_spell.lookup_compound(phrase=line, max_edit_distance=dist, \n",
        "                                                ignore_non_words=keep_numb_words,\n",
        "                                                ignore_term_with_digits=keep_numb_words)\n",
        "        all_sugg_for_line = []\n",
        "        for suggestion in suggestions:\n",
        "            all_sugg_for_line.append(suggestion.term)\n",
        "\n",
        "        # append / sum / log results from correcting the line\n",
        "\n",
        "        corrected_list.append(' '.join(all_sugg_for_line) + \"\\n\")\n",
        "\n",
        "    # finished iterating through lines. Now sum total metrics\n",
        "\n",
        "    corrected_doc = \"\".join(corrected_list)\n",
        "    corrected_fname = \"Corrected_SSP_\" + beautify_filename(filename, \n",
        "                                                           num_words=10, start_reverse=False) + \".txt\"\n",
        "\n",
        "    # proceed to saving\n",
        "    file_out = open(join(filepath, corrected_fname), 'w',\n",
        "                    encoding=\"utf-8\", errors='ignore')\n",
        "    file_out.writelines(corrected_doc)\n",
        "    file_out.close()\n",
        "\n",
        "    # report RT\n",
        "    if verbose:\n",
        "        script_rt_m = (time.time() - script_start_time) / 60\n",
        "        print(\"RT for this file was {0:5f} minutes\".format(script_rt_m))\n",
        "        print(\"output folder for this transcription is: \\n\", \n",
        "              filepath)\n",
        "\n",
        "    print(\"Done correcting \", filename, \" at time: \", \n",
        "          datetime.now().strftime(\"%H:%M:%S\"), \"\\n\")\n",
        "\n",
        "    corr_file_Data = {\n",
        "        \"corrected_ssp_text\": corrected_doc,\n",
        "        \"corrected_ssp_fname\": corrected_fname,\n",
        "        \"output_path\": filepath,\n",
        "    }\n",
        "    return corr_file_Data\n",
        "\n",
        "\n",
        "# preload defaults\n",
        "sym_spell = SymSpell(max_dictionary_edit_distance=3, prefix_length=7)\n",
        "\n",
        "dictionary_path = pkg_resources.resource_filename(\n",
        "        \"symspellpy\", \"frequency_dictionary_en_82_765.txt\")\n",
        "bigram_path = pkg_resources.resource_filename(\n",
        "        \"symspellpy\", \"frequency_bigramdictionary_en_243_342.txt\")\n",
        "# term_index is the column of the term and count_index is the\n",
        "# column of the term frequency\n",
        "sym_spell.load_dictionary(dictionary_path, term_index=0, count_index=1)\n",
        "sym_spell.load_bigram_dictionary(bigram_path, term_index=0, count_index=2)\n",
        "\n",
        "print(\"loaded defaults - \", datetime.now())\n",
        "\n",
        "def symspell_freetext(textlines, dist=3, keep_numb_words=True, verbose=False,\n",
        "                      d_path=dictionary_path, b_path=bigram_path, default=sym_spell):\n",
        "    # https://github.com/mammothb/symspellpy\n",
        "\n",
        "    if dist != 3:\n",
        "\n",
        "        # have to recreate object each time because doesn't match pre-built\n",
        "\n",
        "        sym_spell = SymSpell(max_dictionary_edit_distance=dist, prefix_length=7)\n",
        "        sym_spell.load_dictionary(d_path, term_index=0, count_index=1)\n",
        "        sym_spell.load_bigram_dictionary(b_path, term_index=0, count_index=2)\n",
        "    else:\n",
        "        sym_spell=default\n",
        "\n",
        "    corrected_list = []\n",
        "\n",
        "    if type(textlines) == str:\n",
        "        textlines = [textlines] # put in a list if a string\n",
        "\n",
        "    if verbose:\n",
        "        print(\"\\nStarting to correct text with {0:6d} lines \".format(len(textlines)))\n",
        "        print(\"the type of textlines var is \",type(textlines))\n",
        "\n",
        "    # iterate through list of lines. Pass each line to be corrected. Append / sum results from each line till done\n",
        "    for line_obj in textlines:\n",
        "        line = ''.join(line_obj) \n",
        "        if verbose:\n",
        "            print(\"line {} in the text is: \".format(textlines.index(line_obj)))\n",
        "            pp.pprint(line) \n",
        "        if line == \"\":\n",
        "            # blank line, skip to next run\n",
        "            continue\n",
        "\n",
        "        suggestions = sym_spell.lookup_compound(phrase=line, max_edit_distance=dist, \n",
        "                                                ignore_non_words=keep_numb_words,\n",
        "                                                ignore_term_with_digits=keep_numb_words)\n",
        "        all_sugg_for_line = []\n",
        "        for suggestion in suggestions:\n",
        "            all_sugg_for_line.append(suggestion.term)\n",
        "\n",
        "        # append / sum / log results from correcting the line\n",
        "\n",
        "        corrected_list.append(' '.join(all_sugg_for_line) + \"\\n\")\n",
        "\n",
        "    # join corrected text\n",
        "\n",
        "    corrected_text = \"\".join(corrected_list)\n",
        "\n",
        "    if verbose:\n",
        "        print(\"Finished correcting w/ symspell at time: \", datetime.now(), \"\\n\")\n",
        "\n",
        "    return corrected_text\n",
        "\n"
      ]
    },
    {
      "cell_type": "markdown",
      "metadata": {
        "id": "u1oEeuGu8V9X"
      },
      "source": [
        "neuspell\n",
        "\n",
        "- a better spellchecker (but more intensive)"
      ]
    },
    {
      "cell_type": "code",
      "execution_count": null,
      "metadata": {
        "id": "OlEcmCfw8Lol",
        "colab": {
          "base_uri": "https://localhost:8080/"
        },
        "outputId": "ccd88be1-8163-4984-eb2c-544e76d32809"
      },
      "outputs": [
        {
          "output_type": "display_data",
          "data": {
            "text/html": [
              "\n",
              "  <style>\n",
              "    pre {\n",
              "        white-space: pre-wrap;\n",
              "    }\n",
              "  </style>\n",
              "  "
            ],
            "text/plain": [
              "<IPython.core.display.HTML object>"
            ]
          },
          "metadata": {}
        },
        {
          "output_type": "stream",
          "name": "stderr",
          "text": [
            "Some weights of the model checkpoint at bert-base-cased were not used when initializing BertModel: ['cls.predictions.transform.LayerNorm.weight', 'cls.seq_relationship.weight', 'cls.predictions.transform.LayerNorm.bias', 'cls.predictions.transform.dense.bias', 'cls.predictions.bias', 'cls.predictions.transform.dense.weight', 'cls.seq_relationship.bias', 'cls.predictions.decoder.weight']\n",
            "- This IS expected if you are initializing BertModel from the checkpoint of a model trained on another task or with another architecture (e.g. initializing a BertForSequenceClassification model from a BertForPreTraining model).\n",
            "- This IS NOT expected if you are initializing BertModel from the checkpoint of a model that you expect to be exactly identical (initializing a BertForSequenceClassification model from a BertForSequenceClassification model).\n"
          ]
        }
      ],
      "source": [
        "%%capture\n",
        "# START OF NEUSPELL\n",
        "\n",
        "checker = neuspell.BertChecker()\n",
        "checker.from_pretrained()\n",
        "\n",
        "\n",
        "def neuspell_freetext(textlines, verbose=False):\n",
        "\n",
        "    corrected_list = []\n",
        "\n",
        "    if type(textlines) == str:\n",
        "        textlines = [textlines]  # put in a list if a string\n",
        "\n",
        "    # iterate through list of lines. Pass each line to be corrected. Append / sum results from each line till done\n",
        "    for line_obj in textlines:\n",
        "        line = \"\".join(line_obj)\n",
        "\n",
        "        if verbose:\n",
        "            print(\"line {} in the text is: \".format(textlines.index(line_obj)))\n",
        "            pp.pprint(line)\n",
        "        if line == \"\" or (len(line) <= 5):\n",
        "            # blank line, skip to next run\n",
        "            continue\n",
        "\n",
        "        line = line.lower()\n",
        "        corrected_text = checker.correct_strings([line])\n",
        "        corrected_text_f = \" \".join(corrected_text)\n",
        "\n",
        "        corrected_list.append(corrected_text_f + \"\\n\")\n",
        "\n",
        "    # join corrected text\n",
        "\n",
        "    corrected_text = \" \".join(corrected_list)\n",
        "\n",
        "    if verbose:\n",
        "        print(\"Finished correcting w/ neuspell at time: \", datetime.now(), \"\\n\")\n",
        "\n",
        "    return corrected_text"
      ]
    },
    {
      "cell_type": "markdown",
      "metadata": {
        "id": "jOOdismL8TWd"
      },
      "source": [
        "sentence boundary disambiguation"
      ]
    },
    {
      "cell_type": "code",
      "execution_count": null,
      "metadata": {
        "id": "dDlWwLD18MHo",
        "colab": {
          "base_uri": "https://localhost:8080/"
        },
        "outputId": "076e0585-e41a-43da-9fc6-9fabc91b67b7"
      },
      "outputs": [
        {
          "output_type": "display_data",
          "data": {
            "text/html": [
              "\n",
              "  <style>\n",
              "    pre {\n",
              "        white-space: pre-wrap;\n",
              "    }\n",
              "  </style>\n",
              "  "
            ],
            "text/plain": [
              "<IPython.core.display.HTML object>"
            ]
          },
          "metadata": {}
        }
      ],
      "source": [
        "def SBD_freetext(text, verbose=False):\n",
        "    # input should be STRING\n",
        "    # use pysbd to segment\n",
        "\n",
        "    if isinstance(text, list):\n",
        "        print(\n",
        "            \"Warning, input ~text~ has type {}. Will convert to str\".format(type(text))\n",
        "        )\n",
        "        text = \" \".join(text)\n",
        "\n",
        "    seg = pysbd.Segmenter(language=\"en\", clean=True)\n",
        "    sentences = []\n",
        "    sentences = seg.segment(text)\n",
        "\n",
        "    if verbose:\n",
        "        print(\n",
        "            \"input text of {} words was split into \".format(len(text.split(\" \"))),\n",
        "            len(sentences),\n",
        "            \"sentences\",\n",
        "        )\n",
        "\n",
        "    # take segments and make them sentences\n",
        "\n",
        "    capitalized = []\n",
        "    for sentence in sentences:\n",
        "        if sentence and sentence.strip():\n",
        "            # ensure that the line is not all spaces\n",
        "            first_letter = sentence[0].upper()\n",
        "            rest = sentence[1:]\n",
        "            capitalized.append(first_letter + rest)\n",
        "\n",
        "    seg_and_capital = \". \".join(capitalized)\n",
        "\n",
        "    return seg_and_capital"
      ]
    },
    {
      "cell_type": "markdown",
      "metadata": {
        "id": "QeNIcsUbifDn"
      },
      "source": [
        "### pipeline"
      ]
    },
    {
      "cell_type": "code",
      "execution_count": null,
      "metadata": {
        "id": "kmvV2gFMieUw",
        "colab": {
          "base_uri": "https://localhost:8080/"
        },
        "outputId": "8359ec51-1397-4d55-fede-8c688a8f7312"
      },
      "outputs": [
        {
          "output_type": "display_data",
          "data": {
            "text/html": [
              "\n",
              "  <style>\n",
              "    pre {\n",
              "        white-space: pre-wrap;\n",
              "    }\n",
              "  </style>\n",
              "  "
            ],
            "text/plain": [
              "<IPython.core.display.HTML object>"
            ]
          },
          "metadata": {}
        }
      ],
      "source": [
        "def spellcorrect_pipeline(filepath, filename, verbose=False):\n",
        "    # uses two functions (neuspell_freetext, SBD_freetext)\n",
        "    # in a pipeline\n",
        "\n",
        "    file = open(join(filepath, filename), \"r\", encoding=\"utf-8\", errors=\"ignore\")\n",
        "    textlines = file.readlines()  # return a list\n",
        "    file.close()\n",
        "\n",
        "    sc_textlines = neuspell_freetext(textlines, verbose=verbose)\n",
        "\n",
        "    loc_SC = \"spell_corrected\"\n",
        "    if not os.path.isdir(join(filepath, loc_SC)):\n",
        "        os.mkdir(\n",
        "            join(filepath, loc_SC)\n",
        "        )  # make a place to store outputs if one does not exist\n",
        "\n",
        "    sc_outname = (\n",
        "        \"NSC_\" + beautify_filename(filename, num_words=15, start_reverse=False) + \".txt\"\n",
        "    )\n",
        "\n",
        "    file_sc = open(\n",
        "        join(filepath, loc_SC, sc_outname), \"w\", encoding=\"utf-8\", errors=\"replace\"\n",
        "    )\n",
        "    file_sc.writelines(sc_textlines)\n",
        "    file_sc.close()\n",
        "    quick_sc_fixes = {\n",
        "        \" ' \": \"'\",\n",
        "    }\n",
        "    if isinstance(sc_textlines, list):\n",
        "        SBD_sc_textlines = []\n",
        "        for line in sc_textlines:\n",
        "            if isinstance(line, list):\n",
        "                # handles weird corner cases\n",
        "                line = \" \".join(line)\n",
        "\n",
        "            sentenced = SBD_freetext(line, verbose=verbose)\n",
        "            for key, value in quick_sc_fixes.items():\n",
        "\n",
        "                sentenced = sentenced.replace(key, value)\n",
        "\n",
        "            SBD_sc_textlines.append(sentenced)\n",
        "    else:\n",
        "        SBD_sc_textlines = SBD_freetext(sc_textlines, verbose=verbose)\n",
        "\n",
        "        for key, value in quick_sc_fixes.items():\n",
        "\n",
        "            SBD_sc_textlines = SBD_sc_textlines.replace(key, value)\n",
        "\n",
        "    # SBD_text = \" \".join(SBD_sc_textlines)\n",
        "\n",
        "    loc_SBD = \"FULLY_COMPLETE\"\n",
        "    if not os.path.isdir(join(filepath, loc_SBD)):\n",
        "        os.mkdir(\n",
        "            join(filepath, loc_SBD)\n",
        "        )  # make a place to store outputs if one does not exist\n",
        "\n",
        "    SBD_outname = (\n",
        "        \"FIN_\" + beautify_filename(filename, num_words=15, start_reverse=False) + \".txt\"\n",
        "    )\n",
        "    ncsbd_path = join(filepath, loc_SBD, SBD_outname)\n",
        "    file_sc = open(ncsbd_path, \"w\", encoding=\"utf-8\", errors=\"replace\")\n",
        "    file_sc.writelines(SBD_sc_textlines)\n",
        "    file_sc.close()\n",
        "    pipelineout = {\n",
        "        \"original_transcript_text\": \" \".join(textlines),\n",
        "        \"spellcorrected_text\": \" \".join(sc_textlines),\n",
        "        \"final_text\": \" \".join(SBD_sc_textlines),\n",
        "        \"spell_corrected_dir\": join(filepath, loc_SC),\n",
        "        \"sc_filename\": sc_outname,\n",
        "        \"SBD_dir\": join(filepath, loc_SBD),\n",
        "        \"SBD_filename\": SBD_outname,\n",
        "    }\n",
        "\n",
        "    return pipelineout"
      ]
    },
    {
      "cell_type": "code",
      "execution_count": null,
      "metadata": {
        "id": "u-8DHqFG8HVZ",
        "colab": {
          "base_uri": "https://localhost:8080/"
        },
        "outputId": "abee4f6d-24b6-4b75-f9ff-c41c7dc62868"
      },
      "outputs": [
        {
          "output_type": "display_data",
          "data": {
            "text/html": [
              "\n",
              "  <style>\n",
              "    pre {\n",
              "        white-space: pre-wrap;\n",
              "    }\n",
              "  </style>\n",
              "  "
            ],
            "text/plain": [
              "<IPython.core.display.HTML object>"
            ]
          },
          "metadata": {}
        },
        {
          "output_type": "stream",
          "name": "stdout",
          "text": [
            "loaded all spell correction functions at:  2022-01-28 05:03:09.737939\n"
          ]
        }
      ],
      "source": [
        "print(\"loaded all spell correction functions at: \", datetime.now())"
      ]
    },
    {
      "cell_type": "markdown",
      "metadata": {
        "id": "X-ZxcOJeCB6I"
      },
      "source": [
        "## vid2cleantext specific\n",
        "\n",
        "things that are more or less unique to video conversion / audio transcription."
      ]
    },
    {
      "cell_type": "markdown",
      "metadata": {
        "id": "DHiS5c94_VCB"
      },
      "source": [
        "### convert media"
      ]
    },
    {
      "cell_type": "code",
      "execution_count": null,
      "metadata": {
        "cellView": "form",
        "id": "lOmw4BYZ7ehH",
        "colab": {
          "base_uri": "https://localhost:8080/"
        },
        "outputId": "a54fdb61-9bea-4360-a609-f0b051bc273c"
      },
      "outputs": [
        {
          "output_type": "display_data",
          "data": {
            "text/html": [
              "\n",
              "  <style>\n",
              "    pre {\n",
              "        white-space: pre-wrap;\n",
              "    }\n",
              "  </style>\n",
              "  "
            ],
            "text/plain": [
              "<IPython.core.display.HTML object>"
            ]
          },
          "metadata": {}
        }
      ],
      "source": [
        "!pip install -U -q pydub\n",
        "from natsort import natsorted\n",
        "from pydub import AudioSegment\n",
        "\n",
        "#@title new function `prep_transc_pydub`\n",
        "def prep_transc_pydub(\n",
        "    _vid2beconv,\n",
        "    in_dir,\n",
        "    out_dir,\n",
        "    len_chunks=15,\n",
        "    verbose=False,\n",
        "):\n",
        "    \"\"\"\n",
        "    prep_transc_pydub - prepares audio files for transcription using pydub\n",
        "\n",
        "    Parameters\n",
        "    ----------\n",
        "    _vid2beconv : str, the name of the video file to be converted\n",
        "    in_dir : str or Path, the path to the video file directory\n",
        "    out_dir : str or Path, the path to the output audio file directory\n",
        "    len_chunks : int, optional, by default 15, the length of the audio chunks in seconds\n",
        "    verbose : bool, optional, by default False\n",
        "        [description], by default False\n",
        "\n",
        "    Returns\n",
        "    -------\n",
        "    list, the list of audio filepaths created\n",
        "    \"\"\"\n",
        "\n",
        "    load_path = join(in_dir, _vid2beconv) if in_dir is not None else _vid2beconv\n",
        "    vid_audio = AudioSegment.from_file(load_path)\n",
        "    sound = AudioSegment.set_channels(vid_audio, 1)\n",
        "\n",
        "    create_folder(out_dir)  # create the output directory if it doesn't exist\n",
        "    dur_seconds = len(sound) / 1000\n",
        "    n_chunks = math.ceil(dur_seconds / len_chunks)  # to get in minutes, round up\n",
        "    preamble = shorten_title(_vid2beconv)\n",
        "    chunk_fnames = []\n",
        "    # split sound in 5-second slices and export\n",
        "    slicer = 1000 * len_chunks  # in milliseconds\n",
        "    st = time.perf_counter()\n",
        "    for i, chunk in enumerate(sound[::slicer]):\n",
        "        chunk_name = f\"{preamble}_clipaudio_{i}.wav\"\n",
        "        with open(join(out_dir, chunk_name), \"wb\") as f:\n",
        "            chunk.export(f, format=\"wav\")\n",
        "        chunk_fnames.append(chunk_name)\n",
        "    rt = round(time.perf_counter() -st, 5)\n",
        "    print(f\"\\ncreated audio chunks in {rt} seconds - {get_timestamp()}\")\n",
        "    if verbose:\n",
        "        print(f\" files saved to {out_dir}\")\n",
        "\n",
        "    return natsorted(chunk_fnames)\n"
      ]
    },
    {
      "cell_type": "markdown",
      "metadata": {
        "id": "-BjICySo_SKd"
      },
      "source": [
        "### transcribe (main)"
      ]
    },
    {
      "cell_type": "code",
      "execution_count": null,
      "metadata": {
        "id": "0OsO-NNt_Qea",
        "colab": {
          "base_uri": "https://localhost:8080/"
        },
        "outputId": "2955fac4-0ae6-40cc-8873-a138bae291ca"
      },
      "outputs": [
        {
          "output_type": "display_data",
          "data": {
            "text/html": [
              "\n",
              "  <style>\n",
              "    pre {\n",
              "        white-space: pre-wrap;\n",
              "    }\n",
              "  </style>\n",
              "  "
            ],
            "text/plain": [
              "<IPython.core.display.HTML object>"
            ]
          },
          "metadata": {}
        }
      ],
      "source": [
        "import warnings \n",
        "warnings.filterwarnings(\"ignore\", message=\"It is strongly recommended to pass the\")\n",
        "import transformers\n",
        "transformers.utils.logging.set_verbosity(40)\n",
        "def transcribe_wav2vec(\n",
        "    transcription_model, directory, vid_clip_name, \n",
        "    chunk_length_seconds, verbose=False\n",
        "):\n",
        "    # this is the same process as used in the single video transcription, now as a function. Note that spell correction\n",
        "    # and keyword extraction are now done separately in the script\n",
        "    # user needs to pass in: the model, the folder the video is in, and the name of the video\n",
        "    output_path_full = directory\n",
        "\n",
        "    # Split Video into Audio Chunks-----------------------------------------------\n",
        "\n",
        "    print(\"Starting file: \", vid_clip_name)\n",
        "\n",
        "    # create audio chunk folder\n",
        "    output_folder_name = \"audio_chunks\"\n",
        "    path2audiochunks = join(directory, output_folder_name)\n",
        "    os.makedirs(path2audiochunks, exist_ok=True)\n",
        "    chunk_directory = prep_transc_pydub(    \n",
        "                                        vid_clip_name,\n",
        "                                        in_dir=directory,\n",
        "                                        out_dir=path2audiochunks,\n",
        "                                        len_chunks=chunk_length_seconds,\n",
        "                                        verbose=verbose,\n",
        "                                    )\n",
        "   \n",
        "\n",
        "    if verbose:\n",
        "        print(\n",
        "            \"converted video to audio. About to start transcription loop for file: \",\n",
        "            vid_clip_name,\n",
        "        )\n",
        "    torch_validate_cuda()\n",
        "    check_runhardware()\n",
        "    full_transcription = []\n",
        "    before_loop_st = time.time()\n",
        "    GPU_update_incr = math.ceil(len(chunk_directory) / 2)\n",
        "    _need_update = True\n",
        "    # Load audio chunks by name, pass into model, append output text-----------------------------------------------\n",
        "\n",
        "    for audio_chunk in tqdm(\n",
        "        chunk_directory,\n",
        "        total=len(chunk_directory),\n",
        "        desc= f\"transcribing {shorten_title(vid_clip_name)}:\\t\",\n",
        "    ):\n",
        "\n",
        "\n",
        "        current_loc = chunk_directory.index(audio_chunk)\n",
        "\n",
        "        if (current_loc % GPU_update_incr == 0) and (GPU_update_incr != 0) and _need_update:\n",
        "            # provide update on GPU usage\n",
        "            check_runhardware()\n",
        "            _need_update = False\n",
        "\n",
        "        # load dat chunk\n",
        "        audio_input, rate = librosa.load(\n",
        "                                        join(path2audiochunks,\n",
        "                                            audio_chunk),\n",
        "                                        sr=16000\n",
        "                                    )\n",
        "        # MODEL\n",
        "        device = \"cuda:0\" if torch.cuda.is_available() else \"cpu\"\n",
        "        input_values = tokenizer(\n",
        "                    audio_input, return_tensors=\"pt\", padding=\"longest\", \n",
        "                ).input_values.to(\n",
        "                    device\n",
        "            )\n",
        "        transcription_model = transcription_model.to(device)\n",
        "        logits = transcription_model(input_values).logits\n",
        "        predicted_ids = torch.argmax(logits, dim=-1)\n",
        "        transcription = str(tokenizer.batch_decode(predicted_ids)[0])\n",
        "        full_transcription.append(transcription + \"\\n\")\n",
        "        # empty memory so you don't overload the GPU\n",
        "        del input_values, logits, predicted_ids, audio_input\n",
        "        torch.cuda.empty_cache()\n",
        "\n",
        "    if verbose:\n",
        "        print(\"\\nFinished transc. of {}, saving metrics \".format(vid_clip_name))\n",
        "\n",
        "    # build metadata log -------------------------------------------------\n",
        "    mdata = []\n",
        "    mdata.append(\"original file name: \" + vid_clip_name + \"\\n\")\n",
        "    mdata.append(\n",
        "        \"number of recorded audio chunks: \"\n",
        "        + str(len(chunk_directory))\n",
        "        + \" of lengths seconds each\"\n",
        "        + str(chunk_length_seconds)\n",
        "        + \"\\n\"\n",
        "    )\n",
        "    approx_input_len = (len(chunk_directory) * chunk_length_seconds) / 60\n",
        "    mdata.append(\n",
        "        \"approx {0:3f}\".format(approx_input_len) + \" minutes of input audio \\n\"\n",
        "    )\n",
        "    mdata.append(\n",
        "        \"transcription date: \"\n",
        "        + datetime.now().strftime(\"date_%d_%m_%Y_time_%H-%M-%S\")\n",
        "        + \"\\n\"\n",
        "    )\n",
        "    full_text = \" \".join(full_transcription)\n",
        "    transcript_length = len(full_text)\n",
        "    mdata.append(\n",
        "        \"length of transcribed text: \" + str(transcript_length) + \" characters \\n\"\n",
        "    )\n",
        "    t_word_count = len(full_text.split(\" \"))\n",
        "    mdata.append(\n",
        "        \"total word count: \" + str(t_word_count) + \" words (based on spaces) \\n\"\n",
        "    )\n",
        "\n",
        "    # delete audio chunks in folder -------------------------------------------------\n",
        "    try:\n",
        "        shutil.rmtree(path2audiochunks)\n",
        "        if verbose:\n",
        "            print(\"\\nDeleted Audio Chunk Folder + Files\")\n",
        "    except:\n",
        "        print(\"warning - could not delete the audio chunk folder on VM\")\n",
        "    # compile results -------------------------------------------------\n",
        "    transcription_results = {\n",
        "        \"audio_transcription\": full_transcription,\n",
        "        \"metadata\": mdata,\n",
        "    }\n",
        "\n",
        "    return transcription_results"
      ]
    },
    {
      "cell_type": "code",
      "execution_count": null,
      "metadata": {
        "id": "cDWUIQodL85m",
        "colab": {
          "base_uri": "https://localhost:8080/"
        },
        "outputId": "d5243428-00a1-4ec9-852d-89bd026f1206"
      },
      "outputs": [
        {
          "output_type": "display_data",
          "data": {
            "text/html": [
              "\n",
              "  <style>\n",
              "    pre {\n",
              "        white-space: pre-wrap;\n",
              "    }\n",
              "  </style>\n",
              "  "
            ],
            "text/plain": [
              "<IPython.core.display.HTML object>"
            ]
          },
          "metadata": {}
        }
      ],
      "source": [
        "def save_transcript_outputs(fileheader, file_id, output_dict):\n",
        "\n",
        "    full_transcription = output_dict.get(\"audio_transcription\")\n",
        "    metadata = output_dict.get(\"metadata\")\n",
        "\n",
        "    # check if directories for output exist. If not, create them\n",
        "    storage_locs = validate_output_directories(directory)\n",
        "    output_path_transcript = storage_locs.get(\"t_out\")\n",
        "    output_path_metadata = storage_locs.get(\"m_out\")\n",
        "\n",
        "    transcribed_filename = fileheader + \"_transcription_\" + file_id + \".txt\"\n",
        "    transcribed_file = open(\n",
        "        join(output_path_transcript, transcribed_filename),\n",
        "        \"w\",\n",
        "        encoding=\"utf-8\",\n",
        "        errors=\"ignore\",\n",
        "    )\n",
        "    transcribed_file.writelines(full_transcription)\n",
        "    transcribed_file.close()\n",
        "    # metadata\n",
        "    metadata_filename = (\n",
        "        \"metadata - \" + fileheader + \"_transcription_\" + file_id + \".txt\"\n",
        "    )\n",
        "    metadata_file = open(\n",
        "        join(output_path_metadata, metadata_filename),\n",
        "        \"w\",\n",
        "        encoding=\"utf-8\",\n",
        "        errors=\"ignore\",\n",
        "    )\n",
        "    metadata_file.writelines(metadata)\n",
        "    metadata_file.close()\n",
        "\n",
        "    print(\"saved outputs for file ID {} - \".format(file_id), datetime.now())"
      ]
    },
    {
      "cell_type": "markdown",
      "metadata": {
        "id": "TVc71e0R9fa-"
      },
      "source": [
        "### keyword extraction"
      ]
    },
    {
      "cell_type": "code",
      "execution_count": null,
      "metadata": {
        "id": "78rJKtvP9d-T",
        "colab": {
          "base_uri": "https://localhost:8080/"
        },
        "outputId": "2aa85f24-8594-4d67-cde2-e2e3720c987f"
      },
      "outputs": [
        {
          "output_type": "display_data",
          "data": {
            "text/html": [
              "\n",
              "  <style>\n",
              "    pre {\n",
              "        white-space: pre-wrap;\n",
              "    }\n",
              "  </style>\n",
              "  "
            ],
            "text/plain": [
              "<IPython.core.display.HTML object>"
            ]
          },
          "metadata": {}
        }
      ],
      "source": [
        "def quick_keys(\n",
        "    filename, filepath, max_ngrams=3, num_keywords=20, save_db=False, verbose=False\n",
        "):\n",
        "    # uses YAKE to quickly determine keywords in a text file. Saves Keywords and YAKE score (0 means very important) in\n",
        "    # an excel file (from a dataframe)\n",
        "    # yes, the double entendre is intended.\n",
        "    file = open(join(filepath, filename), \"r\", encoding=\"utf-8\", errors=\"ignore\")\n",
        "    text = file.read()\n",
        "    file.close()\n",
        "\n",
        "    language = \"en\"\n",
        "    deduplication_threshold = 0.6  # technically a hyperparameter\n",
        "    custom_kw_extractor = yake.KeywordExtractor(\n",
        "        lan=language,\n",
        "        n=max_ngrams,\n",
        "        dedupLim=deduplication_threshold,\n",
        "        top=num_keywords,\n",
        "        features=None,\n",
        "    )\n",
        "    yake_keywords = custom_kw_extractor.extract_keywords(text)\n",
        "    phrase_db = pd.DataFrame(yake_keywords)\n",
        "    if verbose:\n",
        "        print(\"YAKE keywords are: \\n\", yake_keywords)\n",
        "        print(\"dataframe looks like: \\n\")\n",
        "        pp.pprint(phrase_db.head())\n",
        "\n",
        "    if len(phrase_db) == 0:\n",
        "        print(\"warning - no phrases were able to be extracted... \")\n",
        "        return None\n",
        "\n",
        "    phrase_db.columns = [\"key_phrase\", \"YAKE_score\"]\n",
        "\n",
        "    # add a column for how many words the phrases contain\n",
        "    yake_kw_len = []\n",
        "    yake_kw_freq = []\n",
        "    for entry in yake_keywords:\n",
        "        entry_wordcount = len(str(entry).split(\" \")) - 1\n",
        "        yake_kw_len.append(entry_wordcount)\n",
        "\n",
        "    for index, row in phrase_db.iterrows():\n",
        "        search_term = row[\"key_phrase\"]\n",
        "        entry_freq = text.count(str(search_term))\n",
        "        yake_kw_freq.append(entry_freq)\n",
        "\n",
        "    word_len_series = pd.Series(yake_kw_len, name=\"No. Words in Phrase\")\n",
        "    word_freq_series = pd.Series(yake_kw_freq, name=\"Phrase Freq. in Text\")\n",
        "    phrase_db2 = pd.concat([phrase_db, word_len_series, word_freq_series], axis=1)\n",
        "    # add column names and save file as excel because CSVs suck\n",
        "    phrase_db2.columns = [\n",
        "        \"key_phrase\",\n",
        "        \"YAKE Score (Lower = More Important)\",\n",
        "        \"num_words\",\n",
        "        \"freq_in_text\",\n",
        "    ]\n",
        "\n",
        "    if save_db:\n",
        "        # saves individual file if user asks\n",
        "        yake_fname = (\n",
        "            beautify_filename(filename=filename, start_reverse=False)\n",
        "            + \"_top_phrases_YAKE.xlsx\"\n",
        "        )\n",
        "        phrase_db2.to_excel(join(filepath, yake_fname), index=False)\n",
        "\n",
        "    # print out top 10 keywords, or if desired num keywords less than 10, all of them\n",
        "    max_no_disp = 10\n",
        "    if num_keywords > max_no_disp:\n",
        "        num_phrases_disp = max_no_disp\n",
        "    else:\n",
        "        num_phrases_disp = num_keywords\n",
        "\n",
        "    if verbose:\n",
        "        print(\"Top Key Phrases from YAKE, with max n-gram length: \", max_ngrams, \"\\n\")\n",
        "        pp.pprint(phrase_db2.head(n=num_phrases_disp))\n",
        "    else:\n",
        "        list_o_words = phrase_db2[\"key_phrase\"].to_list()\n",
        "        print(\"top 5 phrases are: \\n\")\n",
        "        if len(list_o_words) < 5:\n",
        "            pp.pprint(list_o_words)\n",
        "        else:\n",
        "            pp.pprint(list_o_words[:5])\n",
        "\n",
        "    return phrase_db2"
      ]
    },
    {
      "cell_type": "markdown",
      "metadata": {
        "id": "hZjjohmBr7Oa"
      },
      "source": [
        "# Specify Key Parameters"
      ]
    },
    {
      "cell_type": "markdown",
      "metadata": {
        "id": "ph6f5Bo0Yt3q"
      },
      "source": [
        "## Load & Validate Source Files"
      ]
    },
    {
      "cell_type": "code",
      "execution_count": null,
      "metadata": {
        "cellView": "form",
        "id": "pusCMJhVpLD7",
        "colab": {
          "base_uri": "https://localhost:8080/",
          "height": 51
        },
        "outputId": "8c405eaf-9212-4665-a5bd-06990b7b10a1"
      },
      "outputs": [
        {
          "output_type": "display_data",
          "data": {
            "text/html": [
              "\n",
              "  <style>\n",
              "    pre {\n",
              "        white-space: pre-wrap;\n",
              "    }\n",
              "  </style>\n",
              "  "
            ],
            "text/plain": [
              "<IPython.core.display.HTML object>"
            ]
          },
          "metadata": {}
        },
        {
          "output_type": "stream",
          "name": "stdout",
          "text": [
            "currently allowed media types are:\n",
            "['.mp4', '.mov', '.mkv', '.mp3', '.wav', '.ogg', '.m4a']\n"
          ]
        }
      ],
      "source": [
        "from pathlib import Path\n",
        "#@markdown define allowed extension types and a function to validate if media present in user folder\n",
        "\n",
        "extensions = [\".mp4\",\".mov\",\".mkv\",\n",
        "                  \".mp3\",\".wav\",\".ogg\", \".m4a\",\n",
        "                  ]\n",
        "def is_media_empty(dir):\n",
        "    _dir = Path(dir)\n",
        "    dirfiles = [f for f in _dir.iterdir() if f.is_file()]\n",
        "    if len(dirfiles) < 1: return True\n",
        "\n",
        "    for df in dirfiles:\n",
        "        this_ext = df.suffix\n",
        "        if any([m in this_ext for m in extensions]):\n",
        "            return False\n",
        "    return True\n",
        "\n",
        "print(f'currently allowed media types are:\\n{extensions}')"
      ]
    },
    {
      "cell_type": "code",
      "execution_count": null,
      "metadata": {
        "cellView": "form",
        "id": "9xPJyuR6XVFc",
        "colab": {
          "base_uri": "https://localhost:8080/",
          "height": 138
        },
        "outputId": "bf49bdb7-9b9f-4705-9845-d39866413f6c"
      },
      "outputs": [
        {
          "output_type": "display_data",
          "data": {
            "text/html": [
              "\n",
              "  <style>\n",
              "    pre {\n",
              "        white-space: pre-wrap;\n",
              "    }\n",
              "  </style>\n",
              "  "
            ],
            "text/plain": [
              "<IPython.core.display.HTML object>"
            ]
          },
          "metadata": {}
        },
        {
          "output_type": "stream",
          "name": "stdout",
          "text": [
            "Found extension: mp4\n",
            "Downloading file...\n",
            "Download complete.\n",
            "Will transcribe the following: \n",
            "\n",
            "['/content/President%20Kennedy%27s%201962%20Speech%20on%20the%20US%20Space%20Program%20%20C-SPAN%20Classroom.mp4']\n"
          ]
        }
      ],
      "source": [
        "#@title load media files \n",
        "#@markdown allowed extensions defined in cell above\n",
        "# iterate through and grab files:\n",
        "import requests\n",
        "files_to_munch = []\n",
        "_target_file = download_single_file(\n",
        "    URL_of_media, \n",
        "    verbose=True,\n",
        ")\n",
        "files_to_munch.append(_target_file)\n",
        "total_files_1 = len(files_to_munch)\n",
        "removed_count_1 = 0\n",
        "approved_files = []\n",
        "# remove non-media files\n",
        "for prefile in files_to_munch:\n",
        "    if any([m in prefile for m in extensions]):\n",
        "        approved_files.append(prefile)\n",
        "    else:\n",
        "        files_to_munch.remove(prefile)\n",
        "        removed_count_1 += 1\n",
        "\n",
        "print(\"Will transcribe the following: \\n\")\n",
        "pp.pprint(approved_files)"
      ]
    },
    {
      "cell_type": "markdown",
      "source": [
        "Original video can be viewed [here](https://www.c-span.org/classroom/document/?7986)"
      ],
      "metadata": {
        "id": "lQHuf3zEDn7D"
      }
    },
    {
      "cell_type": "markdown",
      "metadata": {
        "id": "bV3ov-0Z_PXf"
      },
      "source": [
        "## Load wav2vec2 model (#3)\n",
        "\n",
        "- <font color = \"orange\">enter chunk length & choose a model. defaults should work fine for most cases \n",
        "- with recent upgrades made on the function to convert media to `.wav` audio chunks there is no \"runtime penalty\" of a smaller chunk length as before. Just keep in mind as the number decreases **too low** then the model won't have the relevant auditory context to determine what is being said effectively.\n",
        "\n",
        "\n"
      ]
    },
    {
      "cell_type": "code",
      "execution_count": null,
      "metadata": {
        "cellView": "form",
        "id": "yTmbBo39ZUkI",
        "colab": {
          "base_uri": "https://localhost:8080/",
          "height": 17
        },
        "outputId": "ba6244d7-68e1-43fb-e53e-fabc99456be4"
      },
      "outputs": [
        {
          "output_type": "display_data",
          "data": {
            "text/html": [
              "\n",
              "  <style>\n",
              "    pre {\n",
              "        white-space: pre-wrap;\n",
              "    }\n",
              "  </style>\n",
              "  "
            ],
            "text/plain": [
              "<IPython.core.display.HTML object>"
            ]
          },
          "metadata": {}
        }
      ],
      "source": [
        "chunk_length =   15# @param {type:\"integer\"}\n",
        "_model = \"facebook/hubert-large-ls960-ft\" #@param [\"facebook/wav2vec2-large-960h-lv60-self\", \"facebook/hubert-large-ls960-ft\", \"facebook/hubert-xlarge-ls960-ft\", \"facebook/wav2vec2-base-960h\"] {allow-input: true}\n",
        "#@markdown - model name is the tag on huggingface.co\n",
        "#@markdown - demo output uses `facebook/hubert-xlarge-ls960-ft` but this is pretty GPU intensive; try `large` first.\n",
        "#@markdown - if experiencing GPU memory usage issues, try `facebook/wav2vec2-base-960h`"
      ]
    },
    {
      "cell_type": "code",
      "execution_count": null,
      "metadata": {
        "cellView": "form",
        "id": "k_gAUG_9aK-d",
        "colab": {
          "base_uri": "https://localhost:8080/",
          "height": 295,
          "referenced_widgets": [
            "fd6b8725dbb0448a8e8a2ecebddc3e30",
            "cada3ecc2d204268bbd41ec3e4e15ed0",
            "bf13271ab6de418ca7ac7259d9289e05",
            "d3f995a3b9684f2ca6ad928719474c0b",
            "1c8cb8abe5c341f19c0449f8183f9d45",
            "74a1a64c7b8143c19516cdf63b8fd5f3",
            "ec2ba871c23f4bbfa77d535ab57abe33",
            "d6bbf315f3774f35bf509dfdcb06b269",
            "02d28776a524451384543aeec96391b0",
            "5603281ab73d49a390ca76fdf16cf648",
            "57bb0cb668fb45eaa4e816b475ab423d",
            "74ceb9e60dc049608677c144abb57f13",
            "c9a9d151e5dc4bcfb2fa95742fc83bde",
            "22267194855846618f5f5d549d45c4f0",
            "6e619859672d4e2b9a304077610cc464",
            "b29fc3ec1f5e4766a0cace74d51a0380",
            "7ae210e104af448eb35b4c6ddd5ac4cf",
            "bef4b79e08dc4cacbf6a7a8b49067e86",
            "5b83870784af435182b3a950849c0523",
            "f88d6596a6c84d2b8eaa60152cab636c",
            "9b09b521471940e0a31a50b3a9ff3767",
            "4c50a7e747e249c0b32b8f20fc4776ad",
            "7a9a21abd9fd4af0acff1b8e4f3a400b",
            "9bc1673c29c74c2dbd26ac9027c0066e",
            "43f9fd175d2a4233b275d0df7fc98cc1",
            "03b2cd08393240bd89edf40d29659402",
            "e4b2757a7c0c4d8c8efe880699893604",
            "f0ba2f8238bb4ccd844a131b9215c71a",
            "d71d83dc3f934f98a10ce0b75e6898d4",
            "382c5fd340924c31939a13353d618ebc",
            "c0d59cbdf3a142d3b78fc0cf3376cea5",
            "4fbc19aa1b06404ea37b5941f9d8c836",
            "f77495ead8f64ac694164b138e1ddb5f",
            "7f69aebed2854f528fcdd2b9df0b21b3",
            "73853517dc0744f4a8dcaaee60e27c98",
            "1d59779847074df8b55260f64e97d04c",
            "cf01fb7b88dc41559ee751a2e06c6c6d",
            "60225fc3f501412cbac28e79a9929e47",
            "e9cf27c0293d4f1a86e47de5031c3597",
            "d7a69b050edc4fe8ae343d075bd6ca0c",
            "f1ba76a56c614a21a2588c421d0f45af",
            "8179ac54866d40b1a43250b01664e0c3",
            "e20a74b4d0a045f596798ae724fa371d",
            "c634631a32554554ae9b203aef5f6a84",
            "623805f356b048b383f2b63e174f8225",
            "f16abda2828244d3b7787695842c5902",
            "878b09cca9ec42efbd36fbf7b2773674",
            "fe7e9ff930e54816aacb3c6e751269b6",
            "5444fe848e7a42e185a6cad864fed745",
            "4c873227c5dd4f7bbe70ae3720c90d0f",
            "d2ad083006184c268b471dcb9fe9307c",
            "d0165f18b6af410088bb5534488edeb3",
            "e21602e1ff234c91ab6786042fcbf04d",
            "0e2c441a9c2349ed89a16be9787fc098",
            "6721c76549754424a2faa2ec301e7960",
            "388a54e06ad54a60b0c6d6b22672dfc6",
            "061effc0a16f4d98944a03481a824139",
            "4f947b76ef614f3ab358443518bc80c7",
            "fde54e9a9cf9485a99b992f2047b1599",
            "e0c1a7e0c8c2481386379cf803383705",
            "afc09841acc7430a9699c34788020234",
            "9d65fc63e8274d15b410f25393f34e2c",
            "fa5161ca67c246008a3860d6f8e85cb7",
            "0b7f040dc6064b688883a40d896b5b5b",
            "8e9045bbfe2a4401ab359ddcb03a5cb8",
            "b402ecec77434490960cc239ad8c49ea"
          ]
        },
        "outputId": "aba110b7-dedb-489d-f446-830fdf119a11"
      },
      "outputs": [
        {
          "output_type": "display_data",
          "data": {
            "text/html": [
              "\n",
              "  <style>\n",
              "    pre {\n",
              "        white-space: pre-wrap;\n",
              "    }\n",
              "  </style>\n",
              "  "
            ],
            "text/plain": [
              "<IPython.core.display.HTML object>"
            ]
          },
          "metadata": {}
        },
        {
          "output_type": "stream",
          "name": "stdout",
          "text": [
            "\n",
            "Preparing to load model: facebook/hubert-xlarge-ls960-ft\n"
          ]
        },
        {
          "output_type": "display_data",
          "data": {
            "application/vnd.jupyter.widget-view+json": {
              "model_id": "fd6b8725dbb0448a8e8a2ecebddc3e30",
              "version_minor": 0,
              "version_major": 2
            },
            "text/plain": [
              "Downloading:   0%|          | 0.00/212 [00:00<?, ?B/s]"
            ]
          },
          "metadata": {}
        },
        {
          "output_type": "display_data",
          "data": {
            "application/vnd.jupyter.widget-view+json": {
              "model_id": "74ceb9e60dc049608677c144abb57f13",
              "version_minor": 0,
              "version_major": 2
            },
            "text/plain": [
              "Downloading:   0%|          | 0.00/138 [00:00<?, ?B/s]"
            ]
          },
          "metadata": {}
        },
        {
          "output_type": "display_data",
          "data": {
            "application/vnd.jupyter.widget-view+json": {
              "model_id": "7a9a21abd9fd4af0acff1b8e4f3a400b",
              "version_minor": 0,
              "version_major": 2
            },
            "text/plain": [
              "Downloading:   0%|          | 0.00/1.45k [00:00<?, ?B/s]"
            ]
          },
          "metadata": {}
        },
        {
          "output_type": "display_data",
          "data": {
            "application/vnd.jupyter.widget-view+json": {
              "model_id": "7f69aebed2854f528fcdd2b9df0b21b3",
              "version_minor": 0,
              "version_major": 2
            },
            "text/plain": [
              "Downloading:   0%|          | 0.00/292 [00:00<?, ?B/s]"
            ]
          },
          "metadata": {}
        },
        {
          "output_type": "display_data",
          "data": {
            "application/vnd.jupyter.widget-view+json": {
              "model_id": "623805f356b048b383f2b63e174f8225",
              "version_minor": 0,
              "version_major": 2
            },
            "text/plain": [
              "Downloading:   0%|          | 0.00/85.0 [00:00<?, ?B/s]"
            ]
          },
          "metadata": {}
        },
        {
          "output_type": "display_data",
          "data": {
            "application/vnd.jupyter.widget-view+json": {
              "model_id": "388a54e06ad54a60b0c6d6b22672dfc6",
              "version_minor": 0,
              "version_major": 2
            },
            "text/plain": [
              "Downloading:   0%|          | 0.00/3.59G [00:00<?, ?B/s]"
            ]
          },
          "metadata": {}
        },
        {
          "output_type": "stream",
          "name": "stdout",
          "text": [
            "loaded the following model: facebook/hubert-xlarge-ls960-ft  at  2022-01-28 05:04:56.106890\n",
            "CPU times: user 1min 5s, sys: 11.1 s, total: 1min 17s\n",
            "Wall time: 1min 39s\n"
          ]
        }
      ],
      "source": [
        "#@title load model from huggingface hub\n",
        "%%time\n",
        "from transformers import (\n",
        "    Wav2Vec2ForMaskedLM, \n",
        "    Wav2Vec2CTCTokenizer, \n",
        "    Wav2Vec2Processor,\n",
        "    HubertForCTC,\n",
        ")\n",
        "\n",
        "gpu_mem = round(gpu_mem_total() / 1024, 2)\n",
        "\n",
        "if gpu_mem < 15 and chunk_length > 20:\n",
        "    print(\"GPU memory of {} is too low.. setting chunk length to 20\".format(gpu_mem))\n",
        "    chunk_length = 20  # automatically adjust down to avoid issues\n",
        "\n",
        "\n",
        "print(\"\\nPreparing to load model: \" + _model)\n",
        "tokenizer = Wav2Vec2Processor.from_pretrained(_model)\n",
        "\n",
        "if \"hubert\" in _model.lower():\n",
        "    model = HubertForCTC.from_pretrained(_model,\n",
        "                                         gradient_checkpointing=True,\n",
        "                                         low_cpu_mem_usage=False, # set to true if issues\n",
        "                                    )\n",
        "else:\n",
        "    model = Wav2Vec2ForCTC.from_pretrained(_model)\n",
        "# (in seconds) if model fails to work or errors out (and there isn't some other\n",
        "# obvious error, reduce this number. 20-25 is a good start.\n",
        "print(\"loaded the following model:\", _model, \" at \", datetime.now())"
      ]
    },
    {
      "cell_type": "markdown",
      "metadata": {
        "id": "2P4LaEB-ecL3"
      },
      "source": [
        "---"
      ]
    },
    {
      "cell_type": "markdown",
      "metadata": {
        "id": "zybapeYW_4uw"
      },
      "source": [
        "# Run Transformers Model "
      ]
    },
    {
      "cell_type": "code",
      "execution_count": null,
      "metadata": {
        "cellView": "form",
        "id": "PigSuPnG_qP6",
        "colab": {
          "base_uri": "https://localhost:8080/",
          "height": 86
        },
        "outputId": "cd6ba605-ebce-4b3d-a051-175c70e66794"
      },
      "outputs": [
        {
          "output_type": "display_data",
          "data": {
            "text/html": [
              "\n",
              "  <style>\n",
              "    pre {\n",
              "        white-space: pre-wrap;\n",
              "    }\n",
              "  </style>\n",
              "  "
            ],
            "text/plain": [
              "<IPython.core.display.HTML object>"
            ]
          },
          "metadata": {}
        },
        {
          "output_type": "stream",
          "name": "stdout",
          "text": [
            "\n",
            "Gen RAM Free: 47.1 GB  | Proc size: 10.4 GB  | 8 CPUs  loaded at 16.5 % |\n",
            "GPU RAM Free: 16158MB | Used: 2MB | Util   0% | Total 16160MB\n",
            "\n"
          ]
        }
      ],
      "source": [
        "import gc\n",
        "#@markdown initial check - hardware\n",
        "gc.collect()\n",
        "check_runhardware()"
      ]
    },
    {
      "cell_type": "code",
      "execution_count": null,
      "metadata": {
        "cellView": "form",
        "collapsed": true,
        "id": "7EkpWuk3bmpP",
        "colab": {
          "base_uri": "https://localhost:8080/",
          "height": 324,
          "referenced_widgets": [
            "87dc98f18c23424ab1bd7d7246ada879",
            "c8f6c5dfb28a49f3930850980f337858",
            "abfc22a241c342f6bd0e8ec6fd579c22",
            "cecdf44eb5714fb0b445544d80db0235",
            "3c1a709dd5b54ce8979faeed72f74c20",
            "c8679efb744c4e2da70cde16db8c3e05",
            "6177ba3d8d7f487ea9ba6b107730419d",
            "9044fd308249405f80c30559396f97cf",
            "2c893eaab36846e0a4a71c6d1888a754",
            "48ce5069d0ab4556baf8ba83b539f1e7",
            "f393e2eb5c704e88800da15dbd9cf04e",
            "a373fcbf73494ab097d66aea808381ce",
            "c12c4f30dc0a43f59e981bde3dd92946",
            "0c9eaa7fb31a4411b01f2025944a20a7",
            "579911f2e3744f5cb24454a32d12f0a0",
            "8fed54a558f6474593023e2666037a3a",
            "734911299d3d4e56ad6f5b01a46d3dee",
            "fbab5d9e387643d0981c7a25e8a1aaa5",
            "51de8ff0c38045fb85e9e77908eecf73",
            "87b51f2da20c421882c11fddb6b76381",
            "863e065d4ae5450980049cad7922fadf",
            "05ab2fd5f69649deb8cc6120cd880c06"
          ]
        },
        "outputId": "c9124295-bffc-41c0-8a23-0f9fe812d689"
      },
      "outputs": [
        {
          "output_type": "display_data",
          "data": {
            "text/html": [
              "\n",
              "  <style>\n",
              "    pre {\n",
              "        white-space: pre-wrap;\n",
              "    }\n",
              "  </style>\n",
              "  "
            ],
            "text/plain": [
              "<IPython.core.display.HTML object>"
            ]
          },
          "metadata": {}
        },
        {
          "output_type": "display_data",
          "data": {
            "application/vnd.jupyter.widget-view+json": {
              "model_id": "87dc98f18c23424ab1bd7d7246ada879",
              "version_minor": 0,
              "version_major": 2
            },
            "text/plain": [
              "Main Proc: \t:   0%|          | 0/1 [00:00<?, ?it/s]"
            ]
          },
          "metadata": {}
        },
        {
          "output_type": "stream",
          "name": "stdout",
          "text": [
            "Starting file:  /content/President%20Kennedy%27s%201962%20Speech%20on%20the%20US%20Space%20Program%20%20C-SPAN%20Classroom.mp4\n",
            "\n",
            "created audio chunks in 0.01898 seconds - Jan-28-2022_-05\n",
            "\n",
            "Gen RAM Free: 47.1 GB  | Proc size: 10.4 GB  | 8 CPUs  loaded at 10.5 % |\n",
            "GPU RAM Free: 16158MB | Used: 2MB | Util   0% | Total 16160MB\n",
            "\n"
          ]
        },
        {
          "output_type": "display_data",
          "data": {
            "application/vnd.jupyter.widget-view+json": {
              "model_id": "a373fcbf73494ab097d66aea808381ce",
              "version_minor": 0,
              "version_major": 2
            },
            "text/plain": [
              "transcribing /content/President%2...:\t:   0%|          | 0/16 [00:00<?, ?it/s]"
            ]
          },
          "metadata": {}
        },
        {
          "output_type": "stream",
          "name": "stdout",
          "text": [
            "\n",
            "Gen RAM Free: 47.1 GB  | Proc size: 10.4 GB  | 8 CPUs  loaded at 23.3 % |\n",
            "GPU RAM Free: 16158MB | Used: 2MB | Util   0% | Total 16160MB\n",
            "\n",
            "saved outputs for file ID 1 -  2022-01-28 05:05:31.949851\n"
          ]
        }
      ],
      "source": [
        "#@title Transcription Loop\n",
        "#@markdown - here's where the transformer model is applied.\n",
        "#@markdown - transcription speed depends on a lot of things, most notably what \n",
        "#@markdown GPU the runtime was assigned (check at the top of notebook)\n",
        "\n",
        "\n",
        "if use_url:\n",
        "    vid_src_folder = URL_save_folder\n",
        "else:\n",
        "    vid_src_folder = directory\n",
        "\n",
        "storage_locs = validate_output_directories(directory)\n",
        "output_path_transcript = storage_locs.get(\"t_out\")\n",
        "output_path_metadata = storage_locs.get(\"m_out\")\n",
        "\n",
        "for filename in tqdm(\n",
        "    approved_files, \n",
        "    total=len(approved_files), \n",
        "    desc=\"Main Proc: \\t\"\n",
        "):\n",
        "\n",
        "    t_results = transcribe_wav2vec(\n",
        "        transcription_model=model,\n",
        "        directory=vid_src_folder,\n",
        "        vid_clip_name=filename,\n",
        "        chunk_length_seconds=chunk_length,\n",
        "    )\n",
        "    # t_results is a dictonary containing the transcript and associated metadata\n",
        "    # label and store this transcription\n",
        "    vid_preamble = beautify_filename(\n",
        "        filename, num_words=30, start_reverse=False\n",
        "    )  # gets a nice phrase from filename\n",
        "    # transcription\n",
        "    ID = str(1 + approved_files.index(filename))\n",
        "    save_transcript_outputs(vid_preamble, ID, t_results)\n"
      ]
    },
    {
      "cell_type": "markdown",
      "metadata": {
        "id": "ZpwGP9EEVWFX"
      },
      "source": [
        "---"
      ]
    },
    {
      "cell_type": "markdown",
      "metadata": {
        "id": "KAlsOjR8AD7R"
      },
      "source": [
        "# Post Model Processing\n",
        "\n",
        "If you got to here, your colab file was able to run the model and transcribe it. Now a little cleaning up, then done."
      ]
    },
    {
      "cell_type": "code",
      "execution_count": null,
      "metadata": {
        "cellView": "form",
        "id": "5ECdmK3tjP4L",
        "colab": {
          "base_uri": "https://localhost:8080/",
          "height": 71
        },
        "outputId": "8503bd8f-52cb-4b40-ab28-ebe1ff04edd6"
      },
      "outputs": [
        {
          "output_type": "display_data",
          "data": {
            "text/html": [
              "\n",
              "  <style>\n",
              "    pre {\n",
              "        white-space: pre-wrap;\n",
              "    }\n",
              "  </style>\n",
              "  "
            ],
            "text/plain": [
              "<IPython.core.display.HTML object>"
            ]
          },
          "metadata": {}
        },
        {
          "output_type": "stream",
          "name": "stdout",
          "text": [
            "out of   1 file(s) originally in the folder,    0 non-txt files were removed\n"
          ]
        },
        {
          "output_type": "execute_result",
          "data": {
            "text/plain": [
              "['content_president_20_kennedy_27_s_20196220_speech_20_on_20_the_20_us_20_space_20_program_2020_c_span_20_classroo_transcription_1.txt']"
            ]
          },
          "metadata": {},
          "execution_count": 29
        }
      ],
      "source": [
        "#@title Validate text files to spell-check\n",
        "#@markdown reload everything from the text directory in case of changes\n",
        "# first, you need to go through the output directory of transcripts and make sure that all those files are gucci\n",
        "transcripts_to_munch = natsorted(\n",
        "    [\n",
        "        f\n",
        "        for f in listdir(output_path_transcript)\n",
        "        if isfile(join(output_path_transcript, f))\n",
        "    ]\n",
        ")\n",
        "t_files = len(transcripts_to_munch)\n",
        "removed_count_t = 0\n",
        "approved_txt_files = []\n",
        "# remove non-.txt files\n",
        "for tfile in transcripts_to_munch:\n",
        "    if tfile.endswith(\".txt\"):\n",
        "        approved_txt_files.append(tfile)\n",
        "    else:\n",
        "        transcripts_to_munch.remove(tfile)\n",
        "        removed_count_t += 1\n",
        "\n",
        "print(\n",
        "    \"out of {0:3d} file(s) originally in the folder, \".format(t_files),\n",
        "    \"{0:3d} non-txt files were removed\".format(removed_count_t),\n",
        ")\n",
        "\n",
        "approved_txt_files"
      ]
    },
    {
      "cell_type": "code",
      "execution_count": null,
      "metadata": {
        "id": "9VVqBJnxdb7Y",
        "cellView": "form",
        "colab": {
          "base_uri": "https://localhost:8080/",
          "height": 329,
          "referenced_widgets": [
            "14438219f6d04090912eeccd34e0d980",
            "3d82264935cb4a639b10375e415e609c",
            "061d06cbb9e74d15be31dc43dd5ed0fe",
            "111bf98ab3534ef3b2ea2498c7c25f0c",
            "c415e068b3d3434aa61854f55c7e0db8",
            "76e0d5879d1f4397b1ff6cffa16c9c2d",
            "dde5f7b6a7f84080956a8a5bd4be9cf7",
            "70597068ff4b4c2a8a8b75e861c4fda3",
            "a2b7bd79008340c4813b30fabda90503",
            "c6dc67df27954a4194894732b98d8e36",
            "f33192ae529f41c9bd8d9ef3a069daf4"
          ]
        },
        "outputId": "25747cac-23b0-4817-fb1a-f887eb56dd4c"
      },
      "outputs": [
        {
          "output_type": "display_data",
          "data": {
            "text/html": [
              "\n",
              "  <style>\n",
              "    pre {\n",
              "        white-space: pre-wrap;\n",
              "    }\n",
              "  </style>\n",
              "  "
            ],
            "text/plain": [
              "<IPython.core.display.HTML object>"
            ]
          },
          "metadata": {}
        },
        {
          "output_type": "display_data",
          "data": {
            "application/vnd.jupyter.widget-view+json": {
              "model_id": "14438219f6d04090912eeccd34e0d980",
              "version_minor": 0,
              "version_major": 2
            },
            "text/plain": [
              "spellcorrect_pipeline on transcriptions:   0%|          | 0/1 [00:00<?, ?it/s]"
            ]
          },
          "metadata": {}
        },
        {
          "output_type": "stream",
          "name": "stdout",
          "text": [
            "\n",
            "Starting file 1 of  1  |  content_president_20_kennedy_27_s_20196220_speech_20_on_20_the_20_us_20_space_20_program_2020_c_span_20_classroo_transcription_1.txt\n",
            "top 5 phrases are: \n",
            "\n",
            "['leading space fearing',\n",
            " 'space fearing nationwide',\n",
            " 'years ago fly',\n",
            " 'fearing nationwide set',\n",
            " 'nationwide set sail']\n",
            "completed keywords\n"
          ]
        },
        {
          "output_type": "display_data",
          "data": {
            "application/javascript": [
              "\n",
              "    async function download(id, filename, size) {\n",
              "      if (!google.colab.kernel.accessAllowed) {\n",
              "        return;\n",
              "      }\n",
              "      const div = document.createElement('div');\n",
              "      const label = document.createElement('label');\n",
              "      label.textContent = `Downloading \"${filename}\": `;\n",
              "      div.appendChild(label);\n",
              "      const progress = document.createElement('progress');\n",
              "      progress.max = size;\n",
              "      div.appendChild(progress);\n",
              "      document.body.appendChild(div);\n",
              "\n",
              "      const buffers = [];\n",
              "      let downloaded = 0;\n",
              "\n",
              "      const channel = await google.colab.kernel.comms.open(id);\n",
              "      // Send a message to notify the kernel that we're ready.\n",
              "      channel.send({})\n",
              "\n",
              "      for await (const message of channel.messages) {\n",
              "        // Send a message to notify the kernel that we're ready.\n",
              "        channel.send({})\n",
              "        if (message.buffers) {\n",
              "          for (const buffer of message.buffers) {\n",
              "            buffers.push(buffer);\n",
              "            downloaded += buffer.byteLength;\n",
              "            progress.value = downloaded;\n",
              "          }\n",
              "        }\n",
              "      }\n",
              "      const blob = new Blob(buffers, {type: 'application/binary'});\n",
              "      const a = document.createElement('a');\n",
              "      a.href = window.URL.createObjectURL(blob);\n",
              "      a.download = filename;\n",
              "      div.appendChild(a);\n",
              "      a.click();\n",
              "      div.remove();\n",
              "    }\n",
              "  "
            ],
            "text/plain": [
              "<IPython.core.display.Javascript object>"
            ]
          },
          "metadata": {}
        },
        {
          "output_type": "display_data",
          "data": {
            "application/javascript": [
              "download(\"download_e58ba95b-a1cf-43ef-8087-e9289e904a5f\", \"YAKE - all keywords - vid2cleantxt_demo - 28012022.csv\", 1215)"
            ],
            "text/plain": [
              "<IPython.core.display.Javascript object>"
            ]
          },
          "metadata": {}
        },
        {
          "output_type": "stream",
          "name": "stdout",
          "text": [
            "Transcription files used to extract KW can be found in: \n",
            "  /content/vid2cleantxt_demo/wav2vec2_sf_transcript/spell_corrected\n",
            "A file with keyword results is in /content/vid2cleantxt_demo/wav2vec2_sf_transcript \n",
            "titled YAKE - all keywords - vid2cleantxt_demo - 28012022.csv\n"
          ]
        }
      ],
      "source": [
        "#@title Spellcorrect Pipeline\n",
        "#@markdown 1. lower output text and correct with Neuspell\n",
        "#@markdown 2. apply pySBD for sentence boundary detection\n",
        "#@markdown 3. extract keywords with the YAKE library\n",
        "\n",
        "transcript_run_qk = pd.DataFrame()  # empty df to hold all the keywords\n",
        "\n",
        "for orig_tscript in tqdm(\n",
        "    approved_txt_files,\n",
        "    total=len(approved_txt_files),\n",
        "    desc=\"spellcorrect_pipeline on transcriptions\",\n",
        "):\n",
        "\n",
        "    current_loc = approved_txt_files.index(orig_tscript) + 1  # add 1 bc start at 0\n",
        "    print(\n",
        "        \"\\nStarting file {} of \".format(current_loc),\n",
        "        len(approved_txt_files),\n",
        "        \" | \",\n",
        "        orig_tscript,\n",
        "    )\n",
        "\n",
        "    PL_out = spellcorrect_pipeline(\n",
        "        output_path_transcript, orig_tscript, verbose=False\n",
        "    )  # verbose is just for debug\n",
        "    directory_for_keywords = PL_out.get(\"spell_corrected_dir\")\n",
        "    filename_for_keywords = PL_out.get(\"sc_filename\")\n",
        "\n",
        "    qk_df = quick_keys(\n",
        "        filepath=directory_for_keywords,\n",
        "        filename=filename_for_keywords,\n",
        "        num_keywords=25,\n",
        "        max_ngrams=3,\n",
        "        save_db=False,\n",
        "        verbose=False,\n",
        "    )\n",
        "\n",
        "    print(\"completed keywords\")\n",
        "    transcript_run_qk = pd.concat([transcript_run_qk, qk_df], axis=1)\n",
        "\n",
        "# save overall transcription file\n",
        "date_field = datetime.now().strftime(\"%d%m%Y\")\n",
        "folder_desc = basename(directory)\n",
        "keyword_db_name = \"YAKE - all keywords - {} - {}.csv\".format(folder_desc, date_field)\n",
        "keywords_total_path = join(output_path_transcript, keyword_db_name)\n",
        "transcript_run_qk.to_csv(keywords_total_path, index=True)\n",
        "download(keywords_total_path)\n",
        "\n",
        "# print results\n",
        "print(\n",
        "    \"Transcription files used to extract KW can be found in: \\n \",\n",
        "    directory_for_keywords,\n",
        ")\n",
        "print(\n",
        "    \"A file with keyword results is in {} \\ntitled {}\".format(\n",
        "        output_path_transcript, keyword_db_name\n",
        "    )\n",
        ")"
      ]
    },
    {
      "cell_type": "markdown",
      "metadata": {
        "id": "3A9BykjRbOpc"
      },
      "source": [
        "---"
      ]
    },
    {
      "cell_type": "markdown",
      "metadata": {
        "id": "a9qbVc4PAcFZ"
      },
      "source": [
        "# Save, Download, Exit\n"
      ]
    },
    {
      "cell_type": "code",
      "execution_count": null,
      "metadata": {
        "cellView": "form",
        "id": "sHfbbCPcKVZp",
        "colab": {
          "base_uri": "https://localhost:8080/",
          "height": 34
        },
        "outputId": "1c3ef0a7-492c-420e-9c84-48f8a3a167e3"
      },
      "outputs": [
        {
          "output_type": "display_data",
          "data": {
            "text/html": [
              "\n",
              "  <style>\n",
              "    pre {\n",
              "        white-space: pre-wrap;\n",
              "    }\n",
              "  </style>\n",
              "  "
            ],
            "text/plain": [
              "<IPython.core.display.HTML object>"
            ]
          },
          "metadata": {}
        },
        {
          "output_type": "display_data",
          "data": {
            "application/javascript": [
              "\n",
              "    async function download(id, filename, size) {\n",
              "      if (!google.colab.kernel.accessAllowed) {\n",
              "        return;\n",
              "      }\n",
              "      const div = document.createElement('div');\n",
              "      const label = document.createElement('label');\n",
              "      label.textContent = `Downloading \"${filename}\": `;\n",
              "      div.appendChild(label);\n",
              "      const progress = document.createElement('progress');\n",
              "      progress.max = size;\n",
              "      div.appendChild(progress);\n",
              "      document.body.appendChild(div);\n",
              "\n",
              "      const buffers = [];\n",
              "      let downloaded = 0;\n",
              "\n",
              "      const channel = await google.colab.kernel.comms.open(id);\n",
              "      // Send a message to notify the kernel that we're ready.\n",
              "      channel.send({})\n",
              "\n",
              "      for await (const message of channel.messages) {\n",
              "        // Send a message to notify the kernel that we're ready.\n",
              "        channel.send({})\n",
              "        if (message.buffers) {\n",
              "          for (const buffer of message.buffers) {\n",
              "            buffers.push(buffer);\n",
              "            downloaded += buffer.byteLength;\n",
              "            progress.value = downloaded;\n",
              "          }\n",
              "        }\n",
              "      }\n",
              "      const blob = new Blob(buffers, {type: 'application/binary'});\n",
              "      const a = document.createElement('a');\n",
              "      a.href = window.URL.createObjectURL(blob);\n",
              "      a.download = filename;\n",
              "      div.appendChild(a);\n",
              "      a.click();\n",
              "      div.remove();\n",
              "    }\n",
              "  "
            ],
            "text/plain": [
              "<IPython.core.display.Javascript object>"
            ]
          },
          "metadata": {}
        },
        {
          "output_type": "display_data",
          "data": {
            "application/javascript": [
              "download(\"download_12e5d899-7f3b-4e53-8163-00afdf6972e0\", \"vid2clntxt_transcripts_archive28012022vid2cleantxt_demo.zip\", 5034)"
            ],
            "text/plain": [
              "<IPython.core.display.Javascript object>"
            ]
          },
          "metadata": {}
        },
        {
          "output_type": "display_data",
          "data": {
            "application/javascript": [
              "\n",
              "    async function download(id, filename, size) {\n",
              "      if (!google.colab.kernel.accessAllowed) {\n",
              "        return;\n",
              "      }\n",
              "      const div = document.createElement('div');\n",
              "      const label = document.createElement('label');\n",
              "      label.textContent = `Downloading \"${filename}\": `;\n",
              "      div.appendChild(label);\n",
              "      const progress = document.createElement('progress');\n",
              "      progress.max = size;\n",
              "      div.appendChild(progress);\n",
              "      document.body.appendChild(div);\n",
              "\n",
              "      const buffers = [];\n",
              "      let downloaded = 0;\n",
              "\n",
              "      const channel = await google.colab.kernel.comms.open(id);\n",
              "      // Send a message to notify the kernel that we're ready.\n",
              "      channel.send({})\n",
              "\n",
              "      for await (const message of channel.messages) {\n",
              "        // Send a message to notify the kernel that we're ready.\n",
              "        channel.send({})\n",
              "        if (message.buffers) {\n",
              "          for (const buffer of message.buffers) {\n",
              "            buffers.push(buffer);\n",
              "            downloaded += buffer.byteLength;\n",
              "            progress.value = downloaded;\n",
              "          }\n",
              "        }\n",
              "      }\n",
              "      const blob = new Blob(buffers, {type: 'application/binary'});\n",
              "      const a = document.createElement('a');\n",
              "      a.href = window.URL.createObjectURL(blob);\n",
              "      a.download = filename;\n",
              "      div.appendChild(a);\n",
              "      a.click();\n",
              "      div.remove();\n",
              "    }\n",
              "  "
            ],
            "text/plain": [
              "<IPython.core.display.Javascript object>"
            ]
          },
          "metadata": {}
        },
        {
          "output_type": "display_data",
          "data": {
            "application/javascript": [
              "download(\"download_01448ea5-514f-4c6e-8e11-7c4bada749a8\", \"vid2clntxt_metadata_archive28012022vid2cleantxt_demo.zip\", 647)"
            ],
            "text/plain": [
              "<IPython.core.display.Javascript object>"
            ]
          },
          "metadata": {}
        },
        {
          "output_type": "stream",
          "name": "stdout",
          "text": [
            "downloaded files -  2022-01-28 05:05:39.459632\n"
          ]
        }
      ],
      "source": [
        "#@title Download All Files in .zip\n",
        "#@markdown this needs to be specified in _Setup_ at the beginning\n",
        "import os, shutil\n",
        "from os.path import basename\n",
        "\n",
        "zip_dir = join(directory, \"zipped_outputs\")\n",
        "os.makedirs(zip_dir, exist_ok=True)\n",
        "\n",
        "date_field = datetime.now().strftime(\"%d%m%Y\")\n",
        "folder_desc = basename(directory)\n",
        "base_header = date_field + folder_desc\n",
        "# transcriptions\n",
        "transc_header = \"vid2clntxt_transcripts_archive\" + base_header\n",
        "zip_path_t = join(zip_dir, transc_header)\n",
        "shutil.make_archive(zip_path_t, \"zip\", output_path_transcript)\n",
        "# metadata\n",
        "meta_header = \"vid2clntxt_metadata_archive\" + base_header\n",
        "zip_path_m = join(zip_dir, meta_header)\n",
        "shutil.make_archive(zip_path_m, \"zip\", output_path_metadata)\n",
        "\n",
        "if download_output_files:\n",
        "    files.download(join(zip_dir, zip_path_t + \".zip\"))\n",
        "    time.sleep(5) # browsers do not like when 2 files download instantly\n",
        "    files.download(join(zip_dir, zip_path_m + \".zip\"))\n",
        "    print(\"downloaded files - \", datetime.now())\n",
        "else:\n",
        "    print(\"download_output_files is set to: \", download_output_files)"
      ]
    },
    {
      "cell_type": "code",
      "execution_count": null,
      "metadata": {
        "cellView": "form",
        "id": "e8ekwnvWk9rb",
        "colab": {
          "base_uri": "https://localhost:8080/",
          "height": 676
        },
        "outputId": "71984c52-d5c9-44dc-812e-05f21e0883b9"
      },
      "outputs": [
        {
          "output_type": "display_data",
          "data": {
            "text/html": [
              "\n",
              "  <style>\n",
              "    pre {\n",
              "        white-space: pre-wrap;\n",
              "    }\n",
              "  </style>\n",
              "  "
            ],
            "text/plain": [
              "<IPython.core.display.HTML object>"
            ]
          },
          "metadata": {}
        },
        {
          "output_type": "stream",
          "name": "stdout",
          "text": [
            "\n",
            "\n",
            "the contents of transcribed file FIN_content_president_20_kennedy_27_s_20196220_speech_20_on_20_the_20_us_2.txt:\n",
            "\n",
            "('Now look into space to the moon and to the planets beyond and we have vowed '\n",
            " 'that we shall not see it governed by a hostile flag of conquest but. By a '\n",
            " 'banner of freedom and peace we have vowed that we shall not see space filled '\n",
            " \"with weapons of man's destruction but with instruments of knowledge and \"\n",
            " 'understanding yet the vow. S of this nation can only be fulfilled if we in '\n",
            " 'this nation are first and therefore we intend to be first. In short our '\n",
            " 'leadership in science and industry our hopes for peace and security our '\n",
            " 'obligations to ourselves as well as others all require. Us to make this '\n",
            " 'effort to solve these mysteries to solve them for the good of all men and to '\n",
            " \"become the world's leading space fearing nationwide set sail on this new \"\n",
            " 'sea. Because there is new knowledge to be gained and new rights to be won '\n",
            " 'and they must be won and used for the progress of all before for space '\n",
            " 'science like nuclear science and all techniques. Logo has no conscience of '\n",
            " 'its own whether it will become a force for good or ill depends on man and '\n",
            " 'only if the united states occupies a position of pre eminence. Can we help '\n",
            " 'decide whether this new ocean will be a sea of peace or a new terrifying '\n",
            " 'theatre of war I do not say that we should or will go on. Expected against '\n",
            " 'the hostile misuse of space any more than we go unprotected against the '\n",
            " 'hostile use of land or sea but i do say that space can be explored and '\n",
            " 'mastered. Without feeding the fires of war without repeating the mistakes '\n",
            " 'that man has made in extending his writ around this globe of ours there is '\n",
            " 'no strife no prejudice to national conflict. In outer space as yet its '\n",
            " 'hazards are hostile to us all its conquest deserves the best of all mankind '\n",
            " 'and its opportunity for peaceful in operation may never come again. But why '\n",
            " 'some say the moon why choose this as our goal and they may well ask why '\n",
            " 'climb the highest mountain why thirty five years ago fly the atlantic who '\n",
            " 'does. Splaye texts we choose to go to the moon we choose to go to the moon '\n",
            " 'we choose to go to the moon in this den. And do the other things not because '\n",
            " 'they are easy but because they are hard because that gold will serve to '\n",
            " 'organize and measure the best of our energies and skills because that '\n",
            " \"challenge is. That we're willing to accept one we are unwilling to postpone \"\n",
            " 'and one we intend to win and the others too it is for these reasons that I '\n",
            " 'regard the decision last year')\n"
          ]
        }
      ],
      "source": [
        "#@title print contents of final transcript\n",
        "\n",
        "#@markdown mostly for demo purposes, usually it takes too much space\n",
        "from pathlib import Path\n",
        "_final_out = Path(\"/content/vid2cleantxt_demo/wav2vec2_sf_transcript/FULLY_COMPLETE\")\n",
        "text_files = [f for f in _final_out.iterdir() if f.is_file() and f.suffix == \".txt\"]\n",
        "\n",
        "for _txt in text_files:\n",
        "    print(f\"\\n\\nthe contents of transcribed file {_txt.name}:\\n\")\n",
        "    with open(_txt, 'r', encoding='utf-8', errors='ignore') as fi:\n",
        "        _text = fi.read()\n",
        "    pp.pprint(_text, indent=4)\n"
      ]
    },
    {
      "cell_type": "markdown",
      "metadata": {
        "id": "d5xXtKzB3BaT"
      },
      "source": [
        "Not bad eh, given the video quality? Note that the above was completed with `facebook/hubert-xlarge-ls960-ft` but the official version will be with just `large` as the XL has heavy memory requirements.\n",
        "\n",
        "---"
      ]
    },
    {
      "cell_type": "code",
      "execution_count": null,
      "metadata": {
        "cellView": "form",
        "id": "OOoaNN5f5efD",
        "colab": {
          "base_uri": "https://localhost:8080/",
          "height": 398
        },
        "outputId": "558c65fd-5f5d-4731-8ebc-614c2747a82f"
      },
      "outputs": [
        {
          "output_type": "display_data",
          "data": {
            "text/html": [
              "\n",
              "  <style>\n",
              "    pre {\n",
              "        white-space: pre-wrap;\n",
              "    }\n",
              "  </style>\n",
              "  "
            ],
            "text/plain": [
              "<IPython.core.display.HTML object>"
            ]
          },
          "metadata": {}
        },
        {
          "output_type": "display_data",
          "data": {
            "application/javascript": [
              "\n",
              "  for (rule of document.styleSheets[0].cssRules){\n",
              "    if (rule.selectorText=='body') {\n",
              "      rule.style.fontSize = '24px'\n",
              "      break\n",
              "    }\n",
              "  }\n",
              "  "
            ],
            "text/plain": [
              "<IPython.core.display.Javascript object>"
            ]
          },
          "metadata": {}
        },
        {
          "output_type": "stream",
          "name": "stdout",
          "text": [
            "\n",
            "\n",
            "----------------------------------- Script Complete -------------------------------\n",
            "2022-01-28 05:05:39.485695\n",
            "Transcription files + more in folder: \n",
            " /content/vid2cleantxt_demo/wav2vec2_sf_transcript\n",
            "More specifically, best transcriptions in: \n",
            " /content/vid2cleantxt_demo/wav2vec2_sf_transcript/FULLY_COMPLETE\n",
            "Metadata for each transcription located @ \n",
            " /content/vid2cleantxt_demo/wav2vec2_sf_metadata\n"
          ]
        }
      ],
      "source": [
        "#@title  Exit block\n",
        "increase_font()\n",
        "print(\n",
        "    \"\\n\\n----------------------------------- Script Complete -------------------------------\"\n",
        ")\n",
        "print(datetime.now())\n",
        "print(\"Transcription files + more in folder: \\n\", output_path_transcript)\n",
        "print(\"More specifically, best transcriptions in: \\n\", PL_out.get(\"SBD_dir\"))\n",
        "print(\"Metadata for each transcription located @ \\n\", output_path_metadata)"
      ]
    }
  ],
  "metadata": {
    "accelerator": "GPU",
    "colab": {
      "background_execution": "on",
      "collapsed_sections": [
        "9gqce-JlruPm",
        "mqtG5izgiOng"
      ],
      "machine_shape": "hm",
      "name": "vid2cleantext-single-demo.ipynb",
      "provenance": [],
      "toc_visible": true,
      "include_colab_link": true
    },
    "kernelspec": {
      "display_name": "Python 3",
      "name": "python3"
    },
    "widgets": {
      "application/vnd.jupyter.widget-state+json": {
        "d12a775b0094493eb26e7db683e5edaa": {
          "model_module": "@jupyter-widgets/controls",
          "model_name": "HBoxModel",
          "model_module_version": "1.5.0",
          "state": {
            "_view_name": "HBoxView",
            "_dom_classes": [],
            "_model_name": "HBoxModel",
            "_view_module": "@jupyter-widgets/controls",
            "_model_module_version": "1.5.0",
            "_view_count": null,
            "_view_module_version": "1.5.0",
            "box_style": "",
            "layout": "IPY_MODEL_4bb35e3876ad42aca22b22cd4de99259",
            "_model_module": "@jupyter-widgets/controls",
            "children": [
              "IPY_MODEL_ecbcb176da814f3b9c9687566690d676",
              "IPY_MODEL_1da4f24f467d4d12834659934382c181",
              "IPY_MODEL_f319d3f9e60f43a199f368c8915e453f"
            ]
          }
        },
        "4bb35e3876ad42aca22b22cd4de99259": {
          "model_module": "@jupyter-widgets/base",
          "model_name": "LayoutModel",
          "model_module_version": "1.2.0",
          "state": {
            "_view_name": "LayoutView",
            "grid_template_rows": null,
            "right": null,
            "justify_content": null,
            "_view_module": "@jupyter-widgets/base",
            "overflow": null,
            "_model_module_version": "1.2.0",
            "_view_count": null,
            "flex_flow": null,
            "width": null,
            "min_width": null,
            "border": null,
            "align_items": null,
            "bottom": null,
            "_model_module": "@jupyter-widgets/base",
            "top": null,
            "grid_column": null,
            "overflow_y": null,
            "overflow_x": null,
            "grid_auto_flow": null,
            "grid_area": null,
            "grid_template_columns": null,
            "flex": null,
            "_model_name": "LayoutModel",
            "justify_items": null,
            "grid_row": null,
            "max_height": null,
            "align_content": null,
            "visibility": null,
            "align_self": null,
            "height": null,
            "min_height": null,
            "padding": null,
            "grid_auto_rows": null,
            "grid_gap": null,
            "max_width": null,
            "order": null,
            "_view_module_version": "1.2.0",
            "grid_template_areas": null,
            "object_position": null,
            "object_fit": null,
            "grid_auto_columns": null,
            "margin": null,
            "display": null,
            "left": null
          }
        },
        "ecbcb176da814f3b9c9687566690d676": {
          "model_module": "@jupyter-widgets/controls",
          "model_name": "HTMLModel",
          "model_module_version": "1.5.0",
          "state": {
            "_view_name": "HTMLView",
            "style": "IPY_MODEL_8a98c5ea532742eeaf708dbea1860198",
            "_dom_classes": [],
            "description": "",
            "_model_name": "HTMLModel",
            "placeholder": "​",
            "_view_module": "@jupyter-widgets/controls",
            "_model_module_version": "1.5.0",
            "value": "Downloading: 100%",
            "_view_count": null,
            "_view_module_version": "1.5.0",
            "description_tooltip": null,
            "_model_module": "@jupyter-widgets/controls",
            "layout": "IPY_MODEL_c86a29b897164d5b9f048e3c74c539c9"
          }
        },
        "1da4f24f467d4d12834659934382c181": {
          "model_module": "@jupyter-widgets/controls",
          "model_name": "FloatProgressModel",
          "model_module_version": "1.5.0",
          "state": {
            "_view_name": "ProgressView",
            "style": "IPY_MODEL_17b587d5273c436f8ce8f50c239e6b72",
            "_dom_classes": [],
            "description": "",
            "_model_name": "FloatProgressModel",
            "bar_style": "success",
            "max": 29,
            "_view_module": "@jupyter-widgets/controls",
            "_model_module_version": "1.5.0",
            "value": 29,
            "_view_count": null,
            "_view_module_version": "1.5.0",
            "orientation": "horizontal",
            "min": 0,
            "description_tooltip": null,
            "_model_module": "@jupyter-widgets/controls",
            "layout": "IPY_MODEL_66da39bd0e9644ce95fb76ea0167c41d"
          }
        },
        "f319d3f9e60f43a199f368c8915e453f": {
          "model_module": "@jupyter-widgets/controls",
          "model_name": "HTMLModel",
          "model_module_version": "1.5.0",
          "state": {
            "_view_name": "HTMLView",
            "style": "IPY_MODEL_750a4f35e5c84582b19a55277e27a184",
            "_dom_classes": [],
            "description": "",
            "_model_name": "HTMLModel",
            "placeholder": "​",
            "_view_module": "@jupyter-widgets/controls",
            "_model_module_version": "1.5.0",
            "value": " 29.0/29.0 [00:00&lt;00:00, 1.22kB/s]",
            "_view_count": null,
            "_view_module_version": "1.5.0",
            "description_tooltip": null,
            "_model_module": "@jupyter-widgets/controls",
            "layout": "IPY_MODEL_b45f8325e6254b62a01ba839ac5ad5e7"
          }
        },
        "8a98c5ea532742eeaf708dbea1860198": {
          "model_module": "@jupyter-widgets/controls",
          "model_name": "DescriptionStyleModel",
          "model_module_version": "1.5.0",
          "state": {
            "_view_name": "StyleView",
            "_model_name": "DescriptionStyleModel",
            "description_width": "",
            "_view_module": "@jupyter-widgets/base",
            "_model_module_version": "1.5.0",
            "_view_count": null,
            "_view_module_version": "1.2.0",
            "_model_module": "@jupyter-widgets/controls"
          }
        },
        "c86a29b897164d5b9f048e3c74c539c9": {
          "model_module": "@jupyter-widgets/base",
          "model_name": "LayoutModel",
          "model_module_version": "1.2.0",
          "state": {
            "_view_name": "LayoutView",
            "grid_template_rows": null,
            "right": null,
            "justify_content": null,
            "_view_module": "@jupyter-widgets/base",
            "overflow": null,
            "_model_module_version": "1.2.0",
            "_view_count": null,
            "flex_flow": null,
            "width": null,
            "min_width": null,
            "border": null,
            "align_items": null,
            "bottom": null,
            "_model_module": "@jupyter-widgets/base",
            "top": null,
            "grid_column": null,
            "overflow_y": null,
            "overflow_x": null,
            "grid_auto_flow": null,
            "grid_area": null,
            "grid_template_columns": null,
            "flex": null,
            "_model_name": "LayoutModel",
            "justify_items": null,
            "grid_row": null,
            "max_height": null,
            "align_content": null,
            "visibility": null,
            "align_self": null,
            "height": null,
            "min_height": null,
            "padding": null,
            "grid_auto_rows": null,
            "grid_gap": null,
            "max_width": null,
            "order": null,
            "_view_module_version": "1.2.0",
            "grid_template_areas": null,
            "object_position": null,
            "object_fit": null,
            "grid_auto_columns": null,
            "margin": null,
            "display": null,
            "left": null
          }
        },
        "17b587d5273c436f8ce8f50c239e6b72": {
          "model_module": "@jupyter-widgets/controls",
          "model_name": "ProgressStyleModel",
          "model_module_version": "1.5.0",
          "state": {
            "_view_name": "StyleView",
            "_model_name": "ProgressStyleModel",
            "description_width": "",
            "_view_module": "@jupyter-widgets/base",
            "_model_module_version": "1.5.0",
            "_view_count": null,
            "_view_module_version": "1.2.0",
            "bar_color": null,
            "_model_module": "@jupyter-widgets/controls"
          }
        },
        "66da39bd0e9644ce95fb76ea0167c41d": {
          "model_module": "@jupyter-widgets/base",
          "model_name": "LayoutModel",
          "model_module_version": "1.2.0",
          "state": {
            "_view_name": "LayoutView",
            "grid_template_rows": null,
            "right": null,
            "justify_content": null,
            "_view_module": "@jupyter-widgets/base",
            "overflow": null,
            "_model_module_version": "1.2.0",
            "_view_count": null,
            "flex_flow": null,
            "width": null,
            "min_width": null,
            "border": null,
            "align_items": null,
            "bottom": null,
            "_model_module": "@jupyter-widgets/base",
            "top": null,
            "grid_column": null,
            "overflow_y": null,
            "overflow_x": null,
            "grid_auto_flow": null,
            "grid_area": null,
            "grid_template_columns": null,
            "flex": null,
            "_model_name": "LayoutModel",
            "justify_items": null,
            "grid_row": null,
            "max_height": null,
            "align_content": null,
            "visibility": null,
            "align_self": null,
            "height": null,
            "min_height": null,
            "padding": null,
            "grid_auto_rows": null,
            "grid_gap": null,
            "max_width": null,
            "order": null,
            "_view_module_version": "1.2.0",
            "grid_template_areas": null,
            "object_position": null,
            "object_fit": null,
            "grid_auto_columns": null,
            "margin": null,
            "display": null,
            "left": null
          }
        },
        "750a4f35e5c84582b19a55277e27a184": {
          "model_module": "@jupyter-widgets/controls",
          "model_name": "DescriptionStyleModel",
          "model_module_version": "1.5.0",
          "state": {
            "_view_name": "StyleView",
            "_model_name": "DescriptionStyleModel",
            "description_width": "",
            "_view_module": "@jupyter-widgets/base",
            "_model_module_version": "1.5.0",
            "_view_count": null,
            "_view_module_version": "1.2.0",
            "_model_module": "@jupyter-widgets/controls"
          }
        },
        "b45f8325e6254b62a01ba839ac5ad5e7": {
          "model_module": "@jupyter-widgets/base",
          "model_name": "LayoutModel",
          "model_module_version": "1.2.0",
          "state": {
            "_view_name": "LayoutView",
            "grid_template_rows": null,
            "right": null,
            "justify_content": null,
            "_view_module": "@jupyter-widgets/base",
            "overflow": null,
            "_model_module_version": "1.2.0",
            "_view_count": null,
            "flex_flow": null,
            "width": null,
            "min_width": null,
            "border": null,
            "align_items": null,
            "bottom": null,
            "_model_module": "@jupyter-widgets/base",
            "top": null,
            "grid_column": null,
            "overflow_y": null,
            "overflow_x": null,
            "grid_auto_flow": null,
            "grid_area": null,
            "grid_template_columns": null,
            "flex": null,
            "_model_name": "LayoutModel",
            "justify_items": null,
            "grid_row": null,
            "max_height": null,
            "align_content": null,
            "visibility": null,
            "align_self": null,
            "height": null,
            "min_height": null,
            "padding": null,
            "grid_auto_rows": null,
            "grid_gap": null,
            "max_width": null,
            "order": null,
            "_view_module_version": "1.2.0",
            "grid_template_areas": null,
            "object_position": null,
            "object_fit": null,
            "grid_auto_columns": null,
            "margin": null,
            "display": null,
            "left": null
          }
        },
        "61f6384f8f374ac8a7e3077332f6f29b": {
          "model_module": "@jupyter-widgets/controls",
          "model_name": "HBoxModel",
          "model_module_version": "1.5.0",
          "state": {
            "_view_name": "HBoxView",
            "_dom_classes": [],
            "_model_name": "HBoxModel",
            "_view_module": "@jupyter-widgets/controls",
            "_model_module_version": "1.5.0",
            "_view_count": null,
            "_view_module_version": "1.5.0",
            "box_style": "",
            "layout": "IPY_MODEL_1ef75f04b8dc45788c6d3f8884b91229",
            "_model_module": "@jupyter-widgets/controls",
            "children": [
              "IPY_MODEL_acf009e9a3df44258a7cbc308349811a",
              "IPY_MODEL_91aced11a0b848209350b647ac255eb6",
              "IPY_MODEL_ed2b1e5324094ca78eea6ff02c1bd73e"
            ]
          }
        },
        "1ef75f04b8dc45788c6d3f8884b91229": {
          "model_module": "@jupyter-widgets/base",
          "model_name": "LayoutModel",
          "model_module_version": "1.2.0",
          "state": {
            "_view_name": "LayoutView",
            "grid_template_rows": null,
            "right": null,
            "justify_content": null,
            "_view_module": "@jupyter-widgets/base",
            "overflow": null,
            "_model_module_version": "1.2.0",
            "_view_count": null,
            "flex_flow": null,
            "width": null,
            "min_width": null,
            "border": null,
            "align_items": null,
            "bottom": null,
            "_model_module": "@jupyter-widgets/base",
            "top": null,
            "grid_column": null,
            "overflow_y": null,
            "overflow_x": null,
            "grid_auto_flow": null,
            "grid_area": null,
            "grid_template_columns": null,
            "flex": null,
            "_model_name": "LayoutModel",
            "justify_items": null,
            "grid_row": null,
            "max_height": null,
            "align_content": null,
            "visibility": null,
            "align_self": null,
            "height": null,
            "min_height": null,
            "padding": null,
            "grid_auto_rows": null,
            "grid_gap": null,
            "max_width": null,
            "order": null,
            "_view_module_version": "1.2.0",
            "grid_template_areas": null,
            "object_position": null,
            "object_fit": null,
            "grid_auto_columns": null,
            "margin": null,
            "display": null,
            "left": null
          }
        },
        "acf009e9a3df44258a7cbc308349811a": {
          "model_module": "@jupyter-widgets/controls",
          "model_name": "HTMLModel",
          "model_module_version": "1.5.0",
          "state": {
            "_view_name": "HTMLView",
            "style": "IPY_MODEL_f7ba0081f92a48d28edc6cc8443619b1",
            "_dom_classes": [],
            "description": "",
            "_model_name": "HTMLModel",
            "placeholder": "​",
            "_view_module": "@jupyter-widgets/controls",
            "_model_module_version": "1.5.0",
            "value": "Downloading: 100%",
            "_view_count": null,
            "_view_module_version": "1.5.0",
            "description_tooltip": null,
            "_model_module": "@jupyter-widgets/controls",
            "layout": "IPY_MODEL_13eab979d31141daa66a3610c6f49b9c"
          }
        },
        "91aced11a0b848209350b647ac255eb6": {
          "model_module": "@jupyter-widgets/controls",
          "model_name": "FloatProgressModel",
          "model_module_version": "1.5.0",
          "state": {
            "_view_name": "ProgressView",
            "style": "IPY_MODEL_6d88b1a34b2c422bbb11f19c71a1b3b2",
            "_dom_classes": [],
            "description": "",
            "_model_name": "FloatProgressModel",
            "bar_style": "success",
            "max": 213450,
            "_view_module": "@jupyter-widgets/controls",
            "_model_module_version": "1.5.0",
            "value": 213450,
            "_view_count": null,
            "_view_module_version": "1.5.0",
            "orientation": "horizontal",
            "min": 0,
            "description_tooltip": null,
            "_model_module": "@jupyter-widgets/controls",
            "layout": "IPY_MODEL_adc268329b6645b2afc4212d6bcdbcf2"
          }
        },
        "ed2b1e5324094ca78eea6ff02c1bd73e": {
          "model_module": "@jupyter-widgets/controls",
          "model_name": "HTMLModel",
          "model_module_version": "1.5.0",
          "state": {
            "_view_name": "HTMLView",
            "style": "IPY_MODEL_e6bd61f813d74b9d8bc62e80ecddbf62",
            "_dom_classes": [],
            "description": "",
            "_model_name": "HTMLModel",
            "placeholder": "​",
            "_view_module": "@jupyter-widgets/controls",
            "_model_module_version": "1.5.0",
            "value": " 208k/208k [00:00&lt;00:00, 683kB/s]",
            "_view_count": null,
            "_view_module_version": "1.5.0",
            "description_tooltip": null,
            "_model_module": "@jupyter-widgets/controls",
            "layout": "IPY_MODEL_88ba5bd21c6c4c8c9530e947d3e269b3"
          }
        },
        "f7ba0081f92a48d28edc6cc8443619b1": {
          "model_module": "@jupyter-widgets/controls",
          "model_name": "DescriptionStyleModel",
          "model_module_version": "1.5.0",
          "state": {
            "_view_name": "StyleView",
            "_model_name": "DescriptionStyleModel",
            "description_width": "",
            "_view_module": "@jupyter-widgets/base",
            "_model_module_version": "1.5.0",
            "_view_count": null,
            "_view_module_version": "1.2.0",
            "_model_module": "@jupyter-widgets/controls"
          }
        },
        "13eab979d31141daa66a3610c6f49b9c": {
          "model_module": "@jupyter-widgets/base",
          "model_name": "LayoutModel",
          "model_module_version": "1.2.0",
          "state": {
            "_view_name": "LayoutView",
            "grid_template_rows": null,
            "right": null,
            "justify_content": null,
            "_view_module": "@jupyter-widgets/base",
            "overflow": null,
            "_model_module_version": "1.2.0",
            "_view_count": null,
            "flex_flow": null,
            "width": null,
            "min_width": null,
            "border": null,
            "align_items": null,
            "bottom": null,
            "_model_module": "@jupyter-widgets/base",
            "top": null,
            "grid_column": null,
            "overflow_y": null,
            "overflow_x": null,
            "grid_auto_flow": null,
            "grid_area": null,
            "grid_template_columns": null,
            "flex": null,
            "_model_name": "LayoutModel",
            "justify_items": null,
            "grid_row": null,
            "max_height": null,
            "align_content": null,
            "visibility": null,
            "align_self": null,
            "height": null,
            "min_height": null,
            "padding": null,
            "grid_auto_rows": null,
            "grid_gap": null,
            "max_width": null,
            "order": null,
            "_view_module_version": "1.2.0",
            "grid_template_areas": null,
            "object_position": null,
            "object_fit": null,
            "grid_auto_columns": null,
            "margin": null,
            "display": null,
            "left": null
          }
        },
        "6d88b1a34b2c422bbb11f19c71a1b3b2": {
          "model_module": "@jupyter-widgets/controls",
          "model_name": "ProgressStyleModel",
          "model_module_version": "1.5.0",
          "state": {
            "_view_name": "StyleView",
            "_model_name": "ProgressStyleModel",
            "description_width": "",
            "_view_module": "@jupyter-widgets/base",
            "_model_module_version": "1.5.0",
            "_view_count": null,
            "_view_module_version": "1.2.0",
            "bar_color": null,
            "_model_module": "@jupyter-widgets/controls"
          }
        },
        "adc268329b6645b2afc4212d6bcdbcf2": {
          "model_module": "@jupyter-widgets/base",
          "model_name": "LayoutModel",
          "model_module_version": "1.2.0",
          "state": {
            "_view_name": "LayoutView",
            "grid_template_rows": null,
            "right": null,
            "justify_content": null,
            "_view_module": "@jupyter-widgets/base",
            "overflow": null,
            "_model_module_version": "1.2.0",
            "_view_count": null,
            "flex_flow": null,
            "width": null,
            "min_width": null,
            "border": null,
            "align_items": null,
            "bottom": null,
            "_model_module": "@jupyter-widgets/base",
            "top": null,
            "grid_column": null,
            "overflow_y": null,
            "overflow_x": null,
            "grid_auto_flow": null,
            "grid_area": null,
            "grid_template_columns": null,
            "flex": null,
            "_model_name": "LayoutModel",
            "justify_items": null,
            "grid_row": null,
            "max_height": null,
            "align_content": null,
            "visibility": null,
            "align_self": null,
            "height": null,
            "min_height": null,
            "padding": null,
            "grid_auto_rows": null,
            "grid_gap": null,
            "max_width": null,
            "order": null,
            "_view_module_version": "1.2.0",
            "grid_template_areas": null,
            "object_position": null,
            "object_fit": null,
            "grid_auto_columns": null,
            "margin": null,
            "display": null,
            "left": null
          }
        },
        "e6bd61f813d74b9d8bc62e80ecddbf62": {
          "model_module": "@jupyter-widgets/controls",
          "model_name": "DescriptionStyleModel",
          "model_module_version": "1.5.0",
          "state": {
            "_view_name": "StyleView",
            "_model_name": "DescriptionStyleModel",
            "description_width": "",
            "_view_module": "@jupyter-widgets/base",
            "_model_module_version": "1.5.0",
            "_view_count": null,
            "_view_module_version": "1.2.0",
            "_model_module": "@jupyter-widgets/controls"
          }
        },
        "88ba5bd21c6c4c8c9530e947d3e269b3": {
          "model_module": "@jupyter-widgets/base",
          "model_name": "LayoutModel",
          "model_module_version": "1.2.0",
          "state": {
            "_view_name": "LayoutView",
            "grid_template_rows": null,
            "right": null,
            "justify_content": null,
            "_view_module": "@jupyter-widgets/base",
            "overflow": null,
            "_model_module_version": "1.2.0",
            "_view_count": null,
            "flex_flow": null,
            "width": null,
            "min_width": null,
            "border": null,
            "align_items": null,
            "bottom": null,
            "_model_module": "@jupyter-widgets/base",
            "top": null,
            "grid_column": null,
            "overflow_y": null,
            "overflow_x": null,
            "grid_auto_flow": null,
            "grid_area": null,
            "grid_template_columns": null,
            "flex": null,
            "_model_name": "LayoutModel",
            "justify_items": null,
            "grid_row": null,
            "max_height": null,
            "align_content": null,
            "visibility": null,
            "align_self": null,
            "height": null,
            "min_height": null,
            "padding": null,
            "grid_auto_rows": null,
            "grid_gap": null,
            "max_width": null,
            "order": null,
            "_view_module_version": "1.2.0",
            "grid_template_areas": null,
            "object_position": null,
            "object_fit": null,
            "grid_auto_columns": null,
            "margin": null,
            "display": null,
            "left": null
          }
        },
        "54a50b48651445428544395961409795": {
          "model_module": "@jupyter-widgets/controls",
          "model_name": "HBoxModel",
          "model_module_version": "1.5.0",
          "state": {
            "_view_name": "HBoxView",
            "_dom_classes": [],
            "_model_name": "HBoxModel",
            "_view_module": "@jupyter-widgets/controls",
            "_model_module_version": "1.5.0",
            "_view_count": null,
            "_view_module_version": "1.5.0",
            "box_style": "",
            "layout": "IPY_MODEL_e45c9fd655754453b75ca1f830881e4a",
            "_model_module": "@jupyter-widgets/controls",
            "children": [
              "IPY_MODEL_91e01dfe438245ee8a9b78c5e7b5d899",
              "IPY_MODEL_279dbd40a8874bfd9a7d971bdd372212",
              "IPY_MODEL_ed4a249977ef433ab4246045f28c8753"
            ]
          }
        },
        "e45c9fd655754453b75ca1f830881e4a": {
          "model_module": "@jupyter-widgets/base",
          "model_name": "LayoutModel",
          "model_module_version": "1.2.0",
          "state": {
            "_view_name": "LayoutView",
            "grid_template_rows": null,
            "right": null,
            "justify_content": null,
            "_view_module": "@jupyter-widgets/base",
            "overflow": null,
            "_model_module_version": "1.2.0",
            "_view_count": null,
            "flex_flow": null,
            "width": null,
            "min_width": null,
            "border": null,
            "align_items": null,
            "bottom": null,
            "_model_module": "@jupyter-widgets/base",
            "top": null,
            "grid_column": null,
            "overflow_y": null,
            "overflow_x": null,
            "grid_auto_flow": null,
            "grid_area": null,
            "grid_template_columns": null,
            "flex": null,
            "_model_name": "LayoutModel",
            "justify_items": null,
            "grid_row": null,
            "max_height": null,
            "align_content": null,
            "visibility": null,
            "align_self": null,
            "height": null,
            "min_height": null,
            "padding": null,
            "grid_auto_rows": null,
            "grid_gap": null,
            "max_width": null,
            "order": null,
            "_view_module_version": "1.2.0",
            "grid_template_areas": null,
            "object_position": null,
            "object_fit": null,
            "grid_auto_columns": null,
            "margin": null,
            "display": null,
            "left": null
          }
        },
        "91e01dfe438245ee8a9b78c5e7b5d899": {
          "model_module": "@jupyter-widgets/controls",
          "model_name": "HTMLModel",
          "model_module_version": "1.5.0",
          "state": {
            "_view_name": "HTMLView",
            "style": "IPY_MODEL_bf0be9b54a4245d2973a6aa23fc39bcb",
            "_dom_classes": [],
            "description": "",
            "_model_name": "HTMLModel",
            "placeholder": "​",
            "_view_module": "@jupyter-widgets/controls",
            "_model_module_version": "1.5.0",
            "value": "Downloading: 100%",
            "_view_count": null,
            "_view_module_version": "1.5.0",
            "description_tooltip": null,
            "_model_module": "@jupyter-widgets/controls",
            "layout": "IPY_MODEL_71a9a7c68b6743f1a270ce72c978a870"
          }
        },
        "279dbd40a8874bfd9a7d971bdd372212": {
          "model_module": "@jupyter-widgets/controls",
          "model_name": "FloatProgressModel",
          "model_module_version": "1.5.0",
          "state": {
            "_view_name": "ProgressView",
            "style": "IPY_MODEL_5aa666bbf38a48b2989dee0d6a16391e",
            "_dom_classes": [],
            "description": "",
            "_model_name": "FloatProgressModel",
            "bar_style": "success",
            "max": 435797,
            "_view_module": "@jupyter-widgets/controls",
            "_model_module_version": "1.5.0",
            "value": 435797,
            "_view_count": null,
            "_view_module_version": "1.5.0",
            "orientation": "horizontal",
            "min": 0,
            "description_tooltip": null,
            "_model_module": "@jupyter-widgets/controls",
            "layout": "IPY_MODEL_57b50ea967354015836d5adb2f6fe164"
          }
        },
        "ed4a249977ef433ab4246045f28c8753": {
          "model_module": "@jupyter-widgets/controls",
          "model_name": "HTMLModel",
          "model_module_version": "1.5.0",
          "state": {
            "_view_name": "HTMLView",
            "style": "IPY_MODEL_171a470032b546dfbe0eb6e15cee3fec",
            "_dom_classes": [],
            "description": "",
            "_model_name": "HTMLModel",
            "placeholder": "​",
            "_view_module": "@jupyter-widgets/controls",
            "_model_module_version": "1.5.0",
            "value": " 426k/426k [00:00&lt;00:00, 835kB/s]",
            "_view_count": null,
            "_view_module_version": "1.5.0",
            "description_tooltip": null,
            "_model_module": "@jupyter-widgets/controls",
            "layout": "IPY_MODEL_a29cb526e77f40faade4beeb7ba57623"
          }
        },
        "bf0be9b54a4245d2973a6aa23fc39bcb": {
          "model_module": "@jupyter-widgets/controls",
          "model_name": "DescriptionStyleModel",
          "model_module_version": "1.5.0",
          "state": {
            "_view_name": "StyleView",
            "_model_name": "DescriptionStyleModel",
            "description_width": "",
            "_view_module": "@jupyter-widgets/base",
            "_model_module_version": "1.5.0",
            "_view_count": null,
            "_view_module_version": "1.2.0",
            "_model_module": "@jupyter-widgets/controls"
          }
        },
        "71a9a7c68b6743f1a270ce72c978a870": {
          "model_module": "@jupyter-widgets/base",
          "model_name": "LayoutModel",
          "model_module_version": "1.2.0",
          "state": {
            "_view_name": "LayoutView",
            "grid_template_rows": null,
            "right": null,
            "justify_content": null,
            "_view_module": "@jupyter-widgets/base",
            "overflow": null,
            "_model_module_version": "1.2.0",
            "_view_count": null,
            "flex_flow": null,
            "width": null,
            "min_width": null,
            "border": null,
            "align_items": null,
            "bottom": null,
            "_model_module": "@jupyter-widgets/base",
            "top": null,
            "grid_column": null,
            "overflow_y": null,
            "overflow_x": null,
            "grid_auto_flow": null,
            "grid_area": null,
            "grid_template_columns": null,
            "flex": null,
            "_model_name": "LayoutModel",
            "justify_items": null,
            "grid_row": null,
            "max_height": null,
            "align_content": null,
            "visibility": null,
            "align_self": null,
            "height": null,
            "min_height": null,
            "padding": null,
            "grid_auto_rows": null,
            "grid_gap": null,
            "max_width": null,
            "order": null,
            "_view_module_version": "1.2.0",
            "grid_template_areas": null,
            "object_position": null,
            "object_fit": null,
            "grid_auto_columns": null,
            "margin": null,
            "display": null,
            "left": null
          }
        },
        "5aa666bbf38a48b2989dee0d6a16391e": {
          "model_module": "@jupyter-widgets/controls",
          "model_name": "ProgressStyleModel",
          "model_module_version": "1.5.0",
          "state": {
            "_view_name": "StyleView",
            "_model_name": "ProgressStyleModel",
            "description_width": "",
            "_view_module": "@jupyter-widgets/base",
            "_model_module_version": "1.5.0",
            "_view_count": null,
            "_view_module_version": "1.2.0",
            "bar_color": null,
            "_model_module": "@jupyter-widgets/controls"
          }
        },
        "57b50ea967354015836d5adb2f6fe164": {
          "model_module": "@jupyter-widgets/base",
          "model_name": "LayoutModel",
          "model_module_version": "1.2.0",
          "state": {
            "_view_name": "LayoutView",
            "grid_template_rows": null,
            "right": null,
            "justify_content": null,
            "_view_module": "@jupyter-widgets/base",
            "overflow": null,
            "_model_module_version": "1.2.0",
            "_view_count": null,
            "flex_flow": null,
            "width": null,
            "min_width": null,
            "border": null,
            "align_items": null,
            "bottom": null,
            "_model_module": "@jupyter-widgets/base",
            "top": null,
            "grid_column": null,
            "overflow_y": null,
            "overflow_x": null,
            "grid_auto_flow": null,
            "grid_area": null,
            "grid_template_columns": null,
            "flex": null,
            "_model_name": "LayoutModel",
            "justify_items": null,
            "grid_row": null,
            "max_height": null,
            "align_content": null,
            "visibility": null,
            "align_self": null,
            "height": null,
            "min_height": null,
            "padding": null,
            "grid_auto_rows": null,
            "grid_gap": null,
            "max_width": null,
            "order": null,
            "_view_module_version": "1.2.0",
            "grid_template_areas": null,
            "object_position": null,
            "object_fit": null,
            "grid_auto_columns": null,
            "margin": null,
            "display": null,
            "left": null
          }
        },
        "171a470032b546dfbe0eb6e15cee3fec": {
          "model_module": "@jupyter-widgets/controls",
          "model_name": "DescriptionStyleModel",
          "model_module_version": "1.5.0",
          "state": {
            "_view_name": "StyleView",
            "_model_name": "DescriptionStyleModel",
            "description_width": "",
            "_view_module": "@jupyter-widgets/base",
            "_model_module_version": "1.5.0",
            "_view_count": null,
            "_view_module_version": "1.2.0",
            "_model_module": "@jupyter-widgets/controls"
          }
        },
        "a29cb526e77f40faade4beeb7ba57623": {
          "model_module": "@jupyter-widgets/base",
          "model_name": "LayoutModel",
          "model_module_version": "1.2.0",
          "state": {
            "_view_name": "LayoutView",
            "grid_template_rows": null,
            "right": null,
            "justify_content": null,
            "_view_module": "@jupyter-widgets/base",
            "overflow": null,
            "_model_module_version": "1.2.0",
            "_view_count": null,
            "flex_flow": null,
            "width": null,
            "min_width": null,
            "border": null,
            "align_items": null,
            "bottom": null,
            "_model_module": "@jupyter-widgets/base",
            "top": null,
            "grid_column": null,
            "overflow_y": null,
            "overflow_x": null,
            "grid_auto_flow": null,
            "grid_area": null,
            "grid_template_columns": null,
            "flex": null,
            "_model_name": "LayoutModel",
            "justify_items": null,
            "grid_row": null,
            "max_height": null,
            "align_content": null,
            "visibility": null,
            "align_self": null,
            "height": null,
            "min_height": null,
            "padding": null,
            "grid_auto_rows": null,
            "grid_gap": null,
            "max_width": null,
            "order": null,
            "_view_module_version": "1.2.0",
            "grid_template_areas": null,
            "object_position": null,
            "object_fit": null,
            "grid_auto_columns": null,
            "margin": null,
            "display": null,
            "left": null
          }
        },
        "84a6f992a8794c948432604b0650f032": {
          "model_module": "@jupyter-widgets/controls",
          "model_name": "HBoxModel",
          "model_module_version": "1.5.0",
          "state": {
            "_view_name": "HBoxView",
            "_dom_classes": [],
            "_model_name": "HBoxModel",
            "_view_module": "@jupyter-widgets/controls",
            "_model_module_version": "1.5.0",
            "_view_count": null,
            "_view_module_version": "1.5.0",
            "box_style": "",
            "layout": "IPY_MODEL_2883cec468cf45f59fcc76097905d5d7",
            "_model_module": "@jupyter-widgets/controls",
            "children": [
              "IPY_MODEL_2126b46e3a3646e3aac4d7b74f83751f",
              "IPY_MODEL_30dc619f83a24a969a3599f3f9eb37b9",
              "IPY_MODEL_74dab640f4184d3eaa9dca7313c08545"
            ]
          }
        },
        "2883cec468cf45f59fcc76097905d5d7": {
          "model_module": "@jupyter-widgets/base",
          "model_name": "LayoutModel",
          "model_module_version": "1.2.0",
          "state": {
            "_view_name": "LayoutView",
            "grid_template_rows": null,
            "right": null,
            "justify_content": null,
            "_view_module": "@jupyter-widgets/base",
            "overflow": null,
            "_model_module_version": "1.2.0",
            "_view_count": null,
            "flex_flow": null,
            "width": null,
            "min_width": null,
            "border": null,
            "align_items": null,
            "bottom": null,
            "_model_module": "@jupyter-widgets/base",
            "top": null,
            "grid_column": null,
            "overflow_y": null,
            "overflow_x": null,
            "grid_auto_flow": null,
            "grid_area": null,
            "grid_template_columns": null,
            "flex": null,
            "_model_name": "LayoutModel",
            "justify_items": null,
            "grid_row": null,
            "max_height": null,
            "align_content": null,
            "visibility": null,
            "align_self": null,
            "height": null,
            "min_height": null,
            "padding": null,
            "grid_auto_rows": null,
            "grid_gap": null,
            "max_width": null,
            "order": null,
            "_view_module_version": "1.2.0",
            "grid_template_areas": null,
            "object_position": null,
            "object_fit": null,
            "grid_auto_columns": null,
            "margin": null,
            "display": null,
            "left": null
          }
        },
        "2126b46e3a3646e3aac4d7b74f83751f": {
          "model_module": "@jupyter-widgets/controls",
          "model_name": "HTMLModel",
          "model_module_version": "1.5.0",
          "state": {
            "_view_name": "HTMLView",
            "style": "IPY_MODEL_eb145678439449da9ae70b8cd221715c",
            "_dom_classes": [],
            "description": "",
            "_model_name": "HTMLModel",
            "placeholder": "​",
            "_view_module": "@jupyter-widgets/controls",
            "_model_module_version": "1.5.0",
            "value": "Downloading: 100%",
            "_view_count": null,
            "_view_module_version": "1.5.0",
            "description_tooltip": null,
            "_model_module": "@jupyter-widgets/controls",
            "layout": "IPY_MODEL_09dc532315504d3381485d8e6806a1b3"
          }
        },
        "30dc619f83a24a969a3599f3f9eb37b9": {
          "model_module": "@jupyter-widgets/controls",
          "model_name": "FloatProgressModel",
          "model_module_version": "1.5.0",
          "state": {
            "_view_name": "ProgressView",
            "style": "IPY_MODEL_0412fe0c0b3c46acaa75eba031aed682",
            "_dom_classes": [],
            "description": "",
            "_model_name": "FloatProgressModel",
            "bar_style": "success",
            "max": 570,
            "_view_module": "@jupyter-widgets/controls",
            "_model_module_version": "1.5.0",
            "value": 570,
            "_view_count": null,
            "_view_module_version": "1.5.0",
            "orientation": "horizontal",
            "min": 0,
            "description_tooltip": null,
            "_model_module": "@jupyter-widgets/controls",
            "layout": "IPY_MODEL_15a70b66f77544e3b328c361f96db340"
          }
        },
        "74dab640f4184d3eaa9dca7313c08545": {
          "model_module": "@jupyter-widgets/controls",
          "model_name": "HTMLModel",
          "model_module_version": "1.5.0",
          "state": {
            "_view_name": "HTMLView",
            "style": "IPY_MODEL_bff6c2d57fb5440aa161f825efad8ed2",
            "_dom_classes": [],
            "description": "",
            "_model_name": "HTMLModel",
            "placeholder": "​",
            "_view_module": "@jupyter-widgets/controls",
            "_model_module_version": "1.5.0",
            "value": " 570/570 [00:00&lt;00:00, 24.4kB/s]",
            "_view_count": null,
            "_view_module_version": "1.5.0",
            "description_tooltip": null,
            "_model_module": "@jupyter-widgets/controls",
            "layout": "IPY_MODEL_31ff9b902ba54d8fa30b37cc0d551f65"
          }
        },
        "eb145678439449da9ae70b8cd221715c": {
          "model_module": "@jupyter-widgets/controls",
          "model_name": "DescriptionStyleModel",
          "model_module_version": "1.5.0",
          "state": {
            "_view_name": "StyleView",
            "_model_name": "DescriptionStyleModel",
            "description_width": "",
            "_view_module": "@jupyter-widgets/base",
            "_model_module_version": "1.5.0",
            "_view_count": null,
            "_view_module_version": "1.2.0",
            "_model_module": "@jupyter-widgets/controls"
          }
        },
        "09dc532315504d3381485d8e6806a1b3": {
          "model_module": "@jupyter-widgets/base",
          "model_name": "LayoutModel",
          "model_module_version": "1.2.0",
          "state": {
            "_view_name": "LayoutView",
            "grid_template_rows": null,
            "right": null,
            "justify_content": null,
            "_view_module": "@jupyter-widgets/base",
            "overflow": null,
            "_model_module_version": "1.2.0",
            "_view_count": null,
            "flex_flow": null,
            "width": null,
            "min_width": null,
            "border": null,
            "align_items": null,
            "bottom": null,
            "_model_module": "@jupyter-widgets/base",
            "top": null,
            "grid_column": null,
            "overflow_y": null,
            "overflow_x": null,
            "grid_auto_flow": null,
            "grid_area": null,
            "grid_template_columns": null,
            "flex": null,
            "_model_name": "LayoutModel",
            "justify_items": null,
            "grid_row": null,
            "max_height": null,
            "align_content": null,
            "visibility": null,
            "align_self": null,
            "height": null,
            "min_height": null,
            "padding": null,
            "grid_auto_rows": null,
            "grid_gap": null,
            "max_width": null,
            "order": null,
            "_view_module_version": "1.2.0",
            "grid_template_areas": null,
            "object_position": null,
            "object_fit": null,
            "grid_auto_columns": null,
            "margin": null,
            "display": null,
            "left": null
          }
        },
        "0412fe0c0b3c46acaa75eba031aed682": {
          "model_module": "@jupyter-widgets/controls",
          "model_name": "ProgressStyleModel",
          "model_module_version": "1.5.0",
          "state": {
            "_view_name": "StyleView",
            "_model_name": "ProgressStyleModel",
            "description_width": "",
            "_view_module": "@jupyter-widgets/base",
            "_model_module_version": "1.5.0",
            "_view_count": null,
            "_view_module_version": "1.2.0",
            "bar_color": null,
            "_model_module": "@jupyter-widgets/controls"
          }
        },
        "15a70b66f77544e3b328c361f96db340": {
          "model_module": "@jupyter-widgets/base",
          "model_name": "LayoutModel",
          "model_module_version": "1.2.0",
          "state": {
            "_view_name": "LayoutView",
            "grid_template_rows": null,
            "right": null,
            "justify_content": null,
            "_view_module": "@jupyter-widgets/base",
            "overflow": null,
            "_model_module_version": "1.2.0",
            "_view_count": null,
            "flex_flow": null,
            "width": null,
            "min_width": null,
            "border": null,
            "align_items": null,
            "bottom": null,
            "_model_module": "@jupyter-widgets/base",
            "top": null,
            "grid_column": null,
            "overflow_y": null,
            "overflow_x": null,
            "grid_auto_flow": null,
            "grid_area": null,
            "grid_template_columns": null,
            "flex": null,
            "_model_name": "LayoutModel",
            "justify_items": null,
            "grid_row": null,
            "max_height": null,
            "align_content": null,
            "visibility": null,
            "align_self": null,
            "height": null,
            "min_height": null,
            "padding": null,
            "grid_auto_rows": null,
            "grid_gap": null,
            "max_width": null,
            "order": null,
            "_view_module_version": "1.2.0",
            "grid_template_areas": null,
            "object_position": null,
            "object_fit": null,
            "grid_auto_columns": null,
            "margin": null,
            "display": null,
            "left": null
          }
        },
        "bff6c2d57fb5440aa161f825efad8ed2": {
          "model_module": "@jupyter-widgets/controls",
          "model_name": "DescriptionStyleModel",
          "model_module_version": "1.5.0",
          "state": {
            "_view_name": "StyleView",
            "_model_name": "DescriptionStyleModel",
            "description_width": "",
            "_view_module": "@jupyter-widgets/base",
            "_model_module_version": "1.5.0",
            "_view_count": null,
            "_view_module_version": "1.2.0",
            "_model_module": "@jupyter-widgets/controls"
          }
        },
        "31ff9b902ba54d8fa30b37cc0d551f65": {
          "model_module": "@jupyter-widgets/base",
          "model_name": "LayoutModel",
          "model_module_version": "1.2.0",
          "state": {
            "_view_name": "LayoutView",
            "grid_template_rows": null,
            "right": null,
            "justify_content": null,
            "_view_module": "@jupyter-widgets/base",
            "overflow": null,
            "_model_module_version": "1.2.0",
            "_view_count": null,
            "flex_flow": null,
            "width": null,
            "min_width": null,
            "border": null,
            "align_items": null,
            "bottom": null,
            "_model_module": "@jupyter-widgets/base",
            "top": null,
            "grid_column": null,
            "overflow_y": null,
            "overflow_x": null,
            "grid_auto_flow": null,
            "grid_area": null,
            "grid_template_columns": null,
            "flex": null,
            "_model_name": "LayoutModel",
            "justify_items": null,
            "grid_row": null,
            "max_height": null,
            "align_content": null,
            "visibility": null,
            "align_self": null,
            "height": null,
            "min_height": null,
            "padding": null,
            "grid_auto_rows": null,
            "grid_gap": null,
            "max_width": null,
            "order": null,
            "_view_module_version": "1.2.0",
            "grid_template_areas": null,
            "object_position": null,
            "object_fit": null,
            "grid_auto_columns": null,
            "margin": null,
            "display": null,
            "left": null
          }
        },
        "fd6b8725dbb0448a8e8a2ecebddc3e30": {
          "model_module": "@jupyter-widgets/controls",
          "model_name": "HBoxModel",
          "model_module_version": "1.5.0",
          "state": {
            "_view_name": "HBoxView",
            "_dom_classes": [],
            "_model_name": "HBoxModel",
            "_view_module": "@jupyter-widgets/controls",
            "_model_module_version": "1.5.0",
            "_view_count": null,
            "_view_module_version": "1.5.0",
            "box_style": "",
            "layout": "IPY_MODEL_cada3ecc2d204268bbd41ec3e4e15ed0",
            "_model_module": "@jupyter-widgets/controls",
            "children": [
              "IPY_MODEL_bf13271ab6de418ca7ac7259d9289e05",
              "IPY_MODEL_d3f995a3b9684f2ca6ad928719474c0b",
              "IPY_MODEL_1c8cb8abe5c341f19c0449f8183f9d45"
            ]
          }
        },
        "cada3ecc2d204268bbd41ec3e4e15ed0": {
          "model_module": "@jupyter-widgets/base",
          "model_name": "LayoutModel",
          "model_module_version": "1.2.0",
          "state": {
            "_view_name": "LayoutView",
            "grid_template_rows": null,
            "right": null,
            "justify_content": null,
            "_view_module": "@jupyter-widgets/base",
            "overflow": null,
            "_model_module_version": "1.2.0",
            "_view_count": null,
            "flex_flow": null,
            "width": null,
            "min_width": null,
            "border": null,
            "align_items": null,
            "bottom": null,
            "_model_module": "@jupyter-widgets/base",
            "top": null,
            "grid_column": null,
            "overflow_y": null,
            "overflow_x": null,
            "grid_auto_flow": null,
            "grid_area": null,
            "grid_template_columns": null,
            "flex": null,
            "_model_name": "LayoutModel",
            "justify_items": null,
            "grid_row": null,
            "max_height": null,
            "align_content": null,
            "visibility": null,
            "align_self": null,
            "height": null,
            "min_height": null,
            "padding": null,
            "grid_auto_rows": null,
            "grid_gap": null,
            "max_width": null,
            "order": null,
            "_view_module_version": "1.2.0",
            "grid_template_areas": null,
            "object_position": null,
            "object_fit": null,
            "grid_auto_columns": null,
            "margin": null,
            "display": null,
            "left": null
          }
        },
        "bf13271ab6de418ca7ac7259d9289e05": {
          "model_module": "@jupyter-widgets/controls",
          "model_name": "HTMLModel",
          "model_module_version": "1.5.0",
          "state": {
            "_view_name": "HTMLView",
            "style": "IPY_MODEL_74a1a64c7b8143c19516cdf63b8fd5f3",
            "_dom_classes": [],
            "description": "",
            "_model_name": "HTMLModel",
            "placeholder": "​",
            "_view_module": "@jupyter-widgets/controls",
            "_model_module_version": "1.5.0",
            "value": "Downloading: 100%",
            "_view_count": null,
            "_view_module_version": "1.5.0",
            "description_tooltip": null,
            "_model_module": "@jupyter-widgets/controls",
            "layout": "IPY_MODEL_ec2ba871c23f4bbfa77d535ab57abe33"
          }
        },
        "d3f995a3b9684f2ca6ad928719474c0b": {
          "model_module": "@jupyter-widgets/controls",
          "model_name": "FloatProgressModel",
          "model_module_version": "1.5.0",
          "state": {
            "_view_name": "ProgressView",
            "style": "IPY_MODEL_d6bbf315f3774f35bf509dfdcb06b269",
            "_dom_classes": [],
            "description": "",
            "_model_name": "FloatProgressModel",
            "bar_style": "success",
            "max": 212,
            "_view_module": "@jupyter-widgets/controls",
            "_model_module_version": "1.5.0",
            "value": 212,
            "_view_count": null,
            "_view_module_version": "1.5.0",
            "orientation": "horizontal",
            "min": 0,
            "description_tooltip": null,
            "_model_module": "@jupyter-widgets/controls",
            "layout": "IPY_MODEL_02d28776a524451384543aeec96391b0"
          }
        },
        "1c8cb8abe5c341f19c0449f8183f9d45": {
          "model_module": "@jupyter-widgets/controls",
          "model_name": "HTMLModel",
          "model_module_version": "1.5.0",
          "state": {
            "_view_name": "HTMLView",
            "style": "IPY_MODEL_5603281ab73d49a390ca76fdf16cf648",
            "_dom_classes": [],
            "description": "",
            "_model_name": "HTMLModel",
            "placeholder": "​",
            "_view_module": "@jupyter-widgets/controls",
            "_model_module_version": "1.5.0",
            "value": " 212/212 [00:00&lt;00:00, 8.07kB/s]",
            "_view_count": null,
            "_view_module_version": "1.5.0",
            "description_tooltip": null,
            "_model_module": "@jupyter-widgets/controls",
            "layout": "IPY_MODEL_57bb0cb668fb45eaa4e816b475ab423d"
          }
        },
        "74a1a64c7b8143c19516cdf63b8fd5f3": {
          "model_module": "@jupyter-widgets/controls",
          "model_name": "DescriptionStyleModel",
          "model_module_version": "1.5.0",
          "state": {
            "_view_name": "StyleView",
            "_model_name": "DescriptionStyleModel",
            "description_width": "",
            "_view_module": "@jupyter-widgets/base",
            "_model_module_version": "1.5.0",
            "_view_count": null,
            "_view_module_version": "1.2.0",
            "_model_module": "@jupyter-widgets/controls"
          }
        },
        "ec2ba871c23f4bbfa77d535ab57abe33": {
          "model_module": "@jupyter-widgets/base",
          "model_name": "LayoutModel",
          "model_module_version": "1.2.0",
          "state": {
            "_view_name": "LayoutView",
            "grid_template_rows": null,
            "right": null,
            "justify_content": null,
            "_view_module": "@jupyter-widgets/base",
            "overflow": null,
            "_model_module_version": "1.2.0",
            "_view_count": null,
            "flex_flow": null,
            "width": null,
            "min_width": null,
            "border": null,
            "align_items": null,
            "bottom": null,
            "_model_module": "@jupyter-widgets/base",
            "top": null,
            "grid_column": null,
            "overflow_y": null,
            "overflow_x": null,
            "grid_auto_flow": null,
            "grid_area": null,
            "grid_template_columns": null,
            "flex": null,
            "_model_name": "LayoutModel",
            "justify_items": null,
            "grid_row": null,
            "max_height": null,
            "align_content": null,
            "visibility": null,
            "align_self": null,
            "height": null,
            "min_height": null,
            "padding": null,
            "grid_auto_rows": null,
            "grid_gap": null,
            "max_width": null,
            "order": null,
            "_view_module_version": "1.2.0",
            "grid_template_areas": null,
            "object_position": null,
            "object_fit": null,
            "grid_auto_columns": null,
            "margin": null,
            "display": null,
            "left": null
          }
        },
        "d6bbf315f3774f35bf509dfdcb06b269": {
          "model_module": "@jupyter-widgets/controls",
          "model_name": "ProgressStyleModel",
          "model_module_version": "1.5.0",
          "state": {
            "_view_name": "StyleView",
            "_model_name": "ProgressStyleModel",
            "description_width": "",
            "_view_module": "@jupyter-widgets/base",
            "_model_module_version": "1.5.0",
            "_view_count": null,
            "_view_module_version": "1.2.0",
            "bar_color": null,
            "_model_module": "@jupyter-widgets/controls"
          }
        },
        "02d28776a524451384543aeec96391b0": {
          "model_module": "@jupyter-widgets/base",
          "model_name": "LayoutModel",
          "model_module_version": "1.2.0",
          "state": {
            "_view_name": "LayoutView",
            "grid_template_rows": null,
            "right": null,
            "justify_content": null,
            "_view_module": "@jupyter-widgets/base",
            "overflow": null,
            "_model_module_version": "1.2.0",
            "_view_count": null,
            "flex_flow": null,
            "width": null,
            "min_width": null,
            "border": null,
            "align_items": null,
            "bottom": null,
            "_model_module": "@jupyter-widgets/base",
            "top": null,
            "grid_column": null,
            "overflow_y": null,
            "overflow_x": null,
            "grid_auto_flow": null,
            "grid_area": null,
            "grid_template_columns": null,
            "flex": null,
            "_model_name": "LayoutModel",
            "justify_items": null,
            "grid_row": null,
            "max_height": null,
            "align_content": null,
            "visibility": null,
            "align_self": null,
            "height": null,
            "min_height": null,
            "padding": null,
            "grid_auto_rows": null,
            "grid_gap": null,
            "max_width": null,
            "order": null,
            "_view_module_version": "1.2.0",
            "grid_template_areas": null,
            "object_position": null,
            "object_fit": null,
            "grid_auto_columns": null,
            "margin": null,
            "display": null,
            "left": null
          }
        },
        "5603281ab73d49a390ca76fdf16cf648": {
          "model_module": "@jupyter-widgets/controls",
          "model_name": "DescriptionStyleModel",
          "model_module_version": "1.5.0",
          "state": {
            "_view_name": "StyleView",
            "_model_name": "DescriptionStyleModel",
            "description_width": "",
            "_view_module": "@jupyter-widgets/base",
            "_model_module_version": "1.5.0",
            "_view_count": null,
            "_view_module_version": "1.2.0",
            "_model_module": "@jupyter-widgets/controls"
          }
        },
        "57bb0cb668fb45eaa4e816b475ab423d": {
          "model_module": "@jupyter-widgets/base",
          "model_name": "LayoutModel",
          "model_module_version": "1.2.0",
          "state": {
            "_view_name": "LayoutView",
            "grid_template_rows": null,
            "right": null,
            "justify_content": null,
            "_view_module": "@jupyter-widgets/base",
            "overflow": null,
            "_model_module_version": "1.2.0",
            "_view_count": null,
            "flex_flow": null,
            "width": null,
            "min_width": null,
            "border": null,
            "align_items": null,
            "bottom": null,
            "_model_module": "@jupyter-widgets/base",
            "top": null,
            "grid_column": null,
            "overflow_y": null,
            "overflow_x": null,
            "grid_auto_flow": null,
            "grid_area": null,
            "grid_template_columns": null,
            "flex": null,
            "_model_name": "LayoutModel",
            "justify_items": null,
            "grid_row": null,
            "max_height": null,
            "align_content": null,
            "visibility": null,
            "align_self": null,
            "height": null,
            "min_height": null,
            "padding": null,
            "grid_auto_rows": null,
            "grid_gap": null,
            "max_width": null,
            "order": null,
            "_view_module_version": "1.2.0",
            "grid_template_areas": null,
            "object_position": null,
            "object_fit": null,
            "grid_auto_columns": null,
            "margin": null,
            "display": null,
            "left": null
          }
        },
        "74ceb9e60dc049608677c144abb57f13": {
          "model_module": "@jupyter-widgets/controls",
          "model_name": "HBoxModel",
          "model_module_version": "1.5.0",
          "state": {
            "_view_name": "HBoxView",
            "_dom_classes": [],
            "_model_name": "HBoxModel",
            "_view_module": "@jupyter-widgets/controls",
            "_model_module_version": "1.5.0",
            "_view_count": null,
            "_view_module_version": "1.5.0",
            "box_style": "",
            "layout": "IPY_MODEL_c9a9d151e5dc4bcfb2fa95742fc83bde",
            "_model_module": "@jupyter-widgets/controls",
            "children": [
              "IPY_MODEL_22267194855846618f5f5d549d45c4f0",
              "IPY_MODEL_6e619859672d4e2b9a304077610cc464",
              "IPY_MODEL_b29fc3ec1f5e4766a0cace74d51a0380"
            ]
          }
        },
        "c9a9d151e5dc4bcfb2fa95742fc83bde": {
          "model_module": "@jupyter-widgets/base",
          "model_name": "LayoutModel",
          "model_module_version": "1.2.0",
          "state": {
            "_view_name": "LayoutView",
            "grid_template_rows": null,
            "right": null,
            "justify_content": null,
            "_view_module": "@jupyter-widgets/base",
            "overflow": null,
            "_model_module_version": "1.2.0",
            "_view_count": null,
            "flex_flow": null,
            "width": null,
            "min_width": null,
            "border": null,
            "align_items": null,
            "bottom": null,
            "_model_module": "@jupyter-widgets/base",
            "top": null,
            "grid_column": null,
            "overflow_y": null,
            "overflow_x": null,
            "grid_auto_flow": null,
            "grid_area": null,
            "grid_template_columns": null,
            "flex": null,
            "_model_name": "LayoutModel",
            "justify_items": null,
            "grid_row": null,
            "max_height": null,
            "align_content": null,
            "visibility": null,
            "align_self": null,
            "height": null,
            "min_height": null,
            "padding": null,
            "grid_auto_rows": null,
            "grid_gap": null,
            "max_width": null,
            "order": null,
            "_view_module_version": "1.2.0",
            "grid_template_areas": null,
            "object_position": null,
            "object_fit": null,
            "grid_auto_columns": null,
            "margin": null,
            "display": null,
            "left": null
          }
        },
        "22267194855846618f5f5d549d45c4f0": {
          "model_module": "@jupyter-widgets/controls",
          "model_name": "HTMLModel",
          "model_module_version": "1.5.0",
          "state": {
            "_view_name": "HTMLView",
            "style": "IPY_MODEL_7ae210e104af448eb35b4c6ddd5ac4cf",
            "_dom_classes": [],
            "description": "",
            "_model_name": "HTMLModel",
            "placeholder": "​",
            "_view_module": "@jupyter-widgets/controls",
            "_model_module_version": "1.5.0",
            "value": "Downloading: 100%",
            "_view_count": null,
            "_view_module_version": "1.5.0",
            "description_tooltip": null,
            "_model_module": "@jupyter-widgets/controls",
            "layout": "IPY_MODEL_bef4b79e08dc4cacbf6a7a8b49067e86"
          }
        },
        "6e619859672d4e2b9a304077610cc464": {
          "model_module": "@jupyter-widgets/controls",
          "model_name": "FloatProgressModel",
          "model_module_version": "1.5.0",
          "state": {
            "_view_name": "ProgressView",
            "style": "IPY_MODEL_5b83870784af435182b3a950849c0523",
            "_dom_classes": [],
            "description": "",
            "_model_name": "FloatProgressModel",
            "bar_style": "success",
            "max": 138,
            "_view_module": "@jupyter-widgets/controls",
            "_model_module_version": "1.5.0",
            "value": 138,
            "_view_count": null,
            "_view_module_version": "1.5.0",
            "orientation": "horizontal",
            "min": 0,
            "description_tooltip": null,
            "_model_module": "@jupyter-widgets/controls",
            "layout": "IPY_MODEL_f88d6596a6c84d2b8eaa60152cab636c"
          }
        },
        "b29fc3ec1f5e4766a0cace74d51a0380": {
          "model_module": "@jupyter-widgets/controls",
          "model_name": "HTMLModel",
          "model_module_version": "1.5.0",
          "state": {
            "_view_name": "HTMLView",
            "style": "IPY_MODEL_9b09b521471940e0a31a50b3a9ff3767",
            "_dom_classes": [],
            "description": "",
            "_model_name": "HTMLModel",
            "placeholder": "​",
            "_view_module": "@jupyter-widgets/controls",
            "_model_module_version": "1.5.0",
            "value": " 138/138 [00:00&lt;00:00, 4.84kB/s]",
            "_view_count": null,
            "_view_module_version": "1.5.0",
            "description_tooltip": null,
            "_model_module": "@jupyter-widgets/controls",
            "layout": "IPY_MODEL_4c50a7e747e249c0b32b8f20fc4776ad"
          }
        },
        "7ae210e104af448eb35b4c6ddd5ac4cf": {
          "model_module": "@jupyter-widgets/controls",
          "model_name": "DescriptionStyleModel",
          "model_module_version": "1.5.0",
          "state": {
            "_view_name": "StyleView",
            "_model_name": "DescriptionStyleModel",
            "description_width": "",
            "_view_module": "@jupyter-widgets/base",
            "_model_module_version": "1.5.0",
            "_view_count": null,
            "_view_module_version": "1.2.0",
            "_model_module": "@jupyter-widgets/controls"
          }
        },
        "bef4b79e08dc4cacbf6a7a8b49067e86": {
          "model_module": "@jupyter-widgets/base",
          "model_name": "LayoutModel",
          "model_module_version": "1.2.0",
          "state": {
            "_view_name": "LayoutView",
            "grid_template_rows": null,
            "right": null,
            "justify_content": null,
            "_view_module": "@jupyter-widgets/base",
            "overflow": null,
            "_model_module_version": "1.2.0",
            "_view_count": null,
            "flex_flow": null,
            "width": null,
            "min_width": null,
            "border": null,
            "align_items": null,
            "bottom": null,
            "_model_module": "@jupyter-widgets/base",
            "top": null,
            "grid_column": null,
            "overflow_y": null,
            "overflow_x": null,
            "grid_auto_flow": null,
            "grid_area": null,
            "grid_template_columns": null,
            "flex": null,
            "_model_name": "LayoutModel",
            "justify_items": null,
            "grid_row": null,
            "max_height": null,
            "align_content": null,
            "visibility": null,
            "align_self": null,
            "height": null,
            "min_height": null,
            "padding": null,
            "grid_auto_rows": null,
            "grid_gap": null,
            "max_width": null,
            "order": null,
            "_view_module_version": "1.2.0",
            "grid_template_areas": null,
            "object_position": null,
            "object_fit": null,
            "grid_auto_columns": null,
            "margin": null,
            "display": null,
            "left": null
          }
        },
        "5b83870784af435182b3a950849c0523": {
          "model_module": "@jupyter-widgets/controls",
          "model_name": "ProgressStyleModel",
          "model_module_version": "1.5.0",
          "state": {
            "_view_name": "StyleView",
            "_model_name": "ProgressStyleModel",
            "description_width": "",
            "_view_module": "@jupyter-widgets/base",
            "_model_module_version": "1.5.0",
            "_view_count": null,
            "_view_module_version": "1.2.0",
            "bar_color": null,
            "_model_module": "@jupyter-widgets/controls"
          }
        },
        "f88d6596a6c84d2b8eaa60152cab636c": {
          "model_module": "@jupyter-widgets/base",
          "model_name": "LayoutModel",
          "model_module_version": "1.2.0",
          "state": {
            "_view_name": "LayoutView",
            "grid_template_rows": null,
            "right": null,
            "justify_content": null,
            "_view_module": "@jupyter-widgets/base",
            "overflow": null,
            "_model_module_version": "1.2.0",
            "_view_count": null,
            "flex_flow": null,
            "width": null,
            "min_width": null,
            "border": null,
            "align_items": null,
            "bottom": null,
            "_model_module": "@jupyter-widgets/base",
            "top": null,
            "grid_column": null,
            "overflow_y": null,
            "overflow_x": null,
            "grid_auto_flow": null,
            "grid_area": null,
            "grid_template_columns": null,
            "flex": null,
            "_model_name": "LayoutModel",
            "justify_items": null,
            "grid_row": null,
            "max_height": null,
            "align_content": null,
            "visibility": null,
            "align_self": null,
            "height": null,
            "min_height": null,
            "padding": null,
            "grid_auto_rows": null,
            "grid_gap": null,
            "max_width": null,
            "order": null,
            "_view_module_version": "1.2.0",
            "grid_template_areas": null,
            "object_position": null,
            "object_fit": null,
            "grid_auto_columns": null,
            "margin": null,
            "display": null,
            "left": null
          }
        },
        "9b09b521471940e0a31a50b3a9ff3767": {
          "model_module": "@jupyter-widgets/controls",
          "model_name": "DescriptionStyleModel",
          "model_module_version": "1.5.0",
          "state": {
            "_view_name": "StyleView",
            "_model_name": "DescriptionStyleModel",
            "description_width": "",
            "_view_module": "@jupyter-widgets/base",
            "_model_module_version": "1.5.0",
            "_view_count": null,
            "_view_module_version": "1.2.0",
            "_model_module": "@jupyter-widgets/controls"
          }
        },
        "4c50a7e747e249c0b32b8f20fc4776ad": {
          "model_module": "@jupyter-widgets/base",
          "model_name": "LayoutModel",
          "model_module_version": "1.2.0",
          "state": {
            "_view_name": "LayoutView",
            "grid_template_rows": null,
            "right": null,
            "justify_content": null,
            "_view_module": "@jupyter-widgets/base",
            "overflow": null,
            "_model_module_version": "1.2.0",
            "_view_count": null,
            "flex_flow": null,
            "width": null,
            "min_width": null,
            "border": null,
            "align_items": null,
            "bottom": null,
            "_model_module": "@jupyter-widgets/base",
            "top": null,
            "grid_column": null,
            "overflow_y": null,
            "overflow_x": null,
            "grid_auto_flow": null,
            "grid_area": null,
            "grid_template_columns": null,
            "flex": null,
            "_model_name": "LayoutModel",
            "justify_items": null,
            "grid_row": null,
            "max_height": null,
            "align_content": null,
            "visibility": null,
            "align_self": null,
            "height": null,
            "min_height": null,
            "padding": null,
            "grid_auto_rows": null,
            "grid_gap": null,
            "max_width": null,
            "order": null,
            "_view_module_version": "1.2.0",
            "grid_template_areas": null,
            "object_position": null,
            "object_fit": null,
            "grid_auto_columns": null,
            "margin": null,
            "display": null,
            "left": null
          }
        },
        "7a9a21abd9fd4af0acff1b8e4f3a400b": {
          "model_module": "@jupyter-widgets/controls",
          "model_name": "HBoxModel",
          "model_module_version": "1.5.0",
          "state": {
            "_view_name": "HBoxView",
            "_dom_classes": [],
            "_model_name": "HBoxModel",
            "_view_module": "@jupyter-widgets/controls",
            "_model_module_version": "1.5.0",
            "_view_count": null,
            "_view_module_version": "1.5.0",
            "box_style": "",
            "layout": "IPY_MODEL_9bc1673c29c74c2dbd26ac9027c0066e",
            "_model_module": "@jupyter-widgets/controls",
            "children": [
              "IPY_MODEL_43f9fd175d2a4233b275d0df7fc98cc1",
              "IPY_MODEL_03b2cd08393240bd89edf40d29659402",
              "IPY_MODEL_e4b2757a7c0c4d8c8efe880699893604"
            ]
          }
        },
        "9bc1673c29c74c2dbd26ac9027c0066e": {
          "model_module": "@jupyter-widgets/base",
          "model_name": "LayoutModel",
          "model_module_version": "1.2.0",
          "state": {
            "_view_name": "LayoutView",
            "grid_template_rows": null,
            "right": null,
            "justify_content": null,
            "_view_module": "@jupyter-widgets/base",
            "overflow": null,
            "_model_module_version": "1.2.0",
            "_view_count": null,
            "flex_flow": null,
            "width": null,
            "min_width": null,
            "border": null,
            "align_items": null,
            "bottom": null,
            "_model_module": "@jupyter-widgets/base",
            "top": null,
            "grid_column": null,
            "overflow_y": null,
            "overflow_x": null,
            "grid_auto_flow": null,
            "grid_area": null,
            "grid_template_columns": null,
            "flex": null,
            "_model_name": "LayoutModel",
            "justify_items": null,
            "grid_row": null,
            "max_height": null,
            "align_content": null,
            "visibility": null,
            "align_self": null,
            "height": null,
            "min_height": null,
            "padding": null,
            "grid_auto_rows": null,
            "grid_gap": null,
            "max_width": null,
            "order": null,
            "_view_module_version": "1.2.0",
            "grid_template_areas": null,
            "object_position": null,
            "object_fit": null,
            "grid_auto_columns": null,
            "margin": null,
            "display": null,
            "left": null
          }
        },
        "43f9fd175d2a4233b275d0df7fc98cc1": {
          "model_module": "@jupyter-widgets/controls",
          "model_name": "HTMLModel",
          "model_module_version": "1.5.0",
          "state": {
            "_view_name": "HTMLView",
            "style": "IPY_MODEL_f0ba2f8238bb4ccd844a131b9215c71a",
            "_dom_classes": [],
            "description": "",
            "_model_name": "HTMLModel",
            "placeholder": "​",
            "_view_module": "@jupyter-widgets/controls",
            "_model_module_version": "1.5.0",
            "value": "Downloading: 100%",
            "_view_count": null,
            "_view_module_version": "1.5.0",
            "description_tooltip": null,
            "_model_module": "@jupyter-widgets/controls",
            "layout": "IPY_MODEL_d71d83dc3f934f98a10ce0b75e6898d4"
          }
        },
        "03b2cd08393240bd89edf40d29659402": {
          "model_module": "@jupyter-widgets/controls",
          "model_name": "FloatProgressModel",
          "model_module_version": "1.5.0",
          "state": {
            "_view_name": "ProgressView",
            "style": "IPY_MODEL_382c5fd340924c31939a13353d618ebc",
            "_dom_classes": [],
            "description": "",
            "_model_name": "FloatProgressModel",
            "bar_style": "success",
            "max": 1487,
            "_view_module": "@jupyter-widgets/controls",
            "_model_module_version": "1.5.0",
            "value": 1487,
            "_view_count": null,
            "_view_module_version": "1.5.0",
            "orientation": "horizontal",
            "min": 0,
            "description_tooltip": null,
            "_model_module": "@jupyter-widgets/controls",
            "layout": "IPY_MODEL_c0d59cbdf3a142d3b78fc0cf3376cea5"
          }
        },
        "e4b2757a7c0c4d8c8efe880699893604": {
          "model_module": "@jupyter-widgets/controls",
          "model_name": "HTMLModel",
          "model_module_version": "1.5.0",
          "state": {
            "_view_name": "HTMLView",
            "style": "IPY_MODEL_4fbc19aa1b06404ea37b5941f9d8c836",
            "_dom_classes": [],
            "description": "",
            "_model_name": "HTMLModel",
            "placeholder": "​",
            "_view_module": "@jupyter-widgets/controls",
            "_model_module_version": "1.5.0",
            "value": " 1.45k/1.45k [00:00&lt;00:00, 59.0kB/s]",
            "_view_count": null,
            "_view_module_version": "1.5.0",
            "description_tooltip": null,
            "_model_module": "@jupyter-widgets/controls",
            "layout": "IPY_MODEL_f77495ead8f64ac694164b138e1ddb5f"
          }
        },
        "f0ba2f8238bb4ccd844a131b9215c71a": {
          "model_module": "@jupyter-widgets/controls",
          "model_name": "DescriptionStyleModel",
          "model_module_version": "1.5.0",
          "state": {
            "_view_name": "StyleView",
            "_model_name": "DescriptionStyleModel",
            "description_width": "",
            "_view_module": "@jupyter-widgets/base",
            "_model_module_version": "1.5.0",
            "_view_count": null,
            "_view_module_version": "1.2.0",
            "_model_module": "@jupyter-widgets/controls"
          }
        },
        "d71d83dc3f934f98a10ce0b75e6898d4": {
          "model_module": "@jupyter-widgets/base",
          "model_name": "LayoutModel",
          "model_module_version": "1.2.0",
          "state": {
            "_view_name": "LayoutView",
            "grid_template_rows": null,
            "right": null,
            "justify_content": null,
            "_view_module": "@jupyter-widgets/base",
            "overflow": null,
            "_model_module_version": "1.2.0",
            "_view_count": null,
            "flex_flow": null,
            "width": null,
            "min_width": null,
            "border": null,
            "align_items": null,
            "bottom": null,
            "_model_module": "@jupyter-widgets/base",
            "top": null,
            "grid_column": null,
            "overflow_y": null,
            "overflow_x": null,
            "grid_auto_flow": null,
            "grid_area": null,
            "grid_template_columns": null,
            "flex": null,
            "_model_name": "LayoutModel",
            "justify_items": null,
            "grid_row": null,
            "max_height": null,
            "align_content": null,
            "visibility": null,
            "align_self": null,
            "height": null,
            "min_height": null,
            "padding": null,
            "grid_auto_rows": null,
            "grid_gap": null,
            "max_width": null,
            "order": null,
            "_view_module_version": "1.2.0",
            "grid_template_areas": null,
            "object_position": null,
            "object_fit": null,
            "grid_auto_columns": null,
            "margin": null,
            "display": null,
            "left": null
          }
        },
        "382c5fd340924c31939a13353d618ebc": {
          "model_module": "@jupyter-widgets/controls",
          "model_name": "ProgressStyleModel",
          "model_module_version": "1.5.0",
          "state": {
            "_view_name": "StyleView",
            "_model_name": "ProgressStyleModel",
            "description_width": "",
            "_view_module": "@jupyter-widgets/base",
            "_model_module_version": "1.5.0",
            "_view_count": null,
            "_view_module_version": "1.2.0",
            "bar_color": null,
            "_model_module": "@jupyter-widgets/controls"
          }
        },
        "c0d59cbdf3a142d3b78fc0cf3376cea5": {
          "model_module": "@jupyter-widgets/base",
          "model_name": "LayoutModel",
          "model_module_version": "1.2.0",
          "state": {
            "_view_name": "LayoutView",
            "grid_template_rows": null,
            "right": null,
            "justify_content": null,
            "_view_module": "@jupyter-widgets/base",
            "overflow": null,
            "_model_module_version": "1.2.0",
            "_view_count": null,
            "flex_flow": null,
            "width": null,
            "min_width": null,
            "border": null,
            "align_items": null,
            "bottom": null,
            "_model_module": "@jupyter-widgets/base",
            "top": null,
            "grid_column": null,
            "overflow_y": null,
            "overflow_x": null,
            "grid_auto_flow": null,
            "grid_area": null,
            "grid_template_columns": null,
            "flex": null,
            "_model_name": "LayoutModel",
            "justify_items": null,
            "grid_row": null,
            "max_height": null,
            "align_content": null,
            "visibility": null,
            "align_self": null,
            "height": null,
            "min_height": null,
            "padding": null,
            "grid_auto_rows": null,
            "grid_gap": null,
            "max_width": null,
            "order": null,
            "_view_module_version": "1.2.0",
            "grid_template_areas": null,
            "object_position": null,
            "object_fit": null,
            "grid_auto_columns": null,
            "margin": null,
            "display": null,
            "left": null
          }
        },
        "4fbc19aa1b06404ea37b5941f9d8c836": {
          "model_module": "@jupyter-widgets/controls",
          "model_name": "DescriptionStyleModel",
          "model_module_version": "1.5.0",
          "state": {
            "_view_name": "StyleView",
            "_model_name": "DescriptionStyleModel",
            "description_width": "",
            "_view_module": "@jupyter-widgets/base",
            "_model_module_version": "1.5.0",
            "_view_count": null,
            "_view_module_version": "1.2.0",
            "_model_module": "@jupyter-widgets/controls"
          }
        },
        "f77495ead8f64ac694164b138e1ddb5f": {
          "model_module": "@jupyter-widgets/base",
          "model_name": "LayoutModel",
          "model_module_version": "1.2.0",
          "state": {
            "_view_name": "LayoutView",
            "grid_template_rows": null,
            "right": null,
            "justify_content": null,
            "_view_module": "@jupyter-widgets/base",
            "overflow": null,
            "_model_module_version": "1.2.0",
            "_view_count": null,
            "flex_flow": null,
            "width": null,
            "min_width": null,
            "border": null,
            "align_items": null,
            "bottom": null,
            "_model_module": "@jupyter-widgets/base",
            "top": null,
            "grid_column": null,
            "overflow_y": null,
            "overflow_x": null,
            "grid_auto_flow": null,
            "grid_area": null,
            "grid_template_columns": null,
            "flex": null,
            "_model_name": "LayoutModel",
            "justify_items": null,
            "grid_row": null,
            "max_height": null,
            "align_content": null,
            "visibility": null,
            "align_self": null,
            "height": null,
            "min_height": null,
            "padding": null,
            "grid_auto_rows": null,
            "grid_gap": null,
            "max_width": null,
            "order": null,
            "_view_module_version": "1.2.0",
            "grid_template_areas": null,
            "object_position": null,
            "object_fit": null,
            "grid_auto_columns": null,
            "margin": null,
            "display": null,
            "left": null
          }
        },
        "7f69aebed2854f528fcdd2b9df0b21b3": {
          "model_module": "@jupyter-widgets/controls",
          "model_name": "HBoxModel",
          "model_module_version": "1.5.0",
          "state": {
            "_view_name": "HBoxView",
            "_dom_classes": [],
            "_model_name": "HBoxModel",
            "_view_module": "@jupyter-widgets/controls",
            "_model_module_version": "1.5.0",
            "_view_count": null,
            "_view_module_version": "1.5.0",
            "box_style": "",
            "layout": "IPY_MODEL_73853517dc0744f4a8dcaaee60e27c98",
            "_model_module": "@jupyter-widgets/controls",
            "children": [
              "IPY_MODEL_1d59779847074df8b55260f64e97d04c",
              "IPY_MODEL_cf01fb7b88dc41559ee751a2e06c6c6d",
              "IPY_MODEL_60225fc3f501412cbac28e79a9929e47"
            ]
          }
        },
        "73853517dc0744f4a8dcaaee60e27c98": {
          "model_module": "@jupyter-widgets/base",
          "model_name": "LayoutModel",
          "model_module_version": "1.2.0",
          "state": {
            "_view_name": "LayoutView",
            "grid_template_rows": null,
            "right": null,
            "justify_content": null,
            "_view_module": "@jupyter-widgets/base",
            "overflow": null,
            "_model_module_version": "1.2.0",
            "_view_count": null,
            "flex_flow": null,
            "width": null,
            "min_width": null,
            "border": null,
            "align_items": null,
            "bottom": null,
            "_model_module": "@jupyter-widgets/base",
            "top": null,
            "grid_column": null,
            "overflow_y": null,
            "overflow_x": null,
            "grid_auto_flow": null,
            "grid_area": null,
            "grid_template_columns": null,
            "flex": null,
            "_model_name": "LayoutModel",
            "justify_items": null,
            "grid_row": null,
            "max_height": null,
            "align_content": null,
            "visibility": null,
            "align_self": null,
            "height": null,
            "min_height": null,
            "padding": null,
            "grid_auto_rows": null,
            "grid_gap": null,
            "max_width": null,
            "order": null,
            "_view_module_version": "1.2.0",
            "grid_template_areas": null,
            "object_position": null,
            "object_fit": null,
            "grid_auto_columns": null,
            "margin": null,
            "display": null,
            "left": null
          }
        },
        "1d59779847074df8b55260f64e97d04c": {
          "model_module": "@jupyter-widgets/controls",
          "model_name": "HTMLModel",
          "model_module_version": "1.5.0",
          "state": {
            "_view_name": "HTMLView",
            "style": "IPY_MODEL_e9cf27c0293d4f1a86e47de5031c3597",
            "_dom_classes": [],
            "description": "",
            "_model_name": "HTMLModel",
            "placeholder": "​",
            "_view_module": "@jupyter-widgets/controls",
            "_model_module_version": "1.5.0",
            "value": "Downloading: 100%",
            "_view_count": null,
            "_view_module_version": "1.5.0",
            "description_tooltip": null,
            "_model_module": "@jupyter-widgets/controls",
            "layout": "IPY_MODEL_d7a69b050edc4fe8ae343d075bd6ca0c"
          }
        },
        "cf01fb7b88dc41559ee751a2e06c6c6d": {
          "model_module": "@jupyter-widgets/controls",
          "model_name": "FloatProgressModel",
          "model_module_version": "1.5.0",
          "state": {
            "_view_name": "ProgressView",
            "style": "IPY_MODEL_f1ba76a56c614a21a2588c421d0f45af",
            "_dom_classes": [],
            "description": "",
            "_model_name": "FloatProgressModel",
            "bar_style": "success",
            "max": 292,
            "_view_module": "@jupyter-widgets/controls",
            "_model_module_version": "1.5.0",
            "value": 292,
            "_view_count": null,
            "_view_module_version": "1.5.0",
            "orientation": "horizontal",
            "min": 0,
            "description_tooltip": null,
            "_model_module": "@jupyter-widgets/controls",
            "layout": "IPY_MODEL_8179ac54866d40b1a43250b01664e0c3"
          }
        },
        "60225fc3f501412cbac28e79a9929e47": {
          "model_module": "@jupyter-widgets/controls",
          "model_name": "HTMLModel",
          "model_module_version": "1.5.0",
          "state": {
            "_view_name": "HTMLView",
            "style": "IPY_MODEL_e20a74b4d0a045f596798ae724fa371d",
            "_dom_classes": [],
            "description": "",
            "_model_name": "HTMLModel",
            "placeholder": "​",
            "_view_module": "@jupyter-widgets/controls",
            "_model_module_version": "1.5.0",
            "value": " 292/292 [00:00&lt;00:00, 12.3kB/s]",
            "_view_count": null,
            "_view_module_version": "1.5.0",
            "description_tooltip": null,
            "_model_module": "@jupyter-widgets/controls",
            "layout": "IPY_MODEL_c634631a32554554ae9b203aef5f6a84"
          }
        },
        "e9cf27c0293d4f1a86e47de5031c3597": {
          "model_module": "@jupyter-widgets/controls",
          "model_name": "DescriptionStyleModel",
          "model_module_version": "1.5.0",
          "state": {
            "_view_name": "StyleView",
            "_model_name": "DescriptionStyleModel",
            "description_width": "",
            "_view_module": "@jupyter-widgets/base",
            "_model_module_version": "1.5.0",
            "_view_count": null,
            "_view_module_version": "1.2.0",
            "_model_module": "@jupyter-widgets/controls"
          }
        },
        "d7a69b050edc4fe8ae343d075bd6ca0c": {
          "model_module": "@jupyter-widgets/base",
          "model_name": "LayoutModel",
          "model_module_version": "1.2.0",
          "state": {
            "_view_name": "LayoutView",
            "grid_template_rows": null,
            "right": null,
            "justify_content": null,
            "_view_module": "@jupyter-widgets/base",
            "overflow": null,
            "_model_module_version": "1.2.0",
            "_view_count": null,
            "flex_flow": null,
            "width": null,
            "min_width": null,
            "border": null,
            "align_items": null,
            "bottom": null,
            "_model_module": "@jupyter-widgets/base",
            "top": null,
            "grid_column": null,
            "overflow_y": null,
            "overflow_x": null,
            "grid_auto_flow": null,
            "grid_area": null,
            "grid_template_columns": null,
            "flex": null,
            "_model_name": "LayoutModel",
            "justify_items": null,
            "grid_row": null,
            "max_height": null,
            "align_content": null,
            "visibility": null,
            "align_self": null,
            "height": null,
            "min_height": null,
            "padding": null,
            "grid_auto_rows": null,
            "grid_gap": null,
            "max_width": null,
            "order": null,
            "_view_module_version": "1.2.0",
            "grid_template_areas": null,
            "object_position": null,
            "object_fit": null,
            "grid_auto_columns": null,
            "margin": null,
            "display": null,
            "left": null
          }
        },
        "f1ba76a56c614a21a2588c421d0f45af": {
          "model_module": "@jupyter-widgets/controls",
          "model_name": "ProgressStyleModel",
          "model_module_version": "1.5.0",
          "state": {
            "_view_name": "StyleView",
            "_model_name": "ProgressStyleModel",
            "description_width": "",
            "_view_module": "@jupyter-widgets/base",
            "_model_module_version": "1.5.0",
            "_view_count": null,
            "_view_module_version": "1.2.0",
            "bar_color": null,
            "_model_module": "@jupyter-widgets/controls"
          }
        },
        "8179ac54866d40b1a43250b01664e0c3": {
          "model_module": "@jupyter-widgets/base",
          "model_name": "LayoutModel",
          "model_module_version": "1.2.0",
          "state": {
            "_view_name": "LayoutView",
            "grid_template_rows": null,
            "right": null,
            "justify_content": null,
            "_view_module": "@jupyter-widgets/base",
            "overflow": null,
            "_model_module_version": "1.2.0",
            "_view_count": null,
            "flex_flow": null,
            "width": null,
            "min_width": null,
            "border": null,
            "align_items": null,
            "bottom": null,
            "_model_module": "@jupyter-widgets/base",
            "top": null,
            "grid_column": null,
            "overflow_y": null,
            "overflow_x": null,
            "grid_auto_flow": null,
            "grid_area": null,
            "grid_template_columns": null,
            "flex": null,
            "_model_name": "LayoutModel",
            "justify_items": null,
            "grid_row": null,
            "max_height": null,
            "align_content": null,
            "visibility": null,
            "align_self": null,
            "height": null,
            "min_height": null,
            "padding": null,
            "grid_auto_rows": null,
            "grid_gap": null,
            "max_width": null,
            "order": null,
            "_view_module_version": "1.2.0",
            "grid_template_areas": null,
            "object_position": null,
            "object_fit": null,
            "grid_auto_columns": null,
            "margin": null,
            "display": null,
            "left": null
          }
        },
        "e20a74b4d0a045f596798ae724fa371d": {
          "model_module": "@jupyter-widgets/controls",
          "model_name": "DescriptionStyleModel",
          "model_module_version": "1.5.0",
          "state": {
            "_view_name": "StyleView",
            "_model_name": "DescriptionStyleModel",
            "description_width": "",
            "_view_module": "@jupyter-widgets/base",
            "_model_module_version": "1.5.0",
            "_view_count": null,
            "_view_module_version": "1.2.0",
            "_model_module": "@jupyter-widgets/controls"
          }
        },
        "c634631a32554554ae9b203aef5f6a84": {
          "model_module": "@jupyter-widgets/base",
          "model_name": "LayoutModel",
          "model_module_version": "1.2.0",
          "state": {
            "_view_name": "LayoutView",
            "grid_template_rows": null,
            "right": null,
            "justify_content": null,
            "_view_module": "@jupyter-widgets/base",
            "overflow": null,
            "_model_module_version": "1.2.0",
            "_view_count": null,
            "flex_flow": null,
            "width": null,
            "min_width": null,
            "border": null,
            "align_items": null,
            "bottom": null,
            "_model_module": "@jupyter-widgets/base",
            "top": null,
            "grid_column": null,
            "overflow_y": null,
            "overflow_x": null,
            "grid_auto_flow": null,
            "grid_area": null,
            "grid_template_columns": null,
            "flex": null,
            "_model_name": "LayoutModel",
            "justify_items": null,
            "grid_row": null,
            "max_height": null,
            "align_content": null,
            "visibility": null,
            "align_self": null,
            "height": null,
            "min_height": null,
            "padding": null,
            "grid_auto_rows": null,
            "grid_gap": null,
            "max_width": null,
            "order": null,
            "_view_module_version": "1.2.0",
            "grid_template_areas": null,
            "object_position": null,
            "object_fit": null,
            "grid_auto_columns": null,
            "margin": null,
            "display": null,
            "left": null
          }
        },
        "623805f356b048b383f2b63e174f8225": {
          "model_module": "@jupyter-widgets/controls",
          "model_name": "HBoxModel",
          "model_module_version": "1.5.0",
          "state": {
            "_view_name": "HBoxView",
            "_dom_classes": [],
            "_model_name": "HBoxModel",
            "_view_module": "@jupyter-widgets/controls",
            "_model_module_version": "1.5.0",
            "_view_count": null,
            "_view_module_version": "1.5.0",
            "box_style": "",
            "layout": "IPY_MODEL_f16abda2828244d3b7787695842c5902",
            "_model_module": "@jupyter-widgets/controls",
            "children": [
              "IPY_MODEL_878b09cca9ec42efbd36fbf7b2773674",
              "IPY_MODEL_fe7e9ff930e54816aacb3c6e751269b6",
              "IPY_MODEL_5444fe848e7a42e185a6cad864fed745"
            ]
          }
        },
        "f16abda2828244d3b7787695842c5902": {
          "model_module": "@jupyter-widgets/base",
          "model_name": "LayoutModel",
          "model_module_version": "1.2.0",
          "state": {
            "_view_name": "LayoutView",
            "grid_template_rows": null,
            "right": null,
            "justify_content": null,
            "_view_module": "@jupyter-widgets/base",
            "overflow": null,
            "_model_module_version": "1.2.0",
            "_view_count": null,
            "flex_flow": null,
            "width": null,
            "min_width": null,
            "border": null,
            "align_items": null,
            "bottom": null,
            "_model_module": "@jupyter-widgets/base",
            "top": null,
            "grid_column": null,
            "overflow_y": null,
            "overflow_x": null,
            "grid_auto_flow": null,
            "grid_area": null,
            "grid_template_columns": null,
            "flex": null,
            "_model_name": "LayoutModel",
            "justify_items": null,
            "grid_row": null,
            "max_height": null,
            "align_content": null,
            "visibility": null,
            "align_self": null,
            "height": null,
            "min_height": null,
            "padding": null,
            "grid_auto_rows": null,
            "grid_gap": null,
            "max_width": null,
            "order": null,
            "_view_module_version": "1.2.0",
            "grid_template_areas": null,
            "object_position": null,
            "object_fit": null,
            "grid_auto_columns": null,
            "margin": null,
            "display": null,
            "left": null
          }
        },
        "878b09cca9ec42efbd36fbf7b2773674": {
          "model_module": "@jupyter-widgets/controls",
          "model_name": "HTMLModel",
          "model_module_version": "1.5.0",
          "state": {
            "_view_name": "HTMLView",
            "style": "IPY_MODEL_4c873227c5dd4f7bbe70ae3720c90d0f",
            "_dom_classes": [],
            "description": "",
            "_model_name": "HTMLModel",
            "placeholder": "​",
            "_view_module": "@jupyter-widgets/controls",
            "_model_module_version": "1.5.0",
            "value": "Downloading: 100%",
            "_view_count": null,
            "_view_module_version": "1.5.0",
            "description_tooltip": null,
            "_model_module": "@jupyter-widgets/controls",
            "layout": "IPY_MODEL_d2ad083006184c268b471dcb9fe9307c"
          }
        },
        "fe7e9ff930e54816aacb3c6e751269b6": {
          "model_module": "@jupyter-widgets/controls",
          "model_name": "FloatProgressModel",
          "model_module_version": "1.5.0",
          "state": {
            "_view_name": "ProgressView",
            "style": "IPY_MODEL_d0165f18b6af410088bb5534488edeb3",
            "_dom_classes": [],
            "description": "",
            "_model_name": "FloatProgressModel",
            "bar_style": "success",
            "max": 85,
            "_view_module": "@jupyter-widgets/controls",
            "_model_module_version": "1.5.0",
            "value": 85,
            "_view_count": null,
            "_view_module_version": "1.5.0",
            "orientation": "horizontal",
            "min": 0,
            "description_tooltip": null,
            "_model_module": "@jupyter-widgets/controls",
            "layout": "IPY_MODEL_e21602e1ff234c91ab6786042fcbf04d"
          }
        },
        "5444fe848e7a42e185a6cad864fed745": {
          "model_module": "@jupyter-widgets/controls",
          "model_name": "HTMLModel",
          "model_module_version": "1.5.0",
          "state": {
            "_view_name": "HTMLView",
            "style": "IPY_MODEL_0e2c441a9c2349ed89a16be9787fc098",
            "_dom_classes": [],
            "description": "",
            "_model_name": "HTMLModel",
            "placeholder": "​",
            "_view_module": "@jupyter-widgets/controls",
            "_model_module_version": "1.5.0",
            "value": " 85.0/85.0 [00:00&lt;00:00, 3.46kB/s]",
            "_view_count": null,
            "_view_module_version": "1.5.0",
            "description_tooltip": null,
            "_model_module": "@jupyter-widgets/controls",
            "layout": "IPY_MODEL_6721c76549754424a2faa2ec301e7960"
          }
        },
        "4c873227c5dd4f7bbe70ae3720c90d0f": {
          "model_module": "@jupyter-widgets/controls",
          "model_name": "DescriptionStyleModel",
          "model_module_version": "1.5.0",
          "state": {
            "_view_name": "StyleView",
            "_model_name": "DescriptionStyleModel",
            "description_width": "",
            "_view_module": "@jupyter-widgets/base",
            "_model_module_version": "1.5.0",
            "_view_count": null,
            "_view_module_version": "1.2.0",
            "_model_module": "@jupyter-widgets/controls"
          }
        },
        "d2ad083006184c268b471dcb9fe9307c": {
          "model_module": "@jupyter-widgets/base",
          "model_name": "LayoutModel",
          "model_module_version": "1.2.0",
          "state": {
            "_view_name": "LayoutView",
            "grid_template_rows": null,
            "right": null,
            "justify_content": null,
            "_view_module": "@jupyter-widgets/base",
            "overflow": null,
            "_model_module_version": "1.2.0",
            "_view_count": null,
            "flex_flow": null,
            "width": null,
            "min_width": null,
            "border": null,
            "align_items": null,
            "bottom": null,
            "_model_module": "@jupyter-widgets/base",
            "top": null,
            "grid_column": null,
            "overflow_y": null,
            "overflow_x": null,
            "grid_auto_flow": null,
            "grid_area": null,
            "grid_template_columns": null,
            "flex": null,
            "_model_name": "LayoutModel",
            "justify_items": null,
            "grid_row": null,
            "max_height": null,
            "align_content": null,
            "visibility": null,
            "align_self": null,
            "height": null,
            "min_height": null,
            "padding": null,
            "grid_auto_rows": null,
            "grid_gap": null,
            "max_width": null,
            "order": null,
            "_view_module_version": "1.2.0",
            "grid_template_areas": null,
            "object_position": null,
            "object_fit": null,
            "grid_auto_columns": null,
            "margin": null,
            "display": null,
            "left": null
          }
        },
        "d0165f18b6af410088bb5534488edeb3": {
          "model_module": "@jupyter-widgets/controls",
          "model_name": "ProgressStyleModel",
          "model_module_version": "1.5.0",
          "state": {
            "_view_name": "StyleView",
            "_model_name": "ProgressStyleModel",
            "description_width": "",
            "_view_module": "@jupyter-widgets/base",
            "_model_module_version": "1.5.0",
            "_view_count": null,
            "_view_module_version": "1.2.0",
            "bar_color": null,
            "_model_module": "@jupyter-widgets/controls"
          }
        },
        "e21602e1ff234c91ab6786042fcbf04d": {
          "model_module": "@jupyter-widgets/base",
          "model_name": "LayoutModel",
          "model_module_version": "1.2.0",
          "state": {
            "_view_name": "LayoutView",
            "grid_template_rows": null,
            "right": null,
            "justify_content": null,
            "_view_module": "@jupyter-widgets/base",
            "overflow": null,
            "_model_module_version": "1.2.0",
            "_view_count": null,
            "flex_flow": null,
            "width": null,
            "min_width": null,
            "border": null,
            "align_items": null,
            "bottom": null,
            "_model_module": "@jupyter-widgets/base",
            "top": null,
            "grid_column": null,
            "overflow_y": null,
            "overflow_x": null,
            "grid_auto_flow": null,
            "grid_area": null,
            "grid_template_columns": null,
            "flex": null,
            "_model_name": "LayoutModel",
            "justify_items": null,
            "grid_row": null,
            "max_height": null,
            "align_content": null,
            "visibility": null,
            "align_self": null,
            "height": null,
            "min_height": null,
            "padding": null,
            "grid_auto_rows": null,
            "grid_gap": null,
            "max_width": null,
            "order": null,
            "_view_module_version": "1.2.0",
            "grid_template_areas": null,
            "object_position": null,
            "object_fit": null,
            "grid_auto_columns": null,
            "margin": null,
            "display": null,
            "left": null
          }
        },
        "0e2c441a9c2349ed89a16be9787fc098": {
          "model_module": "@jupyter-widgets/controls",
          "model_name": "DescriptionStyleModel",
          "model_module_version": "1.5.0",
          "state": {
            "_view_name": "StyleView",
            "_model_name": "DescriptionStyleModel",
            "description_width": "",
            "_view_module": "@jupyter-widgets/base",
            "_model_module_version": "1.5.0",
            "_view_count": null,
            "_view_module_version": "1.2.0",
            "_model_module": "@jupyter-widgets/controls"
          }
        },
        "6721c76549754424a2faa2ec301e7960": {
          "model_module": "@jupyter-widgets/base",
          "model_name": "LayoutModel",
          "model_module_version": "1.2.0",
          "state": {
            "_view_name": "LayoutView",
            "grid_template_rows": null,
            "right": null,
            "justify_content": null,
            "_view_module": "@jupyter-widgets/base",
            "overflow": null,
            "_model_module_version": "1.2.0",
            "_view_count": null,
            "flex_flow": null,
            "width": null,
            "min_width": null,
            "border": null,
            "align_items": null,
            "bottom": null,
            "_model_module": "@jupyter-widgets/base",
            "top": null,
            "grid_column": null,
            "overflow_y": null,
            "overflow_x": null,
            "grid_auto_flow": null,
            "grid_area": null,
            "grid_template_columns": null,
            "flex": null,
            "_model_name": "LayoutModel",
            "justify_items": null,
            "grid_row": null,
            "max_height": null,
            "align_content": null,
            "visibility": null,
            "align_self": null,
            "height": null,
            "min_height": null,
            "padding": null,
            "grid_auto_rows": null,
            "grid_gap": null,
            "max_width": null,
            "order": null,
            "_view_module_version": "1.2.0",
            "grid_template_areas": null,
            "object_position": null,
            "object_fit": null,
            "grid_auto_columns": null,
            "margin": null,
            "display": null,
            "left": null
          }
        },
        "388a54e06ad54a60b0c6d6b22672dfc6": {
          "model_module": "@jupyter-widgets/controls",
          "model_name": "HBoxModel",
          "model_module_version": "1.5.0",
          "state": {
            "_view_name": "HBoxView",
            "_dom_classes": [],
            "_model_name": "HBoxModel",
            "_view_module": "@jupyter-widgets/controls",
            "_model_module_version": "1.5.0",
            "_view_count": null,
            "_view_module_version": "1.5.0",
            "box_style": "",
            "layout": "IPY_MODEL_061effc0a16f4d98944a03481a824139",
            "_model_module": "@jupyter-widgets/controls",
            "children": [
              "IPY_MODEL_4f947b76ef614f3ab358443518bc80c7",
              "IPY_MODEL_fde54e9a9cf9485a99b992f2047b1599",
              "IPY_MODEL_e0c1a7e0c8c2481386379cf803383705"
            ]
          }
        },
        "061effc0a16f4d98944a03481a824139": {
          "model_module": "@jupyter-widgets/base",
          "model_name": "LayoutModel",
          "model_module_version": "1.2.0",
          "state": {
            "_view_name": "LayoutView",
            "grid_template_rows": null,
            "right": null,
            "justify_content": null,
            "_view_module": "@jupyter-widgets/base",
            "overflow": null,
            "_model_module_version": "1.2.0",
            "_view_count": null,
            "flex_flow": null,
            "width": null,
            "min_width": null,
            "border": null,
            "align_items": null,
            "bottom": null,
            "_model_module": "@jupyter-widgets/base",
            "top": null,
            "grid_column": null,
            "overflow_y": null,
            "overflow_x": null,
            "grid_auto_flow": null,
            "grid_area": null,
            "grid_template_columns": null,
            "flex": null,
            "_model_name": "LayoutModel",
            "justify_items": null,
            "grid_row": null,
            "max_height": null,
            "align_content": null,
            "visibility": null,
            "align_self": null,
            "height": null,
            "min_height": null,
            "padding": null,
            "grid_auto_rows": null,
            "grid_gap": null,
            "max_width": null,
            "order": null,
            "_view_module_version": "1.2.0",
            "grid_template_areas": null,
            "object_position": null,
            "object_fit": null,
            "grid_auto_columns": null,
            "margin": null,
            "display": null,
            "left": null
          }
        },
        "4f947b76ef614f3ab358443518bc80c7": {
          "model_module": "@jupyter-widgets/controls",
          "model_name": "HTMLModel",
          "model_module_version": "1.5.0",
          "state": {
            "_view_name": "HTMLView",
            "style": "IPY_MODEL_afc09841acc7430a9699c34788020234",
            "_dom_classes": [],
            "description": "",
            "_model_name": "HTMLModel",
            "placeholder": "​",
            "_view_module": "@jupyter-widgets/controls",
            "_model_module_version": "1.5.0",
            "value": "Downloading: 100%",
            "_view_count": null,
            "_view_module_version": "1.5.0",
            "description_tooltip": null,
            "_model_module": "@jupyter-widgets/controls",
            "layout": "IPY_MODEL_9d65fc63e8274d15b410f25393f34e2c"
          }
        },
        "fde54e9a9cf9485a99b992f2047b1599": {
          "model_module": "@jupyter-widgets/controls",
          "model_name": "FloatProgressModel",
          "model_module_version": "1.5.0",
          "state": {
            "_view_name": "ProgressView",
            "style": "IPY_MODEL_fa5161ca67c246008a3860d6f8e85cb7",
            "_dom_classes": [],
            "description": "",
            "_model_name": "FloatProgressModel",
            "bar_style": "success",
            "max": 3850480983,
            "_view_module": "@jupyter-widgets/controls",
            "_model_module_version": "1.5.0",
            "value": 3850480983,
            "_view_count": null,
            "_view_module_version": "1.5.0",
            "orientation": "horizontal",
            "min": 0,
            "description_tooltip": null,
            "_model_module": "@jupyter-widgets/controls",
            "layout": "IPY_MODEL_0b7f040dc6064b688883a40d896b5b5b"
          }
        },
        "e0c1a7e0c8c2481386379cf803383705": {
          "model_module": "@jupyter-widgets/controls",
          "model_name": "HTMLModel",
          "model_module_version": "1.5.0",
          "state": {
            "_view_name": "HTMLView",
            "style": "IPY_MODEL_8e9045bbfe2a4401ab359ddcb03a5cb8",
            "_dom_classes": [],
            "description": "",
            "_model_name": "HTMLModel",
            "placeholder": "​",
            "_view_module": "@jupyter-widgets/controls",
            "_model_module_version": "1.5.0",
            "value": " 3.59G/3.59G [01:23&lt;00:00, 45.6MB/s]",
            "_view_count": null,
            "_view_module_version": "1.5.0",
            "description_tooltip": null,
            "_model_module": "@jupyter-widgets/controls",
            "layout": "IPY_MODEL_b402ecec77434490960cc239ad8c49ea"
          }
        },
        "afc09841acc7430a9699c34788020234": {
          "model_module": "@jupyter-widgets/controls",
          "model_name": "DescriptionStyleModel",
          "model_module_version": "1.5.0",
          "state": {
            "_view_name": "StyleView",
            "_model_name": "DescriptionStyleModel",
            "description_width": "",
            "_view_module": "@jupyter-widgets/base",
            "_model_module_version": "1.5.0",
            "_view_count": null,
            "_view_module_version": "1.2.0",
            "_model_module": "@jupyter-widgets/controls"
          }
        },
        "9d65fc63e8274d15b410f25393f34e2c": {
          "model_module": "@jupyter-widgets/base",
          "model_name": "LayoutModel",
          "model_module_version": "1.2.0",
          "state": {
            "_view_name": "LayoutView",
            "grid_template_rows": null,
            "right": null,
            "justify_content": null,
            "_view_module": "@jupyter-widgets/base",
            "overflow": null,
            "_model_module_version": "1.2.0",
            "_view_count": null,
            "flex_flow": null,
            "width": null,
            "min_width": null,
            "border": null,
            "align_items": null,
            "bottom": null,
            "_model_module": "@jupyter-widgets/base",
            "top": null,
            "grid_column": null,
            "overflow_y": null,
            "overflow_x": null,
            "grid_auto_flow": null,
            "grid_area": null,
            "grid_template_columns": null,
            "flex": null,
            "_model_name": "LayoutModel",
            "justify_items": null,
            "grid_row": null,
            "max_height": null,
            "align_content": null,
            "visibility": null,
            "align_self": null,
            "height": null,
            "min_height": null,
            "padding": null,
            "grid_auto_rows": null,
            "grid_gap": null,
            "max_width": null,
            "order": null,
            "_view_module_version": "1.2.0",
            "grid_template_areas": null,
            "object_position": null,
            "object_fit": null,
            "grid_auto_columns": null,
            "margin": null,
            "display": null,
            "left": null
          }
        },
        "fa5161ca67c246008a3860d6f8e85cb7": {
          "model_module": "@jupyter-widgets/controls",
          "model_name": "ProgressStyleModel",
          "model_module_version": "1.5.0",
          "state": {
            "_view_name": "StyleView",
            "_model_name": "ProgressStyleModel",
            "description_width": "",
            "_view_module": "@jupyter-widgets/base",
            "_model_module_version": "1.5.0",
            "_view_count": null,
            "_view_module_version": "1.2.0",
            "bar_color": null,
            "_model_module": "@jupyter-widgets/controls"
          }
        },
        "0b7f040dc6064b688883a40d896b5b5b": {
          "model_module": "@jupyter-widgets/base",
          "model_name": "LayoutModel",
          "model_module_version": "1.2.0",
          "state": {
            "_view_name": "LayoutView",
            "grid_template_rows": null,
            "right": null,
            "justify_content": null,
            "_view_module": "@jupyter-widgets/base",
            "overflow": null,
            "_model_module_version": "1.2.0",
            "_view_count": null,
            "flex_flow": null,
            "width": null,
            "min_width": null,
            "border": null,
            "align_items": null,
            "bottom": null,
            "_model_module": "@jupyter-widgets/base",
            "top": null,
            "grid_column": null,
            "overflow_y": null,
            "overflow_x": null,
            "grid_auto_flow": null,
            "grid_area": null,
            "grid_template_columns": null,
            "flex": null,
            "_model_name": "LayoutModel",
            "justify_items": null,
            "grid_row": null,
            "max_height": null,
            "align_content": null,
            "visibility": null,
            "align_self": null,
            "height": null,
            "min_height": null,
            "padding": null,
            "grid_auto_rows": null,
            "grid_gap": null,
            "max_width": null,
            "order": null,
            "_view_module_version": "1.2.0",
            "grid_template_areas": null,
            "object_position": null,
            "object_fit": null,
            "grid_auto_columns": null,
            "margin": null,
            "display": null,
            "left": null
          }
        },
        "8e9045bbfe2a4401ab359ddcb03a5cb8": {
          "model_module": "@jupyter-widgets/controls",
          "model_name": "DescriptionStyleModel",
          "model_module_version": "1.5.0",
          "state": {
            "_view_name": "StyleView",
            "_model_name": "DescriptionStyleModel",
            "description_width": "",
            "_view_module": "@jupyter-widgets/base",
            "_model_module_version": "1.5.0",
            "_view_count": null,
            "_view_module_version": "1.2.0",
            "_model_module": "@jupyter-widgets/controls"
          }
        },
        "b402ecec77434490960cc239ad8c49ea": {
          "model_module": "@jupyter-widgets/base",
          "model_name": "LayoutModel",
          "model_module_version": "1.2.0",
          "state": {
            "_view_name": "LayoutView",
            "grid_template_rows": null,
            "right": null,
            "justify_content": null,
            "_view_module": "@jupyter-widgets/base",
            "overflow": null,
            "_model_module_version": "1.2.0",
            "_view_count": null,
            "flex_flow": null,
            "width": null,
            "min_width": null,
            "border": null,
            "align_items": null,
            "bottom": null,
            "_model_module": "@jupyter-widgets/base",
            "top": null,
            "grid_column": null,
            "overflow_y": null,
            "overflow_x": null,
            "grid_auto_flow": null,
            "grid_area": null,
            "grid_template_columns": null,
            "flex": null,
            "_model_name": "LayoutModel",
            "justify_items": null,
            "grid_row": null,
            "max_height": null,
            "align_content": null,
            "visibility": null,
            "align_self": null,
            "height": null,
            "min_height": null,
            "padding": null,
            "grid_auto_rows": null,
            "grid_gap": null,
            "max_width": null,
            "order": null,
            "_view_module_version": "1.2.0",
            "grid_template_areas": null,
            "object_position": null,
            "object_fit": null,
            "grid_auto_columns": null,
            "margin": null,
            "display": null,
            "left": null
          }
        },
        "87dc98f18c23424ab1bd7d7246ada879": {
          "model_module": "@jupyter-widgets/controls",
          "model_name": "HBoxModel",
          "model_module_version": "1.5.0",
          "state": {
            "_view_name": "HBoxView",
            "_dom_classes": [],
            "_model_name": "HBoxModel",
            "_view_module": "@jupyter-widgets/controls",
            "_model_module_version": "1.5.0",
            "_view_count": null,
            "_view_module_version": "1.5.0",
            "box_style": "",
            "layout": "IPY_MODEL_c8f6c5dfb28a49f3930850980f337858",
            "_model_module": "@jupyter-widgets/controls",
            "children": [
              "IPY_MODEL_abfc22a241c342f6bd0e8ec6fd579c22",
              "IPY_MODEL_cecdf44eb5714fb0b445544d80db0235",
              "IPY_MODEL_3c1a709dd5b54ce8979faeed72f74c20"
            ]
          }
        },
        "c8f6c5dfb28a49f3930850980f337858": {
          "model_module": "@jupyter-widgets/base",
          "model_name": "LayoutModel",
          "model_module_version": "1.2.0",
          "state": {
            "_view_name": "LayoutView",
            "grid_template_rows": null,
            "right": null,
            "justify_content": null,
            "_view_module": "@jupyter-widgets/base",
            "overflow": null,
            "_model_module_version": "1.2.0",
            "_view_count": null,
            "flex_flow": null,
            "width": null,
            "min_width": null,
            "border": null,
            "align_items": null,
            "bottom": null,
            "_model_module": "@jupyter-widgets/base",
            "top": null,
            "grid_column": null,
            "overflow_y": null,
            "overflow_x": null,
            "grid_auto_flow": null,
            "grid_area": null,
            "grid_template_columns": null,
            "flex": null,
            "_model_name": "LayoutModel",
            "justify_items": null,
            "grid_row": null,
            "max_height": null,
            "align_content": null,
            "visibility": null,
            "align_self": null,
            "height": null,
            "min_height": null,
            "padding": null,
            "grid_auto_rows": null,
            "grid_gap": null,
            "max_width": null,
            "order": null,
            "_view_module_version": "1.2.0",
            "grid_template_areas": null,
            "object_position": null,
            "object_fit": null,
            "grid_auto_columns": null,
            "margin": null,
            "display": null,
            "left": null
          }
        },
        "abfc22a241c342f6bd0e8ec6fd579c22": {
          "model_module": "@jupyter-widgets/controls",
          "model_name": "HTMLModel",
          "model_module_version": "1.5.0",
          "state": {
            "_view_name": "HTMLView",
            "style": "IPY_MODEL_c8679efb744c4e2da70cde16db8c3e05",
            "_dom_classes": [],
            "description": "",
            "_model_name": "HTMLModel",
            "placeholder": "​",
            "_view_module": "@jupyter-widgets/controls",
            "_model_module_version": "1.5.0",
            "value": "Main Proc: \t: 100%",
            "_view_count": null,
            "_view_module_version": "1.5.0",
            "description_tooltip": null,
            "_model_module": "@jupyter-widgets/controls",
            "layout": "IPY_MODEL_6177ba3d8d7f487ea9ba6b107730419d"
          }
        },
        "cecdf44eb5714fb0b445544d80db0235": {
          "model_module": "@jupyter-widgets/controls",
          "model_name": "FloatProgressModel",
          "model_module_version": "1.5.0",
          "state": {
            "_view_name": "ProgressView",
            "style": "IPY_MODEL_9044fd308249405f80c30559396f97cf",
            "_dom_classes": [],
            "description": "",
            "_model_name": "FloatProgressModel",
            "bar_style": "success",
            "max": 1,
            "_view_module": "@jupyter-widgets/controls",
            "_model_module_version": "1.5.0",
            "value": 1,
            "_view_count": null,
            "_view_module_version": "1.5.0",
            "orientation": "horizontal",
            "min": 0,
            "description_tooltip": null,
            "_model_module": "@jupyter-widgets/controls",
            "layout": "IPY_MODEL_2c893eaab36846e0a4a71c6d1888a754"
          }
        },
        "3c1a709dd5b54ce8979faeed72f74c20": {
          "model_module": "@jupyter-widgets/controls",
          "model_name": "HTMLModel",
          "model_module_version": "1.5.0",
          "state": {
            "_view_name": "HTMLView",
            "style": "IPY_MODEL_48ce5069d0ab4556baf8ba83b539f1e7",
            "_dom_classes": [],
            "description": "",
            "_model_name": "HTMLModel",
            "placeholder": "​",
            "_view_module": "@jupyter-widgets/controls",
            "_model_module_version": "1.5.0",
            "value": " 1/1 [00:34&lt;00:00, 34.13s/it]",
            "_view_count": null,
            "_view_module_version": "1.5.0",
            "description_tooltip": null,
            "_model_module": "@jupyter-widgets/controls",
            "layout": "IPY_MODEL_f393e2eb5c704e88800da15dbd9cf04e"
          }
        },
        "c8679efb744c4e2da70cde16db8c3e05": {
          "model_module": "@jupyter-widgets/controls",
          "model_name": "DescriptionStyleModel",
          "model_module_version": "1.5.0",
          "state": {
            "_view_name": "StyleView",
            "_model_name": "DescriptionStyleModel",
            "description_width": "",
            "_view_module": "@jupyter-widgets/base",
            "_model_module_version": "1.5.0",
            "_view_count": null,
            "_view_module_version": "1.2.0",
            "_model_module": "@jupyter-widgets/controls"
          }
        },
        "6177ba3d8d7f487ea9ba6b107730419d": {
          "model_module": "@jupyter-widgets/base",
          "model_name": "LayoutModel",
          "model_module_version": "1.2.0",
          "state": {
            "_view_name": "LayoutView",
            "grid_template_rows": null,
            "right": null,
            "justify_content": null,
            "_view_module": "@jupyter-widgets/base",
            "overflow": null,
            "_model_module_version": "1.2.0",
            "_view_count": null,
            "flex_flow": null,
            "width": null,
            "min_width": null,
            "border": null,
            "align_items": null,
            "bottom": null,
            "_model_module": "@jupyter-widgets/base",
            "top": null,
            "grid_column": null,
            "overflow_y": null,
            "overflow_x": null,
            "grid_auto_flow": null,
            "grid_area": null,
            "grid_template_columns": null,
            "flex": null,
            "_model_name": "LayoutModel",
            "justify_items": null,
            "grid_row": null,
            "max_height": null,
            "align_content": null,
            "visibility": null,
            "align_self": null,
            "height": null,
            "min_height": null,
            "padding": null,
            "grid_auto_rows": null,
            "grid_gap": null,
            "max_width": null,
            "order": null,
            "_view_module_version": "1.2.0",
            "grid_template_areas": null,
            "object_position": null,
            "object_fit": null,
            "grid_auto_columns": null,
            "margin": null,
            "display": null,
            "left": null
          }
        },
        "9044fd308249405f80c30559396f97cf": {
          "model_module": "@jupyter-widgets/controls",
          "model_name": "ProgressStyleModel",
          "model_module_version": "1.5.0",
          "state": {
            "_view_name": "StyleView",
            "_model_name": "ProgressStyleModel",
            "description_width": "",
            "_view_module": "@jupyter-widgets/base",
            "_model_module_version": "1.5.0",
            "_view_count": null,
            "_view_module_version": "1.2.0",
            "bar_color": null,
            "_model_module": "@jupyter-widgets/controls"
          }
        },
        "2c893eaab36846e0a4a71c6d1888a754": {
          "model_module": "@jupyter-widgets/base",
          "model_name": "LayoutModel",
          "model_module_version": "1.2.0",
          "state": {
            "_view_name": "LayoutView",
            "grid_template_rows": null,
            "right": null,
            "justify_content": null,
            "_view_module": "@jupyter-widgets/base",
            "overflow": null,
            "_model_module_version": "1.2.0",
            "_view_count": null,
            "flex_flow": null,
            "width": null,
            "min_width": null,
            "border": null,
            "align_items": null,
            "bottom": null,
            "_model_module": "@jupyter-widgets/base",
            "top": null,
            "grid_column": null,
            "overflow_y": null,
            "overflow_x": null,
            "grid_auto_flow": null,
            "grid_area": null,
            "grid_template_columns": null,
            "flex": null,
            "_model_name": "LayoutModel",
            "justify_items": null,
            "grid_row": null,
            "max_height": null,
            "align_content": null,
            "visibility": null,
            "align_self": null,
            "height": null,
            "min_height": null,
            "padding": null,
            "grid_auto_rows": null,
            "grid_gap": null,
            "max_width": null,
            "order": null,
            "_view_module_version": "1.2.0",
            "grid_template_areas": null,
            "object_position": null,
            "object_fit": null,
            "grid_auto_columns": null,
            "margin": null,
            "display": null,
            "left": null
          }
        },
        "48ce5069d0ab4556baf8ba83b539f1e7": {
          "model_module": "@jupyter-widgets/controls",
          "model_name": "DescriptionStyleModel",
          "model_module_version": "1.5.0",
          "state": {
            "_view_name": "StyleView",
            "_model_name": "DescriptionStyleModel",
            "description_width": "",
            "_view_module": "@jupyter-widgets/base",
            "_model_module_version": "1.5.0",
            "_view_count": null,
            "_view_module_version": "1.2.0",
            "_model_module": "@jupyter-widgets/controls"
          }
        },
        "f393e2eb5c704e88800da15dbd9cf04e": {
          "model_module": "@jupyter-widgets/base",
          "model_name": "LayoutModel",
          "model_module_version": "1.2.0",
          "state": {
            "_view_name": "LayoutView",
            "grid_template_rows": null,
            "right": null,
            "justify_content": null,
            "_view_module": "@jupyter-widgets/base",
            "overflow": null,
            "_model_module_version": "1.2.0",
            "_view_count": null,
            "flex_flow": null,
            "width": null,
            "min_width": null,
            "border": null,
            "align_items": null,
            "bottom": null,
            "_model_module": "@jupyter-widgets/base",
            "top": null,
            "grid_column": null,
            "overflow_y": null,
            "overflow_x": null,
            "grid_auto_flow": null,
            "grid_area": null,
            "grid_template_columns": null,
            "flex": null,
            "_model_name": "LayoutModel",
            "justify_items": null,
            "grid_row": null,
            "max_height": null,
            "align_content": null,
            "visibility": null,
            "align_self": null,
            "height": null,
            "min_height": null,
            "padding": null,
            "grid_auto_rows": null,
            "grid_gap": null,
            "max_width": null,
            "order": null,
            "_view_module_version": "1.2.0",
            "grid_template_areas": null,
            "object_position": null,
            "object_fit": null,
            "grid_auto_columns": null,
            "margin": null,
            "display": null,
            "left": null
          }
        },
        "a373fcbf73494ab097d66aea808381ce": {
          "model_module": "@jupyter-widgets/controls",
          "model_name": "HBoxModel",
          "model_module_version": "1.5.0",
          "state": {
            "_view_name": "HBoxView",
            "_dom_classes": [],
            "_model_name": "HBoxModel",
            "_view_module": "@jupyter-widgets/controls",
            "_model_module_version": "1.5.0",
            "_view_count": null,
            "_view_module_version": "1.5.0",
            "box_style": "",
            "layout": "IPY_MODEL_c12c4f30dc0a43f59e981bde3dd92946",
            "_model_module": "@jupyter-widgets/controls",
            "children": [
              "IPY_MODEL_0c9eaa7fb31a4411b01f2025944a20a7",
              "IPY_MODEL_579911f2e3744f5cb24454a32d12f0a0",
              "IPY_MODEL_8fed54a558f6474593023e2666037a3a"
            ]
          }
        },
        "c12c4f30dc0a43f59e981bde3dd92946": {
          "model_module": "@jupyter-widgets/base",
          "model_name": "LayoutModel",
          "model_module_version": "1.2.0",
          "state": {
            "_view_name": "LayoutView",
            "grid_template_rows": null,
            "right": null,
            "justify_content": null,
            "_view_module": "@jupyter-widgets/base",
            "overflow": null,
            "_model_module_version": "1.2.0",
            "_view_count": null,
            "flex_flow": null,
            "width": null,
            "min_width": null,
            "border": null,
            "align_items": null,
            "bottom": null,
            "_model_module": "@jupyter-widgets/base",
            "top": null,
            "grid_column": null,
            "overflow_y": null,
            "overflow_x": null,
            "grid_auto_flow": null,
            "grid_area": null,
            "grid_template_columns": null,
            "flex": null,
            "_model_name": "LayoutModel",
            "justify_items": null,
            "grid_row": null,
            "max_height": null,
            "align_content": null,
            "visibility": null,
            "align_self": null,
            "height": null,
            "min_height": null,
            "padding": null,
            "grid_auto_rows": null,
            "grid_gap": null,
            "max_width": null,
            "order": null,
            "_view_module_version": "1.2.0",
            "grid_template_areas": null,
            "object_position": null,
            "object_fit": null,
            "grid_auto_columns": null,
            "margin": null,
            "display": null,
            "left": null
          }
        },
        "0c9eaa7fb31a4411b01f2025944a20a7": {
          "model_module": "@jupyter-widgets/controls",
          "model_name": "HTMLModel",
          "model_module_version": "1.5.0",
          "state": {
            "_view_name": "HTMLView",
            "style": "IPY_MODEL_734911299d3d4e56ad6f5b01a46d3dee",
            "_dom_classes": [],
            "description": "",
            "_model_name": "HTMLModel",
            "placeholder": "​",
            "_view_module": "@jupyter-widgets/controls",
            "_model_module_version": "1.5.0",
            "value": "transcribing /content/President%2...:\t: 100%",
            "_view_count": null,
            "_view_module_version": "1.5.0",
            "description_tooltip": null,
            "_model_module": "@jupyter-widgets/controls",
            "layout": "IPY_MODEL_fbab5d9e387643d0981c7a25e8a1aaa5"
          }
        },
        "579911f2e3744f5cb24454a32d12f0a0": {
          "model_module": "@jupyter-widgets/controls",
          "model_name": "FloatProgressModel",
          "model_module_version": "1.5.0",
          "state": {
            "_view_name": "ProgressView",
            "style": "IPY_MODEL_51de8ff0c38045fb85e9e77908eecf73",
            "_dom_classes": [],
            "description": "",
            "_model_name": "FloatProgressModel",
            "bar_style": "success",
            "max": 16,
            "_view_module": "@jupyter-widgets/controls",
            "_model_module_version": "1.5.0",
            "value": 16,
            "_view_count": null,
            "_view_module_version": "1.5.0",
            "orientation": "horizontal",
            "min": 0,
            "description_tooltip": null,
            "_model_module": "@jupyter-widgets/controls",
            "layout": "IPY_MODEL_87b51f2da20c421882c11fddb6b76381"
          }
        },
        "8fed54a558f6474593023e2666037a3a": {
          "model_module": "@jupyter-widgets/controls",
          "model_name": "HTMLModel",
          "model_module_version": "1.5.0",
          "state": {
            "_view_name": "HTMLView",
            "style": "IPY_MODEL_863e065d4ae5450980049cad7922fadf",
            "_dom_classes": [],
            "description": "",
            "_model_name": "HTMLModel",
            "placeholder": "​",
            "_view_module": "@jupyter-widgets/controls",
            "_model_module_version": "1.5.0",
            "value": " 16/16 [00:32&lt;00:00,  1.06it/s]",
            "_view_count": null,
            "_view_module_version": "1.5.0",
            "description_tooltip": null,
            "_model_module": "@jupyter-widgets/controls",
            "layout": "IPY_MODEL_05ab2fd5f69649deb8cc6120cd880c06"
          }
        },
        "734911299d3d4e56ad6f5b01a46d3dee": {
          "model_module": "@jupyter-widgets/controls",
          "model_name": "DescriptionStyleModel",
          "model_module_version": "1.5.0",
          "state": {
            "_view_name": "StyleView",
            "_model_name": "DescriptionStyleModel",
            "description_width": "",
            "_view_module": "@jupyter-widgets/base",
            "_model_module_version": "1.5.0",
            "_view_count": null,
            "_view_module_version": "1.2.0",
            "_model_module": "@jupyter-widgets/controls"
          }
        },
        "fbab5d9e387643d0981c7a25e8a1aaa5": {
          "model_module": "@jupyter-widgets/base",
          "model_name": "LayoutModel",
          "model_module_version": "1.2.0",
          "state": {
            "_view_name": "LayoutView",
            "grid_template_rows": null,
            "right": null,
            "justify_content": null,
            "_view_module": "@jupyter-widgets/base",
            "overflow": null,
            "_model_module_version": "1.2.0",
            "_view_count": null,
            "flex_flow": null,
            "width": null,
            "min_width": null,
            "border": null,
            "align_items": null,
            "bottom": null,
            "_model_module": "@jupyter-widgets/base",
            "top": null,
            "grid_column": null,
            "overflow_y": null,
            "overflow_x": null,
            "grid_auto_flow": null,
            "grid_area": null,
            "grid_template_columns": null,
            "flex": null,
            "_model_name": "LayoutModel",
            "justify_items": null,
            "grid_row": null,
            "max_height": null,
            "align_content": null,
            "visibility": null,
            "align_self": null,
            "height": null,
            "min_height": null,
            "padding": null,
            "grid_auto_rows": null,
            "grid_gap": null,
            "max_width": null,
            "order": null,
            "_view_module_version": "1.2.0",
            "grid_template_areas": null,
            "object_position": null,
            "object_fit": null,
            "grid_auto_columns": null,
            "margin": null,
            "display": null,
            "left": null
          }
        },
        "51de8ff0c38045fb85e9e77908eecf73": {
          "model_module": "@jupyter-widgets/controls",
          "model_name": "ProgressStyleModel",
          "model_module_version": "1.5.0",
          "state": {
            "_view_name": "StyleView",
            "_model_name": "ProgressStyleModel",
            "description_width": "",
            "_view_module": "@jupyter-widgets/base",
            "_model_module_version": "1.5.0",
            "_view_count": null,
            "_view_module_version": "1.2.0",
            "bar_color": null,
            "_model_module": "@jupyter-widgets/controls"
          }
        },
        "87b51f2da20c421882c11fddb6b76381": {
          "model_module": "@jupyter-widgets/base",
          "model_name": "LayoutModel",
          "model_module_version": "1.2.0",
          "state": {
            "_view_name": "LayoutView",
            "grid_template_rows": null,
            "right": null,
            "justify_content": null,
            "_view_module": "@jupyter-widgets/base",
            "overflow": null,
            "_model_module_version": "1.2.0",
            "_view_count": null,
            "flex_flow": null,
            "width": null,
            "min_width": null,
            "border": null,
            "align_items": null,
            "bottom": null,
            "_model_module": "@jupyter-widgets/base",
            "top": null,
            "grid_column": null,
            "overflow_y": null,
            "overflow_x": null,
            "grid_auto_flow": null,
            "grid_area": null,
            "grid_template_columns": null,
            "flex": null,
            "_model_name": "LayoutModel",
            "justify_items": null,
            "grid_row": null,
            "max_height": null,
            "align_content": null,
            "visibility": null,
            "align_self": null,
            "height": null,
            "min_height": null,
            "padding": null,
            "grid_auto_rows": null,
            "grid_gap": null,
            "max_width": null,
            "order": null,
            "_view_module_version": "1.2.0",
            "grid_template_areas": null,
            "object_position": null,
            "object_fit": null,
            "grid_auto_columns": null,
            "margin": null,
            "display": null,
            "left": null
          }
        },
        "863e065d4ae5450980049cad7922fadf": {
          "model_module": "@jupyter-widgets/controls",
          "model_name": "DescriptionStyleModel",
          "model_module_version": "1.5.0",
          "state": {
            "_view_name": "StyleView",
            "_model_name": "DescriptionStyleModel",
            "description_width": "",
            "_view_module": "@jupyter-widgets/base",
            "_model_module_version": "1.5.0",
            "_view_count": null,
            "_view_module_version": "1.2.0",
            "_model_module": "@jupyter-widgets/controls"
          }
        },
        "05ab2fd5f69649deb8cc6120cd880c06": {
          "model_module": "@jupyter-widgets/base",
          "model_name": "LayoutModel",
          "model_module_version": "1.2.0",
          "state": {
            "_view_name": "LayoutView",
            "grid_template_rows": null,
            "right": null,
            "justify_content": null,
            "_view_module": "@jupyter-widgets/base",
            "overflow": null,
            "_model_module_version": "1.2.0",
            "_view_count": null,
            "flex_flow": null,
            "width": null,
            "min_width": null,
            "border": null,
            "align_items": null,
            "bottom": null,
            "_model_module": "@jupyter-widgets/base",
            "top": null,
            "grid_column": null,
            "overflow_y": null,
            "overflow_x": null,
            "grid_auto_flow": null,
            "grid_area": null,
            "grid_template_columns": null,
            "flex": null,
            "_model_name": "LayoutModel",
            "justify_items": null,
            "grid_row": null,
            "max_height": null,
            "align_content": null,
            "visibility": null,
            "align_self": null,
            "height": null,
            "min_height": null,
            "padding": null,
            "grid_auto_rows": null,
            "grid_gap": null,
            "max_width": null,
            "order": null,
            "_view_module_version": "1.2.0",
            "grid_template_areas": null,
            "object_position": null,
            "object_fit": null,
            "grid_auto_columns": null,
            "margin": null,
            "display": null,
            "left": null
          }
        },
        "14438219f6d04090912eeccd34e0d980": {
          "model_module": "@jupyter-widgets/controls",
          "model_name": "HBoxModel",
          "model_module_version": "1.5.0",
          "state": {
            "_view_name": "HBoxView",
            "_dom_classes": [],
            "_model_name": "HBoxModel",
            "_view_module": "@jupyter-widgets/controls",
            "_model_module_version": "1.5.0",
            "_view_count": null,
            "_view_module_version": "1.5.0",
            "box_style": "",
            "layout": "IPY_MODEL_3d82264935cb4a639b10375e415e609c",
            "_model_module": "@jupyter-widgets/controls",
            "children": [
              "IPY_MODEL_061d06cbb9e74d15be31dc43dd5ed0fe",
              "IPY_MODEL_111bf98ab3534ef3b2ea2498c7c25f0c",
              "IPY_MODEL_c415e068b3d3434aa61854f55c7e0db8"
            ]
          }
        },
        "3d82264935cb4a639b10375e415e609c": {
          "model_module": "@jupyter-widgets/base",
          "model_name": "LayoutModel",
          "model_module_version": "1.2.0",
          "state": {
            "_view_name": "LayoutView",
            "grid_template_rows": null,
            "right": null,
            "justify_content": null,
            "_view_module": "@jupyter-widgets/base",
            "overflow": null,
            "_model_module_version": "1.2.0",
            "_view_count": null,
            "flex_flow": null,
            "width": null,
            "min_width": null,
            "border": null,
            "align_items": null,
            "bottom": null,
            "_model_module": "@jupyter-widgets/base",
            "top": null,
            "grid_column": null,
            "overflow_y": null,
            "overflow_x": null,
            "grid_auto_flow": null,
            "grid_area": null,
            "grid_template_columns": null,
            "flex": null,
            "_model_name": "LayoutModel",
            "justify_items": null,
            "grid_row": null,
            "max_height": null,
            "align_content": null,
            "visibility": null,
            "align_self": null,
            "height": null,
            "min_height": null,
            "padding": null,
            "grid_auto_rows": null,
            "grid_gap": null,
            "max_width": null,
            "order": null,
            "_view_module_version": "1.2.0",
            "grid_template_areas": null,
            "object_position": null,
            "object_fit": null,
            "grid_auto_columns": null,
            "margin": null,
            "display": null,
            "left": null
          }
        },
        "061d06cbb9e74d15be31dc43dd5ed0fe": {
          "model_module": "@jupyter-widgets/controls",
          "model_name": "HTMLModel",
          "model_module_version": "1.5.0",
          "state": {
            "_view_name": "HTMLView",
            "style": "IPY_MODEL_76e0d5879d1f4397b1ff6cffa16c9c2d",
            "_dom_classes": [],
            "description": "",
            "_model_name": "HTMLModel",
            "placeholder": "​",
            "_view_module": "@jupyter-widgets/controls",
            "_model_module_version": "1.5.0",
            "value": "spellcorrect_pipeline on transcriptions: 100%",
            "_view_count": null,
            "_view_module_version": "1.5.0",
            "description_tooltip": null,
            "_model_module": "@jupyter-widgets/controls",
            "layout": "IPY_MODEL_dde5f7b6a7f84080956a8a5bd4be9cf7"
          }
        },
        "111bf98ab3534ef3b2ea2498c7c25f0c": {
          "model_module": "@jupyter-widgets/controls",
          "model_name": "FloatProgressModel",
          "model_module_version": "1.5.0",
          "state": {
            "_view_name": "ProgressView",
            "style": "IPY_MODEL_70597068ff4b4c2a8a8b75e861c4fda3",
            "_dom_classes": [],
            "description": "",
            "_model_name": "FloatProgressModel",
            "bar_style": "success",
            "max": 1,
            "_view_module": "@jupyter-widgets/controls",
            "_model_module_version": "1.5.0",
            "value": 1,
            "_view_count": null,
            "_view_module_version": "1.5.0",
            "orientation": "horizontal",
            "min": 0,
            "description_tooltip": null,
            "_model_module": "@jupyter-widgets/controls",
            "layout": "IPY_MODEL_a2b7bd79008340c4813b30fabda90503"
          }
        },
        "c415e068b3d3434aa61854f55c7e0db8": {
          "model_module": "@jupyter-widgets/controls",
          "model_name": "HTMLModel",
          "model_module_version": "1.5.0",
          "state": {
            "_view_name": "HTMLView",
            "style": "IPY_MODEL_c6dc67df27954a4194894732b98d8e36",
            "_dom_classes": [],
            "description": "",
            "_model_name": "HTMLModel",
            "placeholder": "​",
            "_view_module": "@jupyter-widgets/controls",
            "_model_module_version": "1.5.0",
            "value": " 1/1 [00:02&lt;00:00,  2.42s/it]",
            "_view_count": null,
            "_view_module_version": "1.5.0",
            "description_tooltip": null,
            "_model_module": "@jupyter-widgets/controls",
            "layout": "IPY_MODEL_f33192ae529f41c9bd8d9ef3a069daf4"
          }
        },
        "76e0d5879d1f4397b1ff6cffa16c9c2d": {
          "model_module": "@jupyter-widgets/controls",
          "model_name": "DescriptionStyleModel",
          "model_module_version": "1.5.0",
          "state": {
            "_view_name": "StyleView",
            "_model_name": "DescriptionStyleModel",
            "description_width": "",
            "_view_module": "@jupyter-widgets/base",
            "_model_module_version": "1.5.0",
            "_view_count": null,
            "_view_module_version": "1.2.0",
            "_model_module": "@jupyter-widgets/controls"
          }
        },
        "dde5f7b6a7f84080956a8a5bd4be9cf7": {
          "model_module": "@jupyter-widgets/base",
          "model_name": "LayoutModel",
          "model_module_version": "1.2.0",
          "state": {
            "_view_name": "LayoutView",
            "grid_template_rows": null,
            "right": null,
            "justify_content": null,
            "_view_module": "@jupyter-widgets/base",
            "overflow": null,
            "_model_module_version": "1.2.0",
            "_view_count": null,
            "flex_flow": null,
            "width": null,
            "min_width": null,
            "border": null,
            "align_items": null,
            "bottom": null,
            "_model_module": "@jupyter-widgets/base",
            "top": null,
            "grid_column": null,
            "overflow_y": null,
            "overflow_x": null,
            "grid_auto_flow": null,
            "grid_area": null,
            "grid_template_columns": null,
            "flex": null,
            "_model_name": "LayoutModel",
            "justify_items": null,
            "grid_row": null,
            "max_height": null,
            "align_content": null,
            "visibility": null,
            "align_self": null,
            "height": null,
            "min_height": null,
            "padding": null,
            "grid_auto_rows": null,
            "grid_gap": null,
            "max_width": null,
            "order": null,
            "_view_module_version": "1.2.0",
            "grid_template_areas": null,
            "object_position": null,
            "object_fit": null,
            "grid_auto_columns": null,
            "margin": null,
            "display": null,
            "left": null
          }
        },
        "70597068ff4b4c2a8a8b75e861c4fda3": {
          "model_module": "@jupyter-widgets/controls",
          "model_name": "ProgressStyleModel",
          "model_module_version": "1.5.0",
          "state": {
            "_view_name": "StyleView",
            "_model_name": "ProgressStyleModel",
            "description_width": "",
            "_view_module": "@jupyter-widgets/base",
            "_model_module_version": "1.5.0",
            "_view_count": null,
            "_view_module_version": "1.2.0",
            "bar_color": null,
            "_model_module": "@jupyter-widgets/controls"
          }
        },
        "a2b7bd79008340c4813b30fabda90503": {
          "model_module": "@jupyter-widgets/base",
          "model_name": "LayoutModel",
          "model_module_version": "1.2.0",
          "state": {
            "_view_name": "LayoutView",
            "grid_template_rows": null,
            "right": null,
            "justify_content": null,
            "_view_module": "@jupyter-widgets/base",
            "overflow": null,
            "_model_module_version": "1.2.0",
            "_view_count": null,
            "flex_flow": null,
            "width": null,
            "min_width": null,
            "border": null,
            "align_items": null,
            "bottom": null,
            "_model_module": "@jupyter-widgets/base",
            "top": null,
            "grid_column": null,
            "overflow_y": null,
            "overflow_x": null,
            "grid_auto_flow": null,
            "grid_area": null,
            "grid_template_columns": null,
            "flex": null,
            "_model_name": "LayoutModel",
            "justify_items": null,
            "grid_row": null,
            "max_height": null,
            "align_content": null,
            "visibility": null,
            "align_self": null,
            "height": null,
            "min_height": null,
            "padding": null,
            "grid_auto_rows": null,
            "grid_gap": null,
            "max_width": null,
            "order": null,
            "_view_module_version": "1.2.0",
            "grid_template_areas": null,
            "object_position": null,
            "object_fit": null,
            "grid_auto_columns": null,
            "margin": null,
            "display": null,
            "left": null
          }
        },
        "c6dc67df27954a4194894732b98d8e36": {
          "model_module": "@jupyter-widgets/controls",
          "model_name": "DescriptionStyleModel",
          "model_module_version": "1.5.0",
          "state": {
            "_view_name": "StyleView",
            "_model_name": "DescriptionStyleModel",
            "description_width": "",
            "_view_module": "@jupyter-widgets/base",
            "_model_module_version": "1.5.0",
            "_view_count": null,
            "_view_module_version": "1.2.0",
            "_model_module": "@jupyter-widgets/controls"
          }
        },
        "f33192ae529f41c9bd8d9ef3a069daf4": {
          "model_module": "@jupyter-widgets/base",
          "model_name": "LayoutModel",
          "model_module_version": "1.2.0",
          "state": {
            "_view_name": "LayoutView",
            "grid_template_rows": null,
            "right": null,
            "justify_content": null,
            "_view_module": "@jupyter-widgets/base",
            "overflow": null,
            "_model_module_version": "1.2.0",
            "_view_count": null,
            "flex_flow": null,
            "width": null,
            "min_width": null,
            "border": null,
            "align_items": null,
            "bottom": null,
            "_model_module": "@jupyter-widgets/base",
            "top": null,
            "grid_column": null,
            "overflow_y": null,
            "overflow_x": null,
            "grid_auto_flow": null,
            "grid_area": null,
            "grid_template_columns": null,
            "flex": null,
            "_model_name": "LayoutModel",
            "justify_items": null,
            "grid_row": null,
            "max_height": null,
            "align_content": null,
            "visibility": null,
            "align_self": null,
            "height": null,
            "min_height": null,
            "padding": null,
            "grid_auto_rows": null,
            "grid_gap": null,
            "max_width": null,
            "order": null,
            "_view_module_version": "1.2.0",
            "grid_template_areas": null,
            "object_position": null,
            "object_fit": null,
            "grid_auto_columns": null,
            "margin": null,
            "display": null,
            "left": null
          }
        }
      }
    }
  },
  "nbformat": 4,
  "nbformat_minor": 0
}